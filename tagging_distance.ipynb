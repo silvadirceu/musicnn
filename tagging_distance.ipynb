{
 "cells": [
  {
   "cell_type": "markdown",
   "metadata": {},
   "source": [
    "# music audio tagging example\n",
    "\n",
    "### musicnn allows predicting music tags with just two lines of code\n",
    "\n",
    "-------\n",
    "\n",
    "In the following, you will learn how to use `musicnn` to automatically tag your music.\n",
    "To start, let's consider this music clip:"
   ]
  },
  {
   "cell_type": "code",
   "execution_count": 35,
   "metadata": {},
   "outputs": [],
   "source": [
    "import glob\n",
    "import os\n",
    "from musicnn.tagger import top_tags\n",
    "from musicnn.extractor import extractor\n",
    "from musicnn.configuration import MTT_LABELS_DICT_IDX, MSD_LABELS_DICT_IDX\n",
    "\n",
    "import deepdish as dd\n",
    "\n",
    "%matplotlib inline\n",
    "import numpy as np\n",
    "import matplotlib.pyplot as plt\n",
    "import matplotlib\n",
    "\n",
    "from scipy.spatial.distance import pdist, squareform\n",
    "from sklearn.metrics import confusion_matrix\n",
    "from sklearn.preprocessing import normalize, minmax_scale\n"
   ]
  },
  {
   "cell_type": "code",
   "execution_count": 7,
   "metadata": {},
   "outputs": [],
   "source": [
    "#file_name = './audio/joram-moments_of_clarity-08-solipsism-59-88.mp3'\n",
    "#file_name = '/media/dirceusilva/EAAC-94C8/BasesDados/GenerosMusicais/FonogramasPorGeneroMusical/BAIAO/3715207.ogg'\n",
    "file_name = '/media/dirceusilva/EAAC-94C8/BasesDados/GenerosMusicais/FonogramasPorGeneroMusical/CLASSICA/11560486.ogg'\n",
    "\n",
    "dir_base = '/media/dirceusilva/EAAC-94C8/BasesDados/GenerosMusicais/FonogramasPorGeneroMusical'\n",
    "dir_out = '/home/dirceusilva/Documentos/teste/coversbr'\n",
    "\n",
    "dir_out_results = '/mnt/HD2T/Testes/coversbr/MTT_musicnn' #os.path.join(dir_out,'results.h5')"
   ]
  },
  {
   "cell_type": "code",
   "execution_count": 8,
   "metadata": {},
   "outputs": [
    {
     "name": "stdout",
     "output_type": "stream",
     "text": [
      "840\n"
     ]
    }
   ],
   "source": [
    "\n",
    "extensions = ['**/*.ogg','**/*.wav','**/*.mp3']\n",
    "files = []\n",
    "for e in extensions:\n",
    "    files_path = os.path.join(dir_base,e)\n",
    "    files.extend(glob.glob(files_path, recursive = True))\n",
    "\n",
    "print(len(files))"
   ]
  },
  {
   "cell_type": "markdown",
   "metadata": {},
   "source": [
    "Run these two code lines to predict the `top3` most likely tags according to our `MTT model`:"
   ]
  },
  {
   "cell_type": "code",
   "execution_count": 9,
   "metadata": {
    "scrolled": true
   },
   "outputs": [],
   "source": [
    "\n",
    "# 'MTT_musicnn', 'MSD_musicnn', and 'MSD_musicnn_big'.\n",
    "model_type='MTT_musicnn'\n",
    "if model_type == 'MSD_musicnn':\n",
    "    tags_idx = MSD_LABELS_DICT_IDX\n",
    "else:\n",
    "    tags_idx = MTT_LABELS_DICT_IDX\n",
    "    \n",
    "    \n",
    "# tags = top_tags(file_name, model=model_type, topN=3)\n",
    "# print(tags)"
   ]
  },
  {
   "cell_type": "markdown",
   "metadata": {},
   "source": [
    "-----------------------------\n",
    "### Are you interested in the temporal evolution of these tags? \n",
    "\n",
    "Instead of predicting song-level tags, you can also plot the **Taggram**:"
   ]
  },
  {
   "cell_type": "code",
   "execution_count": 10,
   "metadata": {
    "scrolled": true
   },
   "outputs": [
    {
     "name": "stdout",
     "output_type": "stream",
     "text": [
      "0 /media/dirceusilva/EAAC-94C8/BasesDados/GenerosMusicais/FonogramasPorGeneroMusical/AXE MUSIC/1082109.ogg\n",
      "Computing spectrogram (w/ librosa) and tags (w/ tensorflow).. done!\n",
      "1 /media/dirceusilva/EAAC-94C8/BasesDados/GenerosMusicais/FonogramasPorGeneroMusical/AXE MUSIC/1126029.ogg\n",
      "Computing spectrogram (w/ librosa) and tags (w/ tensorflow).. done!\n",
      "2 /media/dirceusilva/EAAC-94C8/BasesDados/GenerosMusicais/FonogramasPorGeneroMusical/AXE MUSIC/1162174.ogg\n",
      "Computing spectrogram (w/ librosa) and tags (w/ tensorflow).. done!\n",
      "3 /media/dirceusilva/EAAC-94C8/BasesDados/GenerosMusicais/FonogramasPorGeneroMusical/AXE MUSIC/1176235.ogg\n",
      "Computing spectrogram (w/ librosa) and tags (w/ tensorflow).. done!\n",
      "4 /media/dirceusilva/EAAC-94C8/BasesDados/GenerosMusicais/FonogramasPorGeneroMusical/AXE MUSIC/1216661.ogg\n",
      "Computing spectrogram (w/ librosa) and tags (w/ tensorflow).. done!\n",
      "5 /media/dirceusilva/EAAC-94C8/BasesDados/GenerosMusicais/FonogramasPorGeneroMusical/AXE MUSIC/1380141.ogg\n",
      "Computing spectrogram (w/ librosa) and tags (w/ tensorflow).. done!\n",
      "6 /media/dirceusilva/EAAC-94C8/BasesDados/GenerosMusicais/FonogramasPorGeneroMusical/AXE MUSIC/1459256.ogg\n",
      "Computing spectrogram (w/ librosa) and tags (w/ tensorflow).. done!\n",
      "7 /media/dirceusilva/EAAC-94C8/BasesDados/GenerosMusicais/FonogramasPorGeneroMusical/AXE MUSIC/1513669.ogg\n",
      "Computing spectrogram (w/ librosa) and tags (w/ tensorflow).. done!\n",
      "8 /media/dirceusilva/EAAC-94C8/BasesDados/GenerosMusicais/FonogramasPorGeneroMusical/AXE MUSIC/1600029.ogg\n",
      "Computing spectrogram (w/ librosa) and tags (w/ tensorflow).. done!\n",
      "9 /media/dirceusilva/EAAC-94C8/BasesDados/GenerosMusicais/FonogramasPorGeneroMusical/AXE MUSIC/1697888.ogg\n",
      "Computing spectrogram (w/ librosa) and tags (w/ tensorflow).. done!\n",
      "10 /media/dirceusilva/EAAC-94C8/BasesDados/GenerosMusicais/FonogramasPorGeneroMusical/AXE MUSIC/1728553.ogg\n",
      "Computing spectrogram (w/ librosa) and tags (w/ tensorflow).. done!\n",
      "11 /media/dirceusilva/EAAC-94C8/BasesDados/GenerosMusicais/FonogramasPorGeneroMusical/AXE MUSIC/1739252.ogg\n",
      "Computing spectrogram (w/ librosa) and tags (w/ tensorflow).. done!\n",
      "12 /media/dirceusilva/EAAC-94C8/BasesDados/GenerosMusicais/FonogramasPorGeneroMusical/AXE MUSIC/1753890.ogg\n",
      "Computing spectrogram (w/ librosa) and tags (w/ tensorflow).. done!\n",
      "13 /media/dirceusilva/EAAC-94C8/BasesDados/GenerosMusicais/FonogramasPorGeneroMusical/AXE MUSIC/1759211.ogg\n",
      "Computing spectrogram (w/ librosa) and tags (w/ tensorflow).. done!\n",
      "14 /media/dirceusilva/EAAC-94C8/BasesDados/GenerosMusicais/FonogramasPorGeneroMusical/AXE MUSIC/2932489.ogg\n",
      "Computing spectrogram (w/ librosa) and tags (w/ tensorflow).. done!\n",
      "15 /media/dirceusilva/EAAC-94C8/BasesDados/GenerosMusicais/FonogramasPorGeneroMusical/AXE MUSIC/3620160.ogg\n",
      "Computing spectrogram (w/ librosa) and tags (w/ tensorflow).. done!\n",
      "16 /media/dirceusilva/EAAC-94C8/BasesDados/GenerosMusicais/FonogramasPorGeneroMusical/AXE MUSIC/3620168.ogg\n",
      "Computing spectrogram (w/ librosa) and tags (w/ tensorflow).. done!\n",
      "17 /media/dirceusilva/EAAC-94C8/BasesDados/GenerosMusicais/FonogramasPorGeneroMusical/AXE MUSIC/821822.ogg\n",
      "Computing spectrogram (w/ librosa) and tags (w/ tensorflow).. done!\n",
      "18 /media/dirceusilva/EAAC-94C8/BasesDados/GenerosMusicais/FonogramasPorGeneroMusical/AXE MUSIC/961689.ogg\n",
      "Computing spectrogram (w/ librosa) and tags (w/ tensorflow).. done!\n",
      "19 /media/dirceusilva/EAAC-94C8/BasesDados/GenerosMusicais/FonogramasPorGeneroMusical/AXE MUSIC/962181.ogg\n",
      "Computing spectrogram (w/ librosa) and tags (w/ tensorflow).. done!\n",
      "20 /media/dirceusilva/EAAC-94C8/BasesDados/GenerosMusicais/FonogramasPorGeneroMusical/BAIAO/1096129.ogg\n",
      "Computing spectrogram (w/ librosa) and tags (w/ tensorflow).. done!\n",
      "21 /media/dirceusilva/EAAC-94C8/BasesDados/GenerosMusicais/FonogramasPorGeneroMusical/BAIAO/1450546.ogg\n",
      "Computing spectrogram (w/ librosa) and tags (w/ tensorflow).. done!\n",
      "22 /media/dirceusilva/EAAC-94C8/BasesDados/GenerosMusicais/FonogramasPorGeneroMusical/BAIAO/1519654.ogg\n",
      "Computing spectrogram (w/ librosa) and tags (w/ tensorflow).. done!\n",
      "23 /media/dirceusilva/EAAC-94C8/BasesDados/GenerosMusicais/FonogramasPorGeneroMusical/BAIAO/1536355.ogg\n",
      "Computing spectrogram (w/ librosa) and tags (w/ tensorflow).. done!\n",
      "24 /media/dirceusilva/EAAC-94C8/BasesDados/GenerosMusicais/FonogramasPorGeneroMusical/BAIAO/2045724.ogg\n",
      "Computing spectrogram (w/ librosa) and tags (w/ tensorflow).. done!\n",
      "25 /media/dirceusilva/EAAC-94C8/BasesDados/GenerosMusicais/FonogramasPorGeneroMusical/BAIAO/2451568.ogg\n",
      "Computing spectrogram (w/ librosa) and tags (w/ tensorflow).. done!\n",
      "26 /media/dirceusilva/EAAC-94C8/BasesDados/GenerosMusicais/FonogramasPorGeneroMusical/BAIAO/2632999.ogg\n",
      "Computing spectrogram (w/ librosa) and tags (w/ tensorflow).. done!\n",
      "27 /media/dirceusilva/EAAC-94C8/BasesDados/GenerosMusicais/FonogramasPorGeneroMusical/BAIAO/3097288.ogg\n",
      "Computing spectrogram (w/ librosa) and tags (w/ tensorflow).. done!\n",
      "28 /media/dirceusilva/EAAC-94C8/BasesDados/GenerosMusicais/FonogramasPorGeneroMusical/BAIAO/3715205.ogg\n",
      "Computing spectrogram (w/ librosa) and tags (w/ tensorflow).. done!\n",
      "29 /media/dirceusilva/EAAC-94C8/BasesDados/GenerosMusicais/FonogramasPorGeneroMusical/BAIAO/3715207.ogg\n",
      "Computing spectrogram (w/ librosa) and tags (w/ tensorflow).. done!\n",
      "30 /media/dirceusilva/EAAC-94C8/BasesDados/GenerosMusicais/FonogramasPorGeneroMusical/BAIAO/3715211.ogg\n",
      "Computing spectrogram (w/ librosa) and tags (w/ tensorflow).. done!\n",
      "31 /media/dirceusilva/EAAC-94C8/BasesDados/GenerosMusicais/FonogramasPorGeneroMusical/BAIAO/3715212.ogg\n",
      "Computing spectrogram (w/ librosa) and tags (w/ tensorflow).. done!\n",
      "32 /media/dirceusilva/EAAC-94C8/BasesDados/GenerosMusicais/FonogramasPorGeneroMusical/BAIAO/3715218.ogg\n",
      "Computing spectrogram (w/ librosa) and tags (w/ tensorflow).. done!\n",
      "33 /media/dirceusilva/EAAC-94C8/BasesDados/GenerosMusicais/FonogramasPorGeneroMusical/BAIAO/48656.ogg\n",
      "Computing spectrogram (w/ librosa) and tags (w/ tensorflow).. done!\n",
      "34 /media/dirceusilva/EAAC-94C8/BasesDados/GenerosMusicais/FonogramasPorGeneroMusical/BALADA/1045540.ogg\n",
      "Computing spectrogram (w/ librosa) and tags (w/ tensorflow).. done!\n",
      "35 /media/dirceusilva/EAAC-94C8/BasesDados/GenerosMusicais/FonogramasPorGeneroMusical/BALADA/1068997.ogg\n",
      "Computing spectrogram (w/ librosa) and tags (w/ tensorflow).. done!\n",
      "36 /media/dirceusilva/EAAC-94C8/BasesDados/GenerosMusicais/FonogramasPorGeneroMusical/BALADA/1154294.ogg\n",
      "Computing spectrogram (w/ librosa) and tags (w/ tensorflow).. done!\n",
      "37 /media/dirceusilva/EAAC-94C8/BasesDados/GenerosMusicais/FonogramasPorGeneroMusical/BALADA/1154302.ogg\n",
      "Computing spectrogram (w/ librosa) and tags (w/ tensorflow).. done!\n",
      "38 /media/dirceusilva/EAAC-94C8/BasesDados/GenerosMusicais/FonogramasPorGeneroMusical/BALADA/1341460.ogg\n",
      "Computing spectrogram (w/ librosa) and tags (w/ tensorflow).. done!\n",
      "39 /media/dirceusilva/EAAC-94C8/BasesDados/GenerosMusicais/FonogramasPorGeneroMusical/BALADA/1484693.ogg\n",
      "Computing spectrogram (w/ librosa) and tags (w/ tensorflow).. done!\n",
      "40 /media/dirceusilva/EAAC-94C8/BasesDados/GenerosMusicais/FonogramasPorGeneroMusical/BALADA/1519662.ogg\n",
      "Computing spectrogram (w/ librosa) and tags (w/ tensorflow).. done!\n",
      "41 /media/dirceusilva/EAAC-94C8/BasesDados/GenerosMusicais/FonogramasPorGeneroMusical/BALADA/1576529.ogg\n",
      "Computing spectrogram (w/ librosa) and tags (w/ tensorflow).. done!\n",
      "42 /media/dirceusilva/EAAC-94C8/BasesDados/GenerosMusicais/FonogramasPorGeneroMusical/BALADA/1576628.ogg\n",
      "Computing spectrogram (w/ librosa) and tags (w/ tensorflow).. done!\n",
      "43 /media/dirceusilva/EAAC-94C8/BasesDados/GenerosMusicais/FonogramasPorGeneroMusical/BALADA/1576634.ogg\n",
      "Computing spectrogram (w/ librosa) and tags (w/ tensorflow).. done!\n",
      "44 /media/dirceusilva/EAAC-94C8/BasesDados/GenerosMusicais/FonogramasPorGeneroMusical/BALADA/1581285.ogg\n",
      "Computing spectrogram (w/ librosa) and tags (w/ tensorflow).. done!\n",
      "45 /media/dirceusilva/EAAC-94C8/BasesDados/GenerosMusicais/FonogramasPorGeneroMusical/BALADA/1662002.ogg\n",
      "Computing spectrogram (w/ librosa) and tags (w/ tensorflow).. done!\n",
      "46 /media/dirceusilva/EAAC-94C8/BasesDados/GenerosMusicais/FonogramasPorGeneroMusical/BALADA/1663075.ogg\n",
      "Computing spectrogram (w/ librosa) and tags (w/ tensorflow).. done!\n",
      "47 /media/dirceusilva/EAAC-94C8/BasesDados/GenerosMusicais/FonogramasPorGeneroMusical/BALADA/1680480.ogg\n"
     ]
    },
    {
     "name": "stdout",
     "output_type": "stream",
     "text": [
      "Computing spectrogram (w/ librosa) and tags (w/ tensorflow).. done!\n",
      "48 /media/dirceusilva/EAAC-94C8/BasesDados/GenerosMusicais/FonogramasPorGeneroMusical/BALADA/1720468.ogg\n",
      "Computing spectrogram (w/ librosa) and tags (w/ tensorflow).. done!\n",
      "49 /media/dirceusilva/EAAC-94C8/BasesDados/GenerosMusicais/FonogramasPorGeneroMusical/BALADA/2451582.ogg\n",
      "Computing spectrogram (w/ librosa) and tags (w/ tensorflow).. done!\n",
      "50 /media/dirceusilva/EAAC-94C8/BasesDados/GenerosMusicais/FonogramasPorGeneroMusical/BALADA/3097295.ogg\n",
      "Computing spectrogram (w/ librosa) and tags (w/ tensorflow).. done!\n",
      "51 /media/dirceusilva/EAAC-94C8/BasesDados/GenerosMusicais/FonogramasPorGeneroMusical/BALADA/3620015.ogg\n",
      "Computing spectrogram (w/ librosa) and tags (w/ tensorflow).. done!\n",
      "52 /media/dirceusilva/EAAC-94C8/BasesDados/GenerosMusicais/FonogramasPorGeneroMusical/BALADA/500151.ogg\n",
      "Computing spectrogram (w/ librosa) and tags (w/ tensorflow).. done!\n",
      "53 /media/dirceusilva/EAAC-94C8/BasesDados/GenerosMusicais/FonogramasPorGeneroMusical/BALADA/9287029.ogg\n",
      "Computing spectrogram (w/ librosa) and tags (w/ tensorflow).. done!\n",
      "54 /media/dirceusilva/EAAC-94C8/BasesDados/GenerosMusicais/FonogramasPorGeneroMusical/BLUES/1072363.ogg\n",
      "Computing spectrogram (w/ librosa) and tags (w/ tensorflow).. done!\n",
      "55 /media/dirceusilva/EAAC-94C8/BasesDados/GenerosMusicais/FonogramasPorGeneroMusical/BLUES/1107225.ogg\n",
      "Computing spectrogram (w/ librosa) and tags (w/ tensorflow).. done!\n",
      "56 /media/dirceusilva/EAAC-94C8/BasesDados/GenerosMusicais/FonogramasPorGeneroMusical/BLUES/11428821.ogg\n",
      "Computing spectrogram (w/ librosa) and tags (w/ tensorflow).. done!\n",
      "57 /media/dirceusilva/EAAC-94C8/BasesDados/GenerosMusicais/FonogramasPorGeneroMusical/BLUES/1257952.ogg\n",
      "Computing spectrogram (w/ librosa) and tags (w/ tensorflow).. done!\n",
      "58 /media/dirceusilva/EAAC-94C8/BasesDados/GenerosMusicais/FonogramasPorGeneroMusical/BLUES/1380506.ogg\n",
      "Computing spectrogram (w/ librosa) and tags (w/ tensorflow).. done!\n",
      "59 /media/dirceusilva/EAAC-94C8/BasesDados/GenerosMusicais/FonogramasPorGeneroMusical/BLUES/1384818.ogg\n",
      "Computing spectrogram (w/ librosa) and tags (w/ tensorflow).. done!\n",
      "60 /media/dirceusilva/EAAC-94C8/BasesDados/GenerosMusicais/FonogramasPorGeneroMusical/BLUES/1422543.ogg\n",
      "Computing spectrogram (w/ librosa) and tags (w/ tensorflow).. done!\n",
      "61 /media/dirceusilva/EAAC-94C8/BasesDados/GenerosMusicais/FonogramasPorGeneroMusical/BLUES/1431541.ogg\n",
      "Computing spectrogram (w/ librosa) and tags (w/ tensorflow).. done!\n",
      "62 /media/dirceusilva/EAAC-94C8/BasesDados/GenerosMusicais/FonogramasPorGeneroMusical/BLUES/1522911.ogg\n",
      "Computing spectrogram (w/ librosa) and tags (w/ tensorflow).. done!\n",
      "63 /media/dirceusilva/EAAC-94C8/BasesDados/GenerosMusicais/FonogramasPorGeneroMusical/BLUES/1576527.ogg\n",
      "Computing spectrogram (w/ librosa) and tags (w/ tensorflow).. done!\n",
      "64 /media/dirceusilva/EAAC-94C8/BasesDados/GenerosMusicais/FonogramasPorGeneroMusical/BLUES/1576625.ogg\n",
      "Computing spectrogram (w/ librosa) and tags (w/ tensorflow).. done!\n",
      "65 /media/dirceusilva/EAAC-94C8/BasesDados/GenerosMusicais/FonogramasPorGeneroMusical/BLUES/1576626.ogg\n",
      "Computing spectrogram (w/ librosa) and tags (w/ tensorflow).. done!\n",
      "66 /media/dirceusilva/EAAC-94C8/BasesDados/GenerosMusicais/FonogramasPorGeneroMusical/BLUES/1576633.ogg\n",
      "Computing spectrogram (w/ librosa) and tags (w/ tensorflow).. done!\n",
      "67 /media/dirceusilva/EAAC-94C8/BasesDados/GenerosMusicais/FonogramasPorGeneroMusical/BLUES/1592879.ogg\n",
      "Computing spectrogram (w/ librosa) and tags (w/ tensorflow).. done!\n",
      "68 /media/dirceusilva/EAAC-94C8/BasesDados/GenerosMusicais/FonogramasPorGeneroMusical/BLUES/1619360.ogg\n",
      "Computing spectrogram (w/ librosa) and tags (w/ tensorflow).. done!\n",
      "69 /media/dirceusilva/EAAC-94C8/BasesDados/GenerosMusicais/FonogramasPorGeneroMusical/BLUES/1703597.ogg\n",
      "Computing spectrogram (w/ librosa) and tags (w/ tensorflow).. done!\n",
      "70 /media/dirceusilva/EAAC-94C8/BasesDados/GenerosMusicais/FonogramasPorGeneroMusical/BLUES/2138745.ogg\n",
      "Computing spectrogram (w/ librosa) and tags (w/ tensorflow).. done!\n",
      "71 /media/dirceusilva/EAAC-94C8/BasesDados/GenerosMusicais/FonogramasPorGeneroMusical/BLUES/797667.ogg\n",
      "Computing spectrogram (w/ librosa) and tags (w/ tensorflow).. done!\n",
      "72 /media/dirceusilva/EAAC-94C8/BasesDados/GenerosMusicais/FonogramasPorGeneroMusical/BLUES/9968978.ogg\n",
      "Computing spectrogram (w/ librosa) and tags (w/ tensorflow).. done!\n",
      "73 /media/dirceusilva/EAAC-94C8/BasesDados/GenerosMusicais/FonogramasPorGeneroMusical/BOLERO/1001548.ogg\n",
      "Computing spectrogram (w/ librosa) and tags (w/ tensorflow).. done!\n",
      "74 /media/dirceusilva/EAAC-94C8/BasesDados/GenerosMusicais/FonogramasPorGeneroMusical/BOLERO/10431711.ogg\n",
      "Computing spectrogram (w/ librosa) and tags (w/ tensorflow).. done!\n",
      "75 /media/dirceusilva/EAAC-94C8/BasesDados/GenerosMusicais/FonogramasPorGeneroMusical/BOLERO/1084299.ogg\n",
      "Computing spectrogram (w/ librosa) and tags (w/ tensorflow).. done!\n",
      "76 /media/dirceusilva/EAAC-94C8/BasesDados/GenerosMusicais/FonogramasPorGeneroMusical/BOLERO/1098478.ogg\n",
      "Computing spectrogram (w/ librosa) and tags (w/ tensorflow).. done!\n",
      "77 /media/dirceusilva/EAAC-94C8/BasesDados/GenerosMusicais/FonogramasPorGeneroMusical/BOLERO/1205244.ogg\n",
      "Computing spectrogram (w/ librosa) and tags (w/ tensorflow).. done!\n",
      "78 /media/dirceusilva/EAAC-94C8/BasesDados/GenerosMusicais/FonogramasPorGeneroMusical/BOLERO/1329160.ogg\n",
      "Computing spectrogram (w/ librosa) and tags (w/ tensorflow).. done!\n",
      "79 /media/dirceusilva/EAAC-94C8/BasesDados/GenerosMusicais/FonogramasPorGeneroMusical/BOLERO/1333971.ogg\n",
      "Computing spectrogram (w/ librosa) and tags (w/ tensorflow).. done!\n",
      "80 /media/dirceusilva/EAAC-94C8/BasesDados/GenerosMusicais/FonogramasPorGeneroMusical/BOLERO/1382567.ogg\n",
      "Computing spectrogram (w/ librosa) and tags (w/ tensorflow).. done!\n",
      "81 /media/dirceusilva/EAAC-94C8/BasesDados/GenerosMusicais/FonogramasPorGeneroMusical/BOLERO/1500749.ogg\n",
      "Computing spectrogram (w/ librosa) and tags (w/ tensorflow).. done!\n",
      "82 /media/dirceusilva/EAAC-94C8/BasesDados/GenerosMusicais/FonogramasPorGeneroMusical/BOLERO/1506817.ogg\n",
      "Computing spectrogram (w/ librosa) and tags (w/ tensorflow).. done!\n",
      "83 /media/dirceusilva/EAAC-94C8/BasesDados/GenerosMusicais/FonogramasPorGeneroMusical/BOLERO/1537706.ogg\n",
      "Computing spectrogram (w/ librosa) and tags (w/ tensorflow).. done!\n",
      "84 /media/dirceusilva/EAAC-94C8/BasesDados/GenerosMusicais/FonogramasPorGeneroMusical/BOLERO/1619349.ogg\n",
      "Computing spectrogram (w/ librosa) and tags (w/ tensorflow).. done!\n",
      "85 /media/dirceusilva/EAAC-94C8/BasesDados/GenerosMusicais/FonogramasPorGeneroMusical/BOLERO/1644163.ogg\n",
      "Computing spectrogram (w/ librosa) and tags (w/ tensorflow).. done!\n",
      "86 /media/dirceusilva/EAAC-94C8/BasesDados/GenerosMusicais/FonogramasPorGeneroMusical/BOLERO/2451584.ogg\n",
      "Computing spectrogram (w/ librosa) and tags (w/ tensorflow).. done!\n",
      "87 /media/dirceusilva/EAAC-94C8/BasesDados/GenerosMusicais/FonogramasPorGeneroMusical/BOLERO/2597429.ogg\n",
      "Computing spectrogram (w/ librosa) and tags (w/ tensorflow).. done!\n",
      "88 /media/dirceusilva/EAAC-94C8/BasesDados/GenerosMusicais/FonogramasPorGeneroMusical/BOLERO/2753499.ogg\n",
      "Computing spectrogram (w/ librosa) and tags (w/ tensorflow).. done!\n",
      "89 /media/dirceusilva/EAAC-94C8/BasesDados/GenerosMusicais/FonogramasPorGeneroMusical/BOLERO/2873457.ogg\n",
      "Computing spectrogram (w/ librosa) and tags (w/ tensorflow).. done!\n",
      "90 /media/dirceusilva/EAAC-94C8/BasesDados/GenerosMusicais/FonogramasPorGeneroMusical/BOLERO/3097287.ogg\n",
      "Computing spectrogram (w/ librosa) and tags (w/ tensorflow).. done!\n",
      "91 /media/dirceusilva/EAAC-94C8/BasesDados/GenerosMusicais/FonogramasPorGeneroMusical/BOLERO/958096.ogg\n",
      "Computing spectrogram (w/ librosa) and tags (w/ tensorflow).. done!\n",
      "92 /media/dirceusilva/EAAC-94C8/BasesDados/GenerosMusicais/FonogramasPorGeneroMusical/BOLERO/980503.ogg\n",
      "Computing spectrogram (w/ librosa) and tags (w/ tensorflow).. done!\n",
      "93 /media/dirceusilva/EAAC-94C8/BasesDados/GenerosMusicais/FonogramasPorGeneroMusical/BOSSA NOVA/1072425.ogg\n",
      "Computing spectrogram (w/ librosa) and tags (w/ tensorflow).. done!\n",
      "94 /media/dirceusilva/EAAC-94C8/BasesDados/GenerosMusicais/FonogramasPorGeneroMusical/BOSSA NOVA/1077970.ogg\n",
      "Computing spectrogram (w/ librosa) and tags (w/ tensorflow).. done!\n",
      "95 /media/dirceusilva/EAAC-94C8/BasesDados/GenerosMusicais/FonogramasPorGeneroMusical/BOSSA NOVA/1087703.ogg\n"
     ]
    },
    {
     "name": "stdout",
     "output_type": "stream",
     "text": [
      "Computing spectrogram (w/ librosa) and tags (w/ tensorflow).. done!\n",
      "96 /media/dirceusilva/EAAC-94C8/BasesDados/GenerosMusicais/FonogramasPorGeneroMusical/BOSSA NOVA/1088860.ogg\n",
      "Computing spectrogram (w/ librosa) and tags (w/ tensorflow).. done!\n",
      "97 /media/dirceusilva/EAAC-94C8/BasesDados/GenerosMusicais/FonogramasPorGeneroMusical/BOSSA NOVA/1161254.ogg\n",
      "Computing spectrogram (w/ librosa) and tags (w/ tensorflow).. done!\n",
      "98 /media/dirceusilva/EAAC-94C8/BasesDados/GenerosMusicais/FonogramasPorGeneroMusical/BOSSA NOVA/1206518.ogg\n",
      "Computing spectrogram (w/ librosa) and tags (w/ tensorflow).. done!\n",
      "99 /media/dirceusilva/EAAC-94C8/BasesDados/GenerosMusicais/FonogramasPorGeneroMusical/BOSSA NOVA/1206617.ogg\n",
      "Computing spectrogram (w/ librosa) and tags (w/ tensorflow).. done!\n",
      "100 /media/dirceusilva/EAAC-94C8/BasesDados/GenerosMusicais/FonogramasPorGeneroMusical/BOSSA NOVA/1210044.ogg\n",
      "Computing spectrogram (w/ librosa) and tags (w/ tensorflow).. done!\n",
      "101 /media/dirceusilva/EAAC-94C8/BasesDados/GenerosMusicais/FonogramasPorGeneroMusical/BOSSA NOVA/1228263.ogg\n",
      "Computing spectrogram (w/ librosa) and tags (w/ tensorflow).. done!\n",
      "102 /media/dirceusilva/EAAC-94C8/BasesDados/GenerosMusicais/FonogramasPorGeneroMusical/BOSSA NOVA/1334050.ogg\n",
      "Computing spectrogram (w/ librosa) and tags (w/ tensorflow).. done!\n",
      "103 /media/dirceusilva/EAAC-94C8/BasesDados/GenerosMusicais/FonogramasPorGeneroMusical/BOSSA NOVA/1450328.ogg\n",
      "Computing spectrogram (w/ librosa) and tags (w/ tensorflow).. done!\n",
      "104 /media/dirceusilva/EAAC-94C8/BasesDados/GenerosMusicais/FonogramasPorGeneroMusical/BOSSA NOVA/1450336.ogg\n",
      "Computing spectrogram (w/ librosa) and tags (w/ tensorflow).. done!\n",
      "105 /media/dirceusilva/EAAC-94C8/BasesDados/GenerosMusicais/FonogramasPorGeneroMusical/BOSSA NOVA/1511554.ogg\n",
      "Computing spectrogram (w/ librosa) and tags (w/ tensorflow).. done!\n",
      "106 /media/dirceusilva/EAAC-94C8/BasesDados/GenerosMusicais/FonogramasPorGeneroMusical/BOSSA NOVA/1511565.ogg\n",
      "Computing spectrogram (w/ librosa) and tags (w/ tensorflow).. done!\n",
      "107 /media/dirceusilva/EAAC-94C8/BasesDados/GenerosMusicais/FonogramasPorGeneroMusical/BOSSA NOVA/1511590.ogg\n",
      "Computing spectrogram (w/ librosa) and tags (w/ tensorflow).. done!\n",
      "108 /media/dirceusilva/EAAC-94C8/BasesDados/GenerosMusicais/FonogramasPorGeneroMusical/BOSSA NOVA/1546489.ogg\n",
      "Computing spectrogram (w/ librosa) and tags (w/ tensorflow).. done!\n",
      "109 /media/dirceusilva/EAAC-94C8/BasesDados/GenerosMusicais/FonogramasPorGeneroMusical/BOSSA NOVA/264025.ogg\n",
      "Computing spectrogram (w/ librosa) and tags (w/ tensorflow).. done!\n",
      "110 /media/dirceusilva/EAAC-94C8/BasesDados/GenerosMusicais/FonogramasPorGeneroMusical/BOSSA NOVA/2873459.ogg\n",
      "Computing spectrogram (w/ librosa) and tags (w/ tensorflow).. done!\n",
      "111 /media/dirceusilva/EAAC-94C8/BasesDados/GenerosMusicais/FonogramasPorGeneroMusical/BOSSA NOVA/891500.ogg\n",
      "Computing spectrogram (w/ librosa) and tags (w/ tensorflow).. done!\n",
      "112 /media/dirceusilva/EAAC-94C8/BasesDados/GenerosMusicais/FonogramasPorGeneroMusical/BOSSA NOVA/969222.ogg\n",
      "Computing spectrogram (w/ librosa) and tags (w/ tensorflow).. done!\n",
      "113 /media/dirceusilva/EAAC-94C8/BasesDados/GenerosMusicais/FonogramasPorGeneroMusical/CALYPSO/1066373.ogg\n",
      "Computing spectrogram (w/ librosa) and tags (w/ tensorflow).. done!\n",
      "114 /media/dirceusilva/EAAC-94C8/BasesDados/GenerosMusicais/FonogramasPorGeneroMusical/CALYPSO/1185346.ogg\n",
      "Computing spectrogram (w/ librosa) and tags (w/ tensorflow).. done!\n",
      "115 /media/dirceusilva/EAAC-94C8/BasesDados/GenerosMusicais/FonogramasPorGeneroMusical/CALYPSO/1188141.ogg\n",
      "Computing spectrogram (w/ librosa) and tags (w/ tensorflow).. done!\n",
      "116 /media/dirceusilva/EAAC-94C8/BasesDados/GenerosMusicais/FonogramasPorGeneroMusical/CALYPSO/1188145.ogg\n",
      "Computing spectrogram (w/ librosa) and tags (w/ tensorflow).. done!\n",
      "117 /media/dirceusilva/EAAC-94C8/BasesDados/GenerosMusicais/FonogramasPorGeneroMusical/CALYPSO/1191717.ogg\n",
      "Computing spectrogram (w/ librosa) and tags (w/ tensorflow).. done!\n",
      "118 /media/dirceusilva/EAAC-94C8/BasesDados/GenerosMusicais/FonogramasPorGeneroMusical/CALYPSO/1191718.ogg\n",
      "Computing spectrogram (w/ librosa) and tags (w/ tensorflow).. done!\n",
      "119 /media/dirceusilva/EAAC-94C8/BasesDados/GenerosMusicais/FonogramasPorGeneroMusical/CALYPSO/1500672.ogg\n",
      "Computing spectrogram (w/ librosa) and tags (w/ tensorflow).. done!\n",
      "120 /media/dirceusilva/EAAC-94C8/BasesDados/GenerosMusicais/FonogramasPorGeneroMusical/CALYPSO/1500789.ogg\n",
      "Computing spectrogram (w/ librosa) and tags (w/ tensorflow).. done!\n",
      "121 /media/dirceusilva/EAAC-94C8/BasesDados/GenerosMusicais/FonogramasPorGeneroMusical/CALYPSO/1678020.ogg\n",
      "Computing spectrogram (w/ librosa) and tags (w/ tensorflow).. done!\n",
      "122 /media/dirceusilva/EAAC-94C8/BasesDados/GenerosMusicais/FonogramasPorGeneroMusical/CALYPSO/1720635.ogg\n",
      "Computing spectrogram (w/ librosa) and tags (w/ tensorflow).. done!\n",
      "123 /media/dirceusilva/EAAC-94C8/BasesDados/GenerosMusicais/FonogramasPorGeneroMusical/CALYPSO/1720642.ogg\n",
      "Computing spectrogram (w/ librosa) and tags (w/ tensorflow).. done!\n",
      "124 /media/dirceusilva/EAAC-94C8/BasesDados/GenerosMusicais/FonogramasPorGeneroMusical/CALYPSO/1913329.ogg\n",
      "Computing spectrogram (w/ librosa) and tags (w/ tensorflow).. done!\n",
      "125 /media/dirceusilva/EAAC-94C8/BasesDados/GenerosMusicais/FonogramasPorGeneroMusical/CALYPSO/1913454.ogg\n",
      "Computing spectrogram (w/ librosa) and tags (w/ tensorflow).. done!\n",
      "126 /media/dirceusilva/EAAC-94C8/BasesDados/GenerosMusicais/FonogramasPorGeneroMusical/CALYPSO/2483204.ogg\n",
      "Computing spectrogram (w/ librosa) and tags (w/ tensorflow).. done!\n",
      "127 /media/dirceusilva/EAAC-94C8/BasesDados/GenerosMusicais/FonogramasPorGeneroMusical/CALYPSO/2753391.ogg\n",
      "Computing spectrogram (w/ librosa) and tags (w/ tensorflow).. done!\n",
      "128 /media/dirceusilva/EAAC-94C8/BasesDados/GenerosMusicais/FonogramasPorGeneroMusical/CALYPSO/2753412.ogg\n",
      "Computing spectrogram (w/ librosa) and tags (w/ tensorflow).. done!\n",
      "129 /media/dirceusilva/EAAC-94C8/BasesDados/GenerosMusicais/FonogramasPorGeneroMusical/CALYPSO/3682554.ogg\n",
      "Computing spectrogram (w/ librosa) and tags (w/ tensorflow).. done!\n",
      "130 /media/dirceusilva/EAAC-94C8/BasesDados/GenerosMusicais/FonogramasPorGeneroMusical/CALYPSO/939853.ogg\n",
      "Computing spectrogram (w/ librosa) and tags (w/ tensorflow).. done!\n",
      "131 /media/dirceusilva/EAAC-94C8/BasesDados/GenerosMusicais/FonogramasPorGeneroMusical/CATOLICO/1177022.ogg\n",
      "Computing spectrogram (w/ librosa) and tags (w/ tensorflow).. done!\n",
      "132 /media/dirceusilva/EAAC-94C8/BasesDados/GenerosMusicais/FonogramasPorGeneroMusical/CATOLICO/1177913.ogg\n",
      "Computing spectrogram (w/ librosa) and tags (w/ tensorflow).. done!\n",
      "133 /media/dirceusilva/EAAC-94C8/BasesDados/GenerosMusicais/FonogramasPorGeneroMusical/CATOLICO/1177957.ogg\n",
      "Computing spectrogram (w/ librosa) and tags (w/ tensorflow).. done!\n",
      "134 /media/dirceusilva/EAAC-94C8/BasesDados/GenerosMusicais/FonogramasPorGeneroMusical/CATOLICO/1225185.ogg\n",
      "Computing spectrogram (w/ librosa) and tags (w/ tensorflow).. done!\n",
      "135 /media/dirceusilva/EAAC-94C8/BasesDados/GenerosMusicais/FonogramasPorGeneroMusical/CATOLICO/1266422.ogg\n",
      "Computing spectrogram (w/ librosa) and tags (w/ tensorflow).. done!\n",
      "136 /media/dirceusilva/EAAC-94C8/BasesDados/GenerosMusicais/FonogramasPorGeneroMusical/CATOLICO/1459354.ogg\n",
      "Computing spectrogram (w/ librosa) and tags (w/ tensorflow).. done!\n",
      "137 /media/dirceusilva/EAAC-94C8/BasesDados/GenerosMusicais/FonogramasPorGeneroMusical/CATOLICO/1543309.ogg\n",
      "Computing spectrogram (w/ librosa) and tags (w/ tensorflow).. done!\n",
      "138 /media/dirceusilva/EAAC-94C8/BasesDados/GenerosMusicais/FonogramasPorGeneroMusical/CATOLICO/1543310.ogg\n",
      "Computing spectrogram (w/ librosa) and tags (w/ tensorflow).. done!\n",
      "139 /media/dirceusilva/EAAC-94C8/BasesDados/GenerosMusicais/FonogramasPorGeneroMusical/CATOLICO/1576463.ogg\n",
      "Computing spectrogram (w/ librosa) and tags (w/ tensorflow).. done!\n",
      "140 /media/dirceusilva/EAAC-94C8/BasesDados/GenerosMusicais/FonogramasPorGeneroMusical/CATOLICO/1859320.ogg\n",
      "Computing spectrogram (w/ librosa) and tags (w/ tensorflow).. done!\n",
      "141 /media/dirceusilva/EAAC-94C8/BasesDados/GenerosMusicais/FonogramasPorGeneroMusical/CATOLICO/1859732.ogg\n",
      "Computing spectrogram (w/ librosa) and tags (w/ tensorflow).. done!\n",
      "142 /media/dirceusilva/EAAC-94C8/BasesDados/GenerosMusicais/FonogramasPorGeneroMusical/CATOLICO/3590779.ogg\n"
     ]
    },
    {
     "name": "stdout",
     "output_type": "stream",
     "text": [
      "Computing spectrogram (w/ librosa) and tags (w/ tensorflow).. done!\n",
      "143 /media/dirceusilva/EAAC-94C8/BasesDados/GenerosMusicais/FonogramasPorGeneroMusical/CATOLICO/3635565.ogg\n",
      "Computing spectrogram (w/ librosa) and tags (w/ tensorflow).. done!\n",
      "144 /media/dirceusilva/EAAC-94C8/BasesDados/GenerosMusicais/FonogramasPorGeneroMusical/CATOLICO/3635595.ogg\n",
      "Computing spectrogram (w/ librosa) and tags (w/ tensorflow).. done!\n",
      "145 /media/dirceusilva/EAAC-94C8/BasesDados/GenerosMusicais/FonogramasPorGeneroMusical/CATOLICO/6018612.ogg\n",
      "Computing spectrogram (w/ librosa) and tags (w/ tensorflow).. done!\n",
      "146 /media/dirceusilva/EAAC-94C8/BasesDados/GenerosMusicais/FonogramasPorGeneroMusical/CATOLICO/6018614.ogg\n",
      "Computing spectrogram (w/ librosa) and tags (w/ tensorflow).. done!\n",
      "147 /media/dirceusilva/EAAC-94C8/BasesDados/GenerosMusicais/FonogramasPorGeneroMusical/CATOLICO/6245271.ogg\n",
      "Computing spectrogram (w/ librosa) and tags (w/ tensorflow).. done!\n",
      "148 /media/dirceusilva/EAAC-94C8/BasesDados/GenerosMusicais/FonogramasPorGeneroMusical/CATOLICO/6245294.ogg\n",
      "Computing spectrogram (w/ librosa) and tags (w/ tensorflow).. done!\n",
      "149 /media/dirceusilva/EAAC-94C8/BasesDados/GenerosMusicais/FonogramasPorGeneroMusical/CATOLICO/6292685.ogg\n",
      "Computing spectrogram (w/ librosa) and tags (w/ tensorflow).. done!\n",
      "150 /media/dirceusilva/EAAC-94C8/BasesDados/GenerosMusicais/FonogramasPorGeneroMusical/CATOLICO/6292693.ogg\n",
      "Computing spectrogram (w/ librosa) and tags (w/ tensorflow).. done!\n",
      "151 /media/dirceusilva/EAAC-94C8/BasesDados/GenerosMusicais/FonogramasPorGeneroMusical/CHORO/1080640.ogg\n",
      "Computing spectrogram (w/ librosa) and tags (w/ tensorflow).. done!\n",
      "152 /media/dirceusilva/EAAC-94C8/BasesDados/GenerosMusicais/FonogramasPorGeneroMusical/CHORO/1080673.ogg\n",
      "Computing spectrogram (w/ librosa) and tags (w/ tensorflow).. done!\n",
      "153 /media/dirceusilva/EAAC-94C8/BasesDados/GenerosMusicais/FonogramasPorGeneroMusical/CHORO/1094235.ogg\n",
      "Computing spectrogram (w/ librosa) and tags (w/ tensorflow).. done!\n",
      "154 /media/dirceusilva/EAAC-94C8/BasesDados/GenerosMusicais/FonogramasPorGeneroMusical/CHORO/1127974.ogg\n",
      "Computing spectrogram (w/ librosa) and tags (w/ tensorflow).. done!\n",
      "155 /media/dirceusilva/EAAC-94C8/BasesDados/GenerosMusicais/FonogramasPorGeneroMusical/CHORO/1240752.ogg\n",
      "Computing spectrogram (w/ librosa) and tags (w/ tensorflow).. done!\n",
      "156 /media/dirceusilva/EAAC-94C8/BasesDados/GenerosMusicais/FonogramasPorGeneroMusical/CHORO/1287792.ogg\n",
      "Computing spectrogram (w/ librosa) and tags (w/ tensorflow).. done!\n",
      "157 /media/dirceusilva/EAAC-94C8/BasesDados/GenerosMusicais/FonogramasPorGeneroMusical/CHORO/1325857.ogg\n",
      "Computing spectrogram (w/ librosa) and tags (w/ tensorflow).. done!\n",
      "158 /media/dirceusilva/EAAC-94C8/BasesDados/GenerosMusicais/FonogramasPorGeneroMusical/CHORO/1447275.ogg\n",
      "Computing spectrogram (w/ librosa) and tags (w/ tensorflow).. done!\n",
      "159 /media/dirceusilva/EAAC-94C8/BasesDados/GenerosMusicais/FonogramasPorGeneroMusical/CHORO/1561849.ogg\n",
      "Computing spectrogram (w/ librosa) and tags (w/ tensorflow).. done!\n",
      "160 /media/dirceusilva/EAAC-94C8/BasesDados/GenerosMusicais/FonogramasPorGeneroMusical/CHORO/1562226.ogg\n",
      "Computing spectrogram (w/ librosa) and tags (w/ tensorflow).. done!\n",
      "161 /media/dirceusilva/EAAC-94C8/BasesDados/GenerosMusicais/FonogramasPorGeneroMusical/CHORO/1566378.ogg\n",
      "Computing spectrogram (w/ librosa) and tags (w/ tensorflow).. done!\n",
      "162 /media/dirceusilva/EAAC-94C8/BasesDados/GenerosMusicais/FonogramasPorGeneroMusical/CHORO/1566485.ogg\n",
      "Computing spectrogram (w/ librosa) and tags (w/ tensorflow).. done!\n",
      "163 /media/dirceusilva/EAAC-94C8/BasesDados/GenerosMusicais/FonogramasPorGeneroMusical/CHORO/1575627.ogg\n",
      "Computing spectrogram (w/ librosa) and tags (w/ tensorflow).. done!\n",
      "164 /media/dirceusilva/EAAC-94C8/BasesDados/GenerosMusicais/FonogramasPorGeneroMusical/CHORO/1575778.ogg\n",
      "Computing spectrogram (w/ librosa) and tags (w/ tensorflow).. done!\n",
      "165 /media/dirceusilva/EAAC-94C8/BasesDados/GenerosMusicais/FonogramasPorGeneroMusical/CHORO/1643852.ogg\n",
      "Computing spectrogram (w/ librosa) and tags (w/ tensorflow).. done!\n",
      "166 /media/dirceusilva/EAAC-94C8/BasesDados/GenerosMusicais/FonogramasPorGeneroMusical/CHORO/2045721.ogg\n",
      "Computing spectrogram (w/ librosa) and tags (w/ tensorflow).. done!\n",
      "167 /media/dirceusilva/EAAC-94C8/BasesDados/GenerosMusicais/FonogramasPorGeneroMusical/CHORO/2399956.ogg\n",
      "Computing spectrogram (w/ librosa) and tags (w/ tensorflow).. done!\n",
      "168 /media/dirceusilva/EAAC-94C8/BasesDados/GenerosMusicais/FonogramasPorGeneroMusical/CHORO/2451570.ogg\n",
      "Computing spectrogram (w/ librosa) and tags (w/ tensorflow).. done!\n",
      "169 /media/dirceusilva/EAAC-94C8/BasesDados/GenerosMusicais/FonogramasPorGeneroMusical/CHORO/814630.ogg\n",
      "Computing spectrogram (w/ librosa) and tags (w/ tensorflow).. done!\n",
      "170 /media/dirceusilva/EAAC-94C8/BasesDados/GenerosMusicais/FonogramasPorGeneroMusical/CHORO/958095.ogg\n",
      "Computing spectrogram (w/ librosa) and tags (w/ tensorflow).. done!\n",
      "171 /media/dirceusilva/EAAC-94C8/BasesDados/GenerosMusicais/FonogramasPorGeneroMusical/CLASSICA/1082198.ogg\n",
      "Computing spectrogram (w/ librosa) and tags (w/ tensorflow).. done!\n",
      "172 /media/dirceusilva/EAAC-94C8/BasesDados/GenerosMusicais/FonogramasPorGeneroMusical/CLASSICA/1082200.ogg\n",
      "Computing spectrogram (w/ librosa) and tags (w/ tensorflow).. done!\n",
      "173 /media/dirceusilva/EAAC-94C8/BasesDados/GenerosMusicais/FonogramasPorGeneroMusical/CLASSICA/1082201.ogg\n",
      "Computing spectrogram (w/ librosa) and tags (w/ tensorflow).. done!\n",
      "174 /media/dirceusilva/EAAC-94C8/BasesDados/GenerosMusicais/FonogramasPorGeneroMusical/CLASSICA/1082876.ogg\n",
      "Computing spectrogram (w/ librosa) and tags (w/ tensorflow).. done!\n",
      "175 /media/dirceusilva/EAAC-94C8/BasesDados/GenerosMusicais/FonogramasPorGeneroMusical/CLASSICA/1082877.ogg\n",
      "Computing spectrogram (w/ librosa) and tags (w/ tensorflow).. done!\n",
      "176 /media/dirceusilva/EAAC-94C8/BasesDados/GenerosMusicais/FonogramasPorGeneroMusical/CLASSICA/1082878.ogg\n",
      "Computing spectrogram (w/ librosa) and tags (w/ tensorflow).. done!\n",
      "177 /media/dirceusilva/EAAC-94C8/BasesDados/GenerosMusicais/FonogramasPorGeneroMusical/CLASSICA/1085643.ogg\n",
      "Computing spectrogram (w/ librosa) and tags (w/ tensorflow).. done!\n",
      "178 /media/dirceusilva/EAAC-94C8/BasesDados/GenerosMusicais/FonogramasPorGeneroMusical/CLASSICA/1101578.ogg\n",
      "Computing spectrogram (w/ librosa) and tags (w/ tensorflow).. done!\n",
      "179 /media/dirceusilva/EAAC-94C8/BasesDados/GenerosMusicais/FonogramasPorGeneroMusical/CLASSICA/1104375.ogg\n",
      "Computing spectrogram (w/ librosa) and tags (w/ tensorflow).. done!\n",
      "180 /media/dirceusilva/EAAC-94C8/BasesDados/GenerosMusicais/FonogramasPorGeneroMusical/CLASSICA/11560486.ogg\n",
      "Computing spectrogram (w/ librosa) and tags (w/ tensorflow).. done!\n",
      "181 /media/dirceusilva/EAAC-94C8/BasesDados/GenerosMusicais/FonogramasPorGeneroMusical/CLASSICA/11560489.ogg\n",
      "Computing spectrogram (w/ librosa) and tags (w/ tensorflow).. done!\n",
      "182 /media/dirceusilva/EAAC-94C8/BasesDados/GenerosMusicais/FonogramasPorGeneroMusical/CLASSICA/11560494.ogg\n",
      "Computing spectrogram (w/ librosa) and tags (w/ tensorflow).. done!\n",
      "183 /media/dirceusilva/EAAC-94C8/BasesDados/GenerosMusicais/FonogramasPorGeneroMusical/CLASSICA/1225075.ogg\n",
      "Computing spectrogram (w/ librosa) and tags (w/ tensorflow).. done!\n",
      "184 /media/dirceusilva/EAAC-94C8/BasesDados/GenerosMusicais/FonogramasPorGeneroMusical/CLASSICA/1254953.ogg\n",
      "Computing spectrogram (w/ librosa) and tags (w/ tensorflow).. done!\n",
      "185 /media/dirceusilva/EAAC-94C8/BasesDados/GenerosMusicais/FonogramasPorGeneroMusical/CLASSICA/1406071.ogg\n",
      "Computing spectrogram (w/ librosa) and tags (w/ tensorflow).. done!\n",
      "186 /media/dirceusilva/EAAC-94C8/BasesDados/GenerosMusicais/FonogramasPorGeneroMusical/CLASSICA/1406073.ogg\n",
      "Computing spectrogram (w/ librosa) and tags (w/ tensorflow).. done!\n",
      "187 /media/dirceusilva/EAAC-94C8/BasesDados/GenerosMusicais/FonogramasPorGeneroMusical/CLASSICA/1406477.ogg\n",
      "Computing spectrogram (w/ librosa) and tags (w/ tensorflow).. done!\n",
      "188 /media/dirceusilva/EAAC-94C8/BasesDados/GenerosMusicais/FonogramasPorGeneroMusical/CLASSICA/1537692.ogg\n",
      "Computing spectrogram (w/ librosa) and tags (w/ tensorflow).. done!\n",
      "189 /media/dirceusilva/EAAC-94C8/BasesDados/GenerosMusicais/FonogramasPorGeneroMusical/CLASSICA/1608396.ogg\n"
     ]
    },
    {
     "name": "stdout",
     "output_type": "stream",
     "text": [
      "Computing spectrogram (w/ librosa) and tags (w/ tensorflow).. done!\n",
      "190 /media/dirceusilva/EAAC-94C8/BasesDados/GenerosMusicais/FonogramasPorGeneroMusical/CLASSICA/6289253.ogg\n",
      "Computing spectrogram (w/ librosa) and tags (w/ tensorflow).. done!\n",
      "191 /media/dirceusilva/EAAC-94C8/BasesDados/GenerosMusicais/FonogramasPorGeneroMusical/COUNTRY/1088692.ogg\n",
      "Computing spectrogram (w/ librosa) and tags (w/ tensorflow).. done!\n",
      "192 /media/dirceusilva/EAAC-94C8/BasesDados/GenerosMusicais/FonogramasPorGeneroMusical/COUNTRY/1150231.ogg\n",
      "Computing spectrogram (w/ librosa) and tags (w/ tensorflow).. done!\n",
      "193 /media/dirceusilva/EAAC-94C8/BasesDados/GenerosMusicais/FonogramasPorGeneroMusical/COUNTRY/1154293.ogg\n",
      "Computing spectrogram (w/ librosa) and tags (w/ tensorflow).. done!\n",
      "194 /media/dirceusilva/EAAC-94C8/BasesDados/GenerosMusicais/FonogramasPorGeneroMusical/COUNTRY/1214430.ogg\n",
      "Computing spectrogram (w/ librosa) and tags (w/ tensorflow).. done!\n",
      "195 /media/dirceusilva/EAAC-94C8/BasesDados/GenerosMusicais/FonogramasPorGeneroMusical/COUNTRY/1225079.ogg\n",
      "Computing spectrogram (w/ librosa) and tags (w/ tensorflow).. done!\n",
      "196 /media/dirceusilva/EAAC-94C8/BasesDados/GenerosMusicais/FonogramasPorGeneroMusical/COUNTRY/1333641.ogg\n",
      "Computing spectrogram (w/ librosa) and tags (w/ tensorflow).. done!\n",
      "197 /media/dirceusilva/EAAC-94C8/BasesDados/GenerosMusicais/FonogramasPorGeneroMusical/COUNTRY/1348227.ogg\n",
      "Computing spectrogram (w/ librosa) and tags (w/ tensorflow).. done!\n",
      "198 /media/dirceusilva/EAAC-94C8/BasesDados/GenerosMusicais/FonogramasPorGeneroMusical/COUNTRY/1382556.ogg\n",
      "Computing spectrogram (w/ librosa) and tags (w/ tensorflow).. done!\n",
      "199 /media/dirceusilva/EAAC-94C8/BasesDados/GenerosMusicais/FonogramasPorGeneroMusical/COUNTRY/1386831.ogg\n",
      "Computing spectrogram (w/ librosa) and tags (w/ tensorflow).. done!\n",
      "200 /media/dirceusilva/EAAC-94C8/BasesDados/GenerosMusicais/FonogramasPorGeneroMusical/COUNTRY/1406492.ogg\n",
      "Computing spectrogram (w/ librosa) and tags (w/ tensorflow).. done!\n",
      "201 /media/dirceusilva/EAAC-94C8/BasesDados/GenerosMusicais/FonogramasPorGeneroMusical/COUNTRY/1453927.ogg\n",
      "Computing spectrogram (w/ librosa) and tags (w/ tensorflow).. done!\n",
      "202 /media/dirceusilva/EAAC-94C8/BasesDados/GenerosMusicais/FonogramasPorGeneroMusical/COUNTRY/1539253.ogg\n",
      "Computing spectrogram (w/ librosa) and tags (w/ tensorflow).. done!\n",
      "203 /media/dirceusilva/EAAC-94C8/BasesDados/GenerosMusicais/FonogramasPorGeneroMusical/COUNTRY/1555578.ogg\n",
      "Computing spectrogram (w/ librosa) and tags (w/ tensorflow).. done!\n",
      "204 /media/dirceusilva/EAAC-94C8/BasesDados/GenerosMusicais/FonogramasPorGeneroMusical/COUNTRY/1556208.ogg\n",
      "Computing spectrogram (w/ librosa) and tags (w/ tensorflow).. done!\n",
      "205 /media/dirceusilva/EAAC-94C8/BasesDados/GenerosMusicais/FonogramasPorGeneroMusical/COUNTRY/1601004.ogg\n",
      "Computing spectrogram (w/ librosa) and tags (w/ tensorflow).. done!\n",
      "206 /media/dirceusilva/EAAC-94C8/BasesDados/GenerosMusicais/FonogramasPorGeneroMusical/COUNTRY/1749488.ogg\n",
      "Computing spectrogram (w/ librosa) and tags (w/ tensorflow).. done!\n",
      "207 /media/dirceusilva/EAAC-94C8/BasesDados/GenerosMusicais/FonogramasPorGeneroMusical/COUNTRY/1808071.ogg\n",
      "Computing spectrogram (w/ librosa) and tags (w/ tensorflow).. done!\n",
      "208 /media/dirceusilva/EAAC-94C8/BasesDados/GenerosMusicais/FonogramasPorGeneroMusical/COUNTRY/593911.ogg\n",
      "Computing spectrogram (w/ librosa) and tags (w/ tensorflow).. done!\n",
      "209 /media/dirceusilva/EAAC-94C8/BasesDados/GenerosMusicais/FonogramasPorGeneroMusical/COUNTRY/968633.ogg\n",
      "Computing spectrogram (w/ librosa) and tags (w/ tensorflow).. done!\n",
      "210 /media/dirceusilva/EAAC-94C8/BasesDados/GenerosMusicais/FonogramasPorGeneroMusical/COUNTRY/968634.ogg\n",
      "Computing spectrogram (w/ librosa) and tags (w/ tensorflow).. done!\n",
      "211 /media/dirceusilva/EAAC-94C8/BasesDados/GenerosMusicais/FonogramasPorGeneroMusical/DANCE MUSIC/1034899.ogg\n",
      "Computing spectrogram (w/ librosa) and tags (w/ tensorflow).. done!\n",
      "212 /media/dirceusilva/EAAC-94C8/BasesDados/GenerosMusicais/FonogramasPorGeneroMusical/DANCE MUSIC/1087935.ogg\n",
      "Computing spectrogram (w/ librosa) and tags (w/ tensorflow).. done!\n",
      "213 /media/dirceusilva/EAAC-94C8/BasesDados/GenerosMusicais/FonogramasPorGeneroMusical/DANCE MUSIC/1087937.ogg\n",
      "Computing spectrogram (w/ librosa) and tags (w/ tensorflow).. done!\n",
      "214 /media/dirceusilva/EAAC-94C8/BasesDados/GenerosMusicais/FonogramasPorGeneroMusical/DANCE MUSIC/1150206.ogg\n",
      "Computing spectrogram (w/ librosa) and tags (w/ tensorflow).. done!\n",
      "215 /media/dirceusilva/EAAC-94C8/BasesDados/GenerosMusicais/FonogramasPorGeneroMusical/DANCE MUSIC/1267383.ogg\n",
      "Computing spectrogram (w/ librosa) and tags (w/ tensorflow).. done!\n",
      "216 /media/dirceusilva/EAAC-94C8/BasesDados/GenerosMusicais/FonogramasPorGeneroMusical/DANCE MUSIC/1335477.ogg\n",
      "Computing spectrogram (w/ librosa) and tags (w/ tensorflow).. done!\n",
      "217 /media/dirceusilva/EAAC-94C8/BasesDados/GenerosMusicais/FonogramasPorGeneroMusical/DANCE MUSIC/1440241.ogg\n",
      "Computing spectrogram (w/ librosa) and tags (w/ tensorflow).. done!\n",
      "218 /media/dirceusilva/EAAC-94C8/BasesDados/GenerosMusicais/FonogramasPorGeneroMusical/DANCE MUSIC/1441873.ogg\n",
      "Computing spectrogram (w/ librosa) and tags (w/ tensorflow).. done!\n",
      "219 /media/dirceusilva/EAAC-94C8/BasesDados/GenerosMusicais/FonogramasPorGeneroMusical/DANCE MUSIC/1443515.ogg\n",
      "Computing spectrogram (w/ librosa) and tags (w/ tensorflow).. done!\n",
      "220 /media/dirceusilva/EAAC-94C8/BasesDados/GenerosMusicais/FonogramasPorGeneroMusical/DANCE MUSIC/1448171.ogg\n",
      "Computing spectrogram (w/ librosa) and tags (w/ tensorflow).. done!\n",
      "221 /media/dirceusilva/EAAC-94C8/BasesDados/GenerosMusicais/FonogramasPorGeneroMusical/DANCE MUSIC/1448231.ogg\n",
      "Computing spectrogram (w/ librosa) and tags (w/ tensorflow).. done!\n",
      "222 /media/dirceusilva/EAAC-94C8/BasesDados/GenerosMusicais/FonogramasPorGeneroMusical/DANCE MUSIC/1448317.ogg\n",
      "Computing spectrogram (w/ librosa) and tags (w/ tensorflow).. done!\n",
      "223 /media/dirceusilva/EAAC-94C8/BasesDados/GenerosMusicais/FonogramasPorGeneroMusical/DANCE MUSIC/1537961.ogg\n",
      "Computing spectrogram (w/ librosa) and tags (w/ tensorflow).. done!\n",
      "224 /media/dirceusilva/EAAC-94C8/BasesDados/GenerosMusicais/FonogramasPorGeneroMusical/DANCE MUSIC/1567921.ogg\n",
      "Computing spectrogram (w/ librosa) and tags (w/ tensorflow).. done!\n",
      "225 /media/dirceusilva/EAAC-94C8/BasesDados/GenerosMusicais/FonogramasPorGeneroMusical/DANCE MUSIC/1649994.ogg\n",
      "Computing spectrogram (w/ librosa) and tags (w/ tensorflow).. done!\n",
      "226 /media/dirceusilva/EAAC-94C8/BasesDados/GenerosMusicais/FonogramasPorGeneroMusical/DANCE MUSIC/1724351.ogg\n",
      "Computing spectrogram (w/ librosa) and tags (w/ tensorflow).. done!\n",
      "227 /media/dirceusilva/EAAC-94C8/BasesDados/GenerosMusicais/FonogramasPorGeneroMusical/DANCE MUSIC/1724487.ogg\n",
      "Computing spectrogram (w/ librosa) and tags (w/ tensorflow).. done!\n",
      "228 /media/dirceusilva/EAAC-94C8/BasesDados/GenerosMusicais/FonogramasPorGeneroMusical/DANCE MUSIC/1724525.ogg\n",
      "Computing spectrogram (w/ librosa) and tags (w/ tensorflow).. done!\n",
      "229 /media/dirceusilva/EAAC-94C8/BasesDados/GenerosMusicais/FonogramasPorGeneroMusical/DANCE MUSIC/2098923.ogg\n",
      "Computing spectrogram (w/ librosa) and tags (w/ tensorflow).. done!\n",
      "230 /media/dirceusilva/EAAC-94C8/BasesDados/GenerosMusicais/FonogramasPorGeneroMusical/DANCE MUSIC/2156612.ogg\n",
      "Computing spectrogram (w/ librosa) and tags (w/ tensorflow).. done!\n",
      "231 /media/dirceusilva/EAAC-94C8/BasesDados/GenerosMusicais/FonogramasPorGeneroMusical/ELECTRONIC/10613734.ogg\n",
      "Computing spectrogram (w/ librosa) and tags (w/ tensorflow).. done!\n",
      "232 /media/dirceusilva/EAAC-94C8/BasesDados/GenerosMusicais/FonogramasPorGeneroMusical/ELECTRONIC/1329149.ogg\n",
      "Computing spectrogram (w/ librosa) and tags (w/ tensorflow).. done!\n",
      "233 /media/dirceusilva/EAAC-94C8/BasesDados/GenerosMusicais/FonogramasPorGeneroMusical/ELECTRONIC/1345112.ogg\n",
      "Computing spectrogram (w/ librosa) and tags (w/ tensorflow).. done!\n",
      "234 /media/dirceusilva/EAAC-94C8/BasesDados/GenerosMusicais/FonogramasPorGeneroMusical/ELECTRONIC/1372671.ogg\n",
      "Computing spectrogram (w/ librosa) and tags (w/ tensorflow).. done!\n",
      "235 /media/dirceusilva/EAAC-94C8/BasesDados/GenerosMusicais/FonogramasPorGeneroMusical/ELECTRONIC/1380549.ogg\n",
      "Computing spectrogram (w/ librosa) and tags (w/ tensorflow).. done!\n",
      "236 /media/dirceusilva/EAAC-94C8/BasesDados/GenerosMusicais/FonogramasPorGeneroMusical/ELECTRONIC/1417120.ogg\n",
      "Computing spectrogram (w/ librosa) and tags (w/ tensorflow).. done!\n",
      "237 /media/dirceusilva/EAAC-94C8/BasesDados/GenerosMusicais/FonogramasPorGeneroMusical/ELECTRONIC/1553807.ogg\n",
      "Computing spectrogram (w/ librosa) and tags (w/ tensorflow).. done!\n",
      "238 /media/dirceusilva/EAAC-94C8/BasesDados/GenerosMusicais/FonogramasPorGeneroMusical/ELECTRONIC/1592304.ogg\n",
      "Computing spectrogram (w/ librosa) and tags (w/ tensorflow).. done!\n",
      "239 /media/dirceusilva/EAAC-94C8/BasesDados/GenerosMusicais/FonogramasPorGeneroMusical/ELECTRONIC/1598079.ogg\n",
      "Computing spectrogram (w/ librosa) and tags (w/ tensorflow).. done!\n",
      "240 /media/dirceusilva/EAAC-94C8/BasesDados/GenerosMusicais/FonogramasPorGeneroMusical/ELECTRONIC/2105665.ogg\n",
      "Computing spectrogram (w/ librosa) and tags (w/ tensorflow).. done!\n",
      "241 /media/dirceusilva/EAAC-94C8/BasesDados/GenerosMusicais/FonogramasPorGeneroMusical/ELECTRONIC/2106226.ogg\n",
      "Computing spectrogram (w/ librosa) and tags (w/ tensorflow).. done!\n",
      "242 /media/dirceusilva/EAAC-94C8/BasesDados/GenerosMusicais/FonogramasPorGeneroMusical/ELECTRONIC/2363313.ogg\n",
      "Computing spectrogram (w/ librosa) and tags (w/ tensorflow).. done!\n",
      "243 /media/dirceusilva/EAAC-94C8/BasesDados/GenerosMusicais/FonogramasPorGeneroMusical/ELECTRONIC/2467795.ogg\n",
      "Computing spectrogram (w/ librosa) and tags (w/ tensorflow).. done!\n",
      "244 /media/dirceusilva/EAAC-94C8/BasesDados/GenerosMusicais/FonogramasPorGeneroMusical/ELECTRONIC/2586783.ogg\n",
      "Computing spectrogram (w/ librosa) and tags (w/ tensorflow).. done!\n",
      "245 /media/dirceusilva/EAAC-94C8/BasesDados/GenerosMusicais/FonogramasPorGeneroMusical/ELECTRONIC/2744363.ogg\n",
      "Computing spectrogram (w/ librosa) and tags (w/ tensorflow).. done!\n",
      "246 /media/dirceusilva/EAAC-94C8/BasesDados/GenerosMusicais/FonogramasPorGeneroMusical/ELECTRONIC/5761864.ogg\n",
      "Computing spectrogram (w/ librosa) and tags (w/ tensorflow).. done!\n",
      "247 /media/dirceusilva/EAAC-94C8/BasesDados/GenerosMusicais/FonogramasPorGeneroMusical/ELECTRONIC/5828541.ogg\n",
      "Computing spectrogram (w/ librosa) and tags (w/ tensorflow).. done!\n",
      "248 /media/dirceusilva/EAAC-94C8/BasesDados/GenerosMusicais/FonogramasPorGeneroMusical/ELECTRONIC/5831178.ogg\n",
      "Computing spectrogram (w/ librosa) and tags (w/ tensorflow).. done!\n",
      "249 /media/dirceusilva/EAAC-94C8/BasesDados/GenerosMusicais/FonogramasPorGeneroMusical/ELECTRONIC/5831189.ogg\n",
      "Computing spectrogram (w/ librosa) and tags (w/ tensorflow).. done!\n",
      "250 /media/dirceusilva/EAAC-94C8/BasesDados/GenerosMusicais/FonogramasPorGeneroMusical/ELECTRONIC/6238400.ogg\n",
      "Computing spectrogram (w/ librosa) and tags (w/ tensorflow).. done!\n",
      "251 /media/dirceusilva/EAAC-94C8/BasesDados/GenerosMusicais/FonogramasPorGeneroMusical/EVANGELICA/1102697.ogg\n",
      "Computing spectrogram (w/ librosa) and tags (w/ tensorflow).. done!\n",
      "252 /media/dirceusilva/EAAC-94C8/BasesDados/GenerosMusicais/FonogramasPorGeneroMusical/EVANGELICA/1132789.ogg\n",
      "Computing spectrogram (w/ librosa) and tags (w/ tensorflow).. done!\n",
      "253 /media/dirceusilva/EAAC-94C8/BasesDados/GenerosMusicais/FonogramasPorGeneroMusical/EVANGELICA/1133379.ogg\n",
      "Computing spectrogram (w/ librosa) and tags (w/ tensorflow).. done!\n",
      "254 /media/dirceusilva/EAAC-94C8/BasesDados/GenerosMusicais/FonogramasPorGeneroMusical/EVANGELICA/1138138.ogg\n",
      "Computing spectrogram (w/ librosa) and tags (w/ tensorflow).. done!\n",
      "255 /media/dirceusilva/EAAC-94C8/BasesDados/GenerosMusicais/FonogramasPorGeneroMusical/EVANGELICA/1143276.ogg\n",
      "Computing spectrogram (w/ librosa) and tags (w/ tensorflow).. done!\n",
      "256 /media/dirceusilva/EAAC-94C8/BasesDados/GenerosMusicais/FonogramasPorGeneroMusical/EVANGELICA/1143785.ogg\n",
      "Computing spectrogram (w/ librosa) and tags (w/ tensorflow).. done!\n",
      "257 /media/dirceusilva/EAAC-94C8/BasesDados/GenerosMusicais/FonogramasPorGeneroMusical/EVANGELICA/1183309.ogg\n",
      "Computing spectrogram (w/ librosa) and tags (w/ tensorflow).. done!\n",
      "258 /media/dirceusilva/EAAC-94C8/BasesDados/GenerosMusicais/FonogramasPorGeneroMusical/EVANGELICA/1211327.ogg\n",
      "Computing spectrogram (w/ librosa) and tags (w/ tensorflow).. done!\n",
      "259 /media/dirceusilva/EAAC-94C8/BasesDados/GenerosMusicais/FonogramasPorGeneroMusical/EVANGELICA/1311850.ogg\n",
      "Computing spectrogram (w/ librosa) and tags (w/ tensorflow).. done!\n",
      "260 /media/dirceusilva/EAAC-94C8/BasesDados/GenerosMusicais/FonogramasPorGeneroMusical/EVANGELICA/1327288.ogg\n",
      "Computing spectrogram (w/ librosa) and tags (w/ tensorflow).. done!\n",
      "261 /media/dirceusilva/EAAC-94C8/BasesDados/GenerosMusicais/FonogramasPorGeneroMusical/EVANGELICA/1327367.ogg\n",
      "Computing spectrogram (w/ librosa) and tags (w/ tensorflow).. done!\n",
      "262 /media/dirceusilva/EAAC-94C8/BasesDados/GenerosMusicais/FonogramasPorGeneroMusical/EVANGELICA/1620710.ogg\n",
      "Computing spectrogram (w/ librosa) and tags (w/ tensorflow).. done!\n",
      "263 /media/dirceusilva/EAAC-94C8/BasesDados/GenerosMusicais/FonogramasPorGeneroMusical/EVANGELICA/1709220.ogg\n",
      "Computing spectrogram (w/ librosa) and tags (w/ tensorflow).. done!\n",
      "264 /media/dirceusilva/EAAC-94C8/BasesDados/GenerosMusicais/FonogramasPorGeneroMusical/EVANGELICA/2117565.ogg\n",
      "Computing spectrogram (w/ librosa) and tags (w/ tensorflow).. done!\n",
      "265 /media/dirceusilva/EAAC-94C8/BasesDados/GenerosMusicais/FonogramasPorGeneroMusical/EVANGELICA/2514561.ogg\n",
      "Computing spectrogram (w/ librosa) and tags (w/ tensorflow).. done!\n",
      "266 /media/dirceusilva/EAAC-94C8/BasesDados/GenerosMusicais/FonogramasPorGeneroMusical/EVANGELICA/255152.ogg\n",
      "Computing spectrogram (w/ librosa) and tags (w/ tensorflow).. done!\n",
      "267 /media/dirceusilva/EAAC-94C8/BasesDados/GenerosMusicais/FonogramasPorGeneroMusical/EVANGELICA/2724334.ogg\n",
      "Computing spectrogram (w/ librosa) and tags (w/ tensorflow).. done!\n",
      "268 /media/dirceusilva/EAAC-94C8/BasesDados/GenerosMusicais/FonogramasPorGeneroMusical/EVANGELICA/29430.ogg\n",
      "Computing spectrogram (w/ librosa) and tags (w/ tensorflow).. done!\n",
      "269 /media/dirceusilva/EAAC-94C8/BasesDados/GenerosMusicais/FonogramasPorGeneroMusical/EVANGELICA/4136408.ogg\n",
      "Computing spectrogram (w/ librosa) and tags (w/ tensorflow).. done!\n",
      "270 /media/dirceusilva/EAAC-94C8/BasesDados/GenerosMusicais/FonogramasPorGeneroMusical/EVANGELICA/640824.ogg\n",
      "Computing spectrogram (w/ librosa) and tags (w/ tensorflow).. done!\n",
      "271 /media/dirceusilva/EAAC-94C8/BasesDados/GenerosMusicais/FonogramasPorGeneroMusical/FORRO/10392622.ogg\n",
      "Computing spectrogram (w/ librosa) and tags (w/ tensorflow).. done!\n",
      "272 /media/dirceusilva/EAAC-94C8/BasesDados/GenerosMusicais/FonogramasPorGeneroMusical/FORRO/1095734.ogg\n",
      "Computing spectrogram (w/ librosa) and tags (w/ tensorflow).. done!\n",
      "273 /media/dirceusilva/EAAC-94C8/BasesDados/GenerosMusicais/FonogramasPorGeneroMusical/FORRO/1158782.ogg\n",
      "Computing spectrogram (w/ librosa) and tags (w/ tensorflow).. done!\n",
      "274 /media/dirceusilva/EAAC-94C8/BasesDados/GenerosMusicais/FonogramasPorGeneroMusical/FORRO/1171391.ogg\n",
      "Computing spectrogram (w/ librosa) and tags (w/ tensorflow).. done!\n",
      "275 /media/dirceusilva/EAAC-94C8/BasesDados/GenerosMusicais/FonogramasPorGeneroMusical/FORRO/1185729.ogg\n",
      "Computing spectrogram (w/ librosa) and tags (w/ tensorflow).. done!\n",
      "276 /media/dirceusilva/EAAC-94C8/BasesDados/GenerosMusicais/FonogramasPorGeneroMusical/FORRO/1185733.ogg\n",
      "Computing spectrogram (w/ librosa) and tags (w/ tensorflow).. done!\n",
      "277 /media/dirceusilva/EAAC-94C8/BasesDados/GenerosMusicais/FonogramasPorGeneroMusical/FORRO/1316506.ogg\n",
      "Computing spectrogram (w/ librosa) and tags (w/ tensorflow).. done!\n",
      "278 /media/dirceusilva/EAAC-94C8/BasesDados/GenerosMusicais/FonogramasPorGeneroMusical/FORRO/1605466.ogg\n",
      "Computing spectrogram (w/ librosa) and tags (w/ tensorflow).. done!\n",
      "279 /media/dirceusilva/EAAC-94C8/BasesDados/GenerosMusicais/FonogramasPorGeneroMusical/FORRO/1713835.ogg\n",
      "Computing spectrogram (w/ librosa) and tags (w/ tensorflow).. done!\n",
      "280 /media/dirceusilva/EAAC-94C8/BasesDados/GenerosMusicais/FonogramasPorGeneroMusical/FORRO/1759734.ogg\n",
      "Computing spectrogram (w/ librosa) and tags (w/ tensorflow).. done!\n",
      "281 /media/dirceusilva/EAAC-94C8/BasesDados/GenerosMusicais/FonogramasPorGeneroMusical/FORRO/1766903.ogg\n",
      "Computing spectrogram (w/ librosa) and tags (w/ tensorflow).. done!\n"
     ]
    },
    {
     "name": "stdout",
     "output_type": "stream",
     "text": [
      "282 /media/dirceusilva/EAAC-94C8/BasesDados/GenerosMusicais/FonogramasPorGeneroMusical/FORRO/1775587.ogg\n",
      "Computing spectrogram (w/ librosa) and tags (w/ tensorflow).. done!\n",
      "283 /media/dirceusilva/EAAC-94C8/BasesDados/GenerosMusicais/FonogramasPorGeneroMusical/FORRO/1826081.ogg\n",
      "Computing spectrogram (w/ librosa) and tags (w/ tensorflow).. done!\n",
      "284 /media/dirceusilva/EAAC-94C8/BasesDados/GenerosMusicais/FonogramasPorGeneroMusical/FORRO/2266305.ogg\n",
      "Computing spectrogram (w/ librosa) and tags (w/ tensorflow).. done!\n",
      "285 /media/dirceusilva/EAAC-94C8/BasesDados/GenerosMusicais/FonogramasPorGeneroMusical/FORRO/5832739.ogg\n",
      "Computing spectrogram (w/ librosa) and tags (w/ tensorflow).. done!\n",
      "286 /media/dirceusilva/EAAC-94C8/BasesDados/GenerosMusicais/FonogramasPorGeneroMusical/FORRO/952597.ogg\n",
      "Computing spectrogram (w/ librosa) and tags (w/ tensorflow).. done!\n",
      "287 /media/dirceusilva/EAAC-94C8/BasesDados/GenerosMusicais/FonogramasPorGeneroMusical/FORRO/952601.ogg\n",
      "Computing spectrogram (w/ librosa) and tags (w/ tensorflow).. done!\n",
      "288 /media/dirceusilva/EAAC-94C8/BasesDados/GenerosMusicais/FonogramasPorGeneroMusical/FORRO/952605.ogg\n",
      "Computing spectrogram (w/ librosa) and tags (w/ tensorflow).. done!\n",
      "289 /media/dirceusilva/EAAC-94C8/BasesDados/GenerosMusicais/FonogramasPorGeneroMusical/FORRO/952614.ogg\n",
      "Computing spectrogram (w/ librosa) and tags (w/ tensorflow).. done!\n",
      "290 /media/dirceusilva/EAAC-94C8/BasesDados/GenerosMusicais/FonogramasPorGeneroMusical/FORRO/998560.ogg\n",
      "Computing spectrogram (w/ librosa) and tags (w/ tensorflow).. done!\n",
      "291 /media/dirceusilva/EAAC-94C8/BasesDados/GenerosMusicais/FonogramasPorGeneroMusical/FREVO/1288712.ogg\n",
      "Computing spectrogram (w/ librosa) and tags (w/ tensorflow).. done!\n",
      "292 /media/dirceusilva/EAAC-94C8/BasesDados/GenerosMusicais/FonogramasPorGeneroMusical/FREVO/1310134.ogg\n",
      "Computing spectrogram (w/ librosa) and tags (w/ tensorflow).. done!\n",
      "293 /media/dirceusilva/EAAC-94C8/BasesDados/GenerosMusicais/FonogramasPorGeneroMusical/FREVO/1313007.ogg\n",
      "Computing spectrogram (w/ librosa) and tags (w/ tensorflow).. done!\n",
      "294 /media/dirceusilva/EAAC-94C8/BasesDados/GenerosMusicais/FonogramasPorGeneroMusical/FREVO/1319151.ogg\n",
      "Computing spectrogram (w/ librosa) and tags (w/ tensorflow).. done!\n",
      "295 /media/dirceusilva/EAAC-94C8/BasesDados/GenerosMusicais/FonogramasPorGeneroMusical/FREVO/1319152.ogg\n",
      "Computing spectrogram (w/ librosa) and tags (w/ tensorflow).. done!\n",
      "296 /media/dirceusilva/EAAC-94C8/BasesDados/GenerosMusicais/FonogramasPorGeneroMusical/FREVO/1319153.ogg\n",
      "Computing spectrogram (w/ librosa) and tags (w/ tensorflow).. done!\n",
      "297 /media/dirceusilva/EAAC-94C8/BasesDados/GenerosMusicais/FonogramasPorGeneroMusical/FREVO/1319157.ogg\n",
      "Computing spectrogram (w/ librosa) and tags (w/ tensorflow).. done!\n",
      "298 /media/dirceusilva/EAAC-94C8/BasesDados/GenerosMusicais/FonogramasPorGeneroMusical/FREVO/1319159.ogg\n",
      "Computing spectrogram (w/ librosa) and tags (w/ tensorflow).. done!\n",
      "299 /media/dirceusilva/EAAC-94C8/BasesDados/GenerosMusicais/FonogramasPorGeneroMusical/FREVO/1319823.ogg\n",
      "Computing spectrogram (w/ librosa) and tags (w/ tensorflow).. done!\n",
      "300 /media/dirceusilva/EAAC-94C8/BasesDados/GenerosMusicais/FonogramasPorGeneroMusical/FREVO/1319825.ogg\n",
      "Computing spectrogram (w/ librosa) and tags (w/ tensorflow).. done!\n",
      "301 /media/dirceusilva/EAAC-94C8/BasesDados/GenerosMusicais/FonogramasPorGeneroMusical/FREVO/1319833.ogg\n",
      "Computing spectrogram (w/ librosa) and tags (w/ tensorflow).. done!\n",
      "302 /media/dirceusilva/EAAC-94C8/BasesDados/GenerosMusicais/FonogramasPorGeneroMusical/FREVO/1319836.ogg\n",
      "Computing spectrogram (w/ librosa) and tags (w/ tensorflow).. done!\n",
      "303 /media/dirceusilva/EAAC-94C8/BasesDados/GenerosMusicais/FonogramasPorGeneroMusical/FREVO/1327485.ogg\n",
      "Computing spectrogram (w/ librosa) and tags (w/ tensorflow).. done!\n",
      "304 /media/dirceusilva/EAAC-94C8/BasesDados/GenerosMusicais/FonogramasPorGeneroMusical/FREVO/1581026.ogg\n",
      "Computing spectrogram (w/ librosa) and tags (w/ tensorflow).. done!\n",
      "305 /media/dirceusilva/EAAC-94C8/BasesDados/GenerosMusicais/FonogramasPorGeneroMusical/FREVO/1677957.ogg\n",
      "Computing spectrogram (w/ librosa) and tags (w/ tensorflow).. done!\n",
      "306 /media/dirceusilva/EAAC-94C8/BasesDados/GenerosMusicais/FonogramasPorGeneroMusical/FREVO/2429512.ogg\n",
      "Computing spectrogram (w/ librosa) and tags (w/ tensorflow).. done!\n",
      "307 /media/dirceusilva/EAAC-94C8/BasesDados/GenerosMusicais/FonogramasPorGeneroMusical/FREVO/2632989.ogg\n",
      "Computing spectrogram (w/ librosa) and tags (w/ tensorflow).. done!\n",
      "308 /media/dirceusilva/EAAC-94C8/BasesDados/GenerosMusicais/FonogramasPorGeneroMusical/FUNK/1056669.ogg\n",
      "Computing spectrogram (w/ librosa) and tags (w/ tensorflow).. done!\n",
      "309 /media/dirceusilva/EAAC-94C8/BasesDados/GenerosMusicais/FonogramasPorGeneroMusical/FUNK/1065469.ogg\n",
      "Computing spectrogram (w/ librosa) and tags (w/ tensorflow).. done!\n",
      "310 /media/dirceusilva/EAAC-94C8/BasesDados/GenerosMusicais/FonogramasPorGeneroMusical/FUNK/1085175.ogg\n",
      "Computing spectrogram (w/ librosa) and tags (w/ tensorflow).. done!\n",
      "311 /media/dirceusilva/EAAC-94C8/BasesDados/GenerosMusicais/FonogramasPorGeneroMusical/FUNK/1127989.ogg\n",
      "Computing spectrogram (w/ librosa) and tags (w/ tensorflow).. done!\n",
      "312 /media/dirceusilva/EAAC-94C8/BasesDados/GenerosMusicais/FonogramasPorGeneroMusical/FUNK/11562760.ogg\n",
      "Computing spectrogram (w/ librosa) and tags (w/ tensorflow).. done!\n",
      "313 /media/dirceusilva/EAAC-94C8/BasesDados/GenerosMusicais/FonogramasPorGeneroMusical/FUNK/11562769.ogg\n",
      "Computing spectrogram (w/ librosa) and tags (w/ tensorflow).. done!\n",
      "314 /media/dirceusilva/EAAC-94C8/BasesDados/GenerosMusicais/FonogramasPorGeneroMusical/FUNK/11562777.ogg\n",
      "Computing spectrogram (w/ librosa) and tags (w/ tensorflow).. done!\n",
      "315 /media/dirceusilva/EAAC-94C8/BasesDados/GenerosMusicais/FonogramasPorGeneroMusical/FUNK/1346412.ogg\n",
      "Computing spectrogram (w/ librosa) and tags (w/ tensorflow).. done!\n",
      "316 /media/dirceusilva/EAAC-94C8/BasesDados/GenerosMusicais/FonogramasPorGeneroMusical/FUNK/1606477.ogg\n",
      "Computing spectrogram (w/ librosa) and tags (w/ tensorflow).. done!\n",
      "317 /media/dirceusilva/EAAC-94C8/BasesDados/GenerosMusicais/FonogramasPorGeneroMusical/FUNK/1715588.ogg\n",
      "Computing spectrogram (w/ librosa) and tags (w/ tensorflow).. done!\n",
      "318 /media/dirceusilva/EAAC-94C8/BasesDados/GenerosMusicais/FonogramasPorGeneroMusical/FUNK/1759222.ogg\n",
      "Computing spectrogram (w/ librosa) and tags (w/ tensorflow).. done!\n",
      "319 /media/dirceusilva/EAAC-94C8/BasesDados/GenerosMusicais/FonogramasPorGeneroMusical/FUNK/1809154.ogg\n",
      "Computing spectrogram (w/ librosa) and tags (w/ tensorflow).. done!\n",
      "320 /media/dirceusilva/EAAC-94C8/BasesDados/GenerosMusicais/FonogramasPorGeneroMusical/FUNK/2545564.ogg\n",
      "Computing spectrogram (w/ librosa) and tags (w/ tensorflow).. done!\n",
      "321 /media/dirceusilva/EAAC-94C8/BasesDados/GenerosMusicais/FonogramasPorGeneroMusical/FUNK/2615563.ogg\n",
      "Computing spectrogram (w/ librosa) and tags (w/ tensorflow).. done!\n",
      "322 /media/dirceusilva/EAAC-94C8/BasesDados/GenerosMusicais/FonogramasPorGeneroMusical/FUNK/3432515.ogg\n",
      "Computing spectrogram (w/ librosa) and tags (w/ tensorflow).. done!\n",
      "323 /media/dirceusilva/EAAC-94C8/BasesDados/GenerosMusicais/FonogramasPorGeneroMusical/FUNK/3620006.ogg\n",
      "Computing spectrogram (w/ librosa) and tags (w/ tensorflow).. done!\n",
      "324 /media/dirceusilva/EAAC-94C8/BasesDados/GenerosMusicais/FonogramasPorGeneroMusical/FUNK/4069128.ogg\n",
      "Computing spectrogram (w/ librosa) and tags (w/ tensorflow).. done!\n",
      "325 /media/dirceusilva/EAAC-94C8/BasesDados/GenerosMusicais/FonogramasPorGeneroMusical/FUNK/823890.ogg\n",
      "Computing spectrogram (w/ librosa) and tags (w/ tensorflow).. done!\n",
      "326 /media/dirceusilva/EAAC-94C8/BasesDados/GenerosMusicais/FonogramasPorGeneroMusical/FUNK/895400.ogg\n",
      "Computing spectrogram (w/ librosa) and tags (w/ tensorflow).. done!\n",
      "327 /media/dirceusilva/EAAC-94C8/BasesDados/GenerosMusicais/FonogramasPorGeneroMusical/FUNK/901645.ogg\n",
      "Computing spectrogram (w/ librosa) and tags (w/ tensorflow).. done!\n",
      "328 /media/dirceusilva/EAAC-94C8/BasesDados/GenerosMusicais/FonogramasPorGeneroMusical/GOSPEL/11542053.ogg\n",
      "Computing spectrogram (w/ librosa) and tags (w/ tensorflow).. done!\n",
      "329 /media/dirceusilva/EAAC-94C8/BasesDados/GenerosMusicais/FonogramasPorGeneroMusical/GOSPEL/1206124.ogg\n"
     ]
    },
    {
     "name": "stdout",
     "output_type": "stream",
     "text": [
      "Computing spectrogram (w/ librosa) and tags (w/ tensorflow).. done!\n",
      "330 /media/dirceusilva/EAAC-94C8/BasesDados/GenerosMusicais/FonogramasPorGeneroMusical/GOSPEL/1291962.ogg\n",
      "Computing spectrogram (w/ librosa) and tags (w/ tensorflow).. done!\n",
      "331 /media/dirceusilva/EAAC-94C8/BasesDados/GenerosMusicais/FonogramasPorGeneroMusical/GOSPEL/1458666.ogg\n",
      "Computing spectrogram (w/ librosa) and tags (w/ tensorflow).. done!\n",
      "332 /media/dirceusilva/EAAC-94C8/BasesDados/GenerosMusicais/FonogramasPorGeneroMusical/GOSPEL/1524659.ogg\n",
      "Computing spectrogram (w/ librosa) and tags (w/ tensorflow).. done!\n",
      "333 /media/dirceusilva/EAAC-94C8/BasesDados/GenerosMusicais/FonogramasPorGeneroMusical/GOSPEL/1559452.ogg\n",
      "Computing spectrogram (w/ librosa) and tags (w/ tensorflow).. done!\n",
      "334 /media/dirceusilva/EAAC-94C8/BasesDados/GenerosMusicais/FonogramasPorGeneroMusical/GOSPEL/1566295.ogg\n",
      "Computing spectrogram (w/ librosa) and tags (w/ tensorflow).. done!\n",
      "335 /media/dirceusilva/EAAC-94C8/BasesDados/GenerosMusicais/FonogramasPorGeneroMusical/GOSPEL/1617797.ogg\n",
      "Computing spectrogram (w/ librosa) and tags (w/ tensorflow).. done!\n",
      "336 /media/dirceusilva/EAAC-94C8/BasesDados/GenerosMusicais/FonogramasPorGeneroMusical/GOSPEL/1660331.ogg\n",
      "Computing spectrogram (w/ librosa) and tags (w/ tensorflow).. done!\n",
      "337 /media/dirceusilva/EAAC-94C8/BasesDados/GenerosMusicais/FonogramasPorGeneroMusical/GOSPEL/1678944.ogg\n",
      "Computing spectrogram (w/ librosa) and tags (w/ tensorflow).. done!\n",
      "338 /media/dirceusilva/EAAC-94C8/BasesDados/GenerosMusicais/FonogramasPorGeneroMusical/GOSPEL/1745058.ogg\n",
      "Computing spectrogram (w/ librosa) and tags (w/ tensorflow).. done!\n",
      "339 /media/dirceusilva/EAAC-94C8/BasesDados/GenerosMusicais/FonogramasPorGeneroMusical/GOSPEL/1833305.ogg\n",
      "Computing spectrogram (w/ librosa) and tags (w/ tensorflow).. done!\n",
      "340 /media/dirceusilva/EAAC-94C8/BasesDados/GenerosMusicais/FonogramasPorGeneroMusical/GOSPEL/2359685.ogg\n",
      "Computing spectrogram (w/ librosa) and tags (w/ tensorflow).. done!\n",
      "341 /media/dirceusilva/EAAC-94C8/BasesDados/GenerosMusicais/FonogramasPorGeneroMusical/GOSPEL/2936820.ogg\n",
      "Computing spectrogram (w/ librosa) and tags (w/ tensorflow).. done!\n",
      "342 /media/dirceusilva/EAAC-94C8/BasesDados/GenerosMusicais/FonogramasPorGeneroMusical/GOSPEL/548396.ogg\n",
      "Computing spectrogram (w/ librosa) and tags (w/ tensorflow).. done!\n",
      "343 /media/dirceusilva/EAAC-94C8/BasesDados/GenerosMusicais/FonogramasPorGeneroMusical/GOSPEL/662951.ogg\n",
      "Computing spectrogram (w/ librosa) and tags (w/ tensorflow).. done!\n",
      "344 /media/dirceusilva/EAAC-94C8/BasesDados/GenerosMusicais/FonogramasPorGeneroMusical/GOSPEL/833756.ogg\n",
      "Computing spectrogram (w/ librosa) and tags (w/ tensorflow).. done!\n",
      "345 /media/dirceusilva/EAAC-94C8/BasesDados/GenerosMusicais/FonogramasPorGeneroMusical/GOSPEL/901491.ogg\n",
      "Computing spectrogram (w/ librosa) and tags (w/ tensorflow).. done!\n",
      "346 /media/dirceusilva/EAAC-94C8/BasesDados/GenerosMusicais/FonogramasPorGeneroMusical/GOSPEL/901535.ogg\n",
      "Computing spectrogram (w/ librosa) and tags (w/ tensorflow).. done!\n",
      "347 /media/dirceusilva/EAAC-94C8/BasesDados/GenerosMusicais/FonogramasPorGeneroMusical/GOSPEL/906576.ogg\n",
      "Computing spectrogram (w/ librosa) and tags (w/ tensorflow).. done!\n",
      "348 /media/dirceusilva/EAAC-94C8/BasesDados/GenerosMusicais/FonogramasPorGeneroMusical/INSTRUMENTAL/1060940.ogg\n",
      "Computing spectrogram (w/ librosa) and tags (w/ tensorflow).. done!\n",
      "349 /media/dirceusilva/EAAC-94C8/BasesDados/GenerosMusicais/FonogramasPorGeneroMusical/INSTRUMENTAL/1077974.ogg\n",
      "Computing spectrogram (w/ librosa) and tags (w/ tensorflow).. done!\n",
      "350 /media/dirceusilva/EAAC-94C8/BasesDados/GenerosMusicais/FonogramasPorGeneroMusical/INSTRUMENTAL/1127980.ogg\n",
      "Computing spectrogram (w/ librosa) and tags (w/ tensorflow).. done!\n",
      "351 /media/dirceusilva/EAAC-94C8/BasesDados/GenerosMusicais/FonogramasPorGeneroMusical/INSTRUMENTAL/1130115.ogg\n",
      "Computing spectrogram (w/ librosa) and tags (w/ tensorflow).. done!\n",
      "352 /media/dirceusilva/EAAC-94C8/BasesDados/GenerosMusicais/FonogramasPorGeneroMusical/INSTRUMENTAL/1130126.ogg\n",
      "Computing spectrogram (w/ librosa) and tags (w/ tensorflow).. done!\n",
      "353 /media/dirceusilva/EAAC-94C8/BasesDados/GenerosMusicais/FonogramasPorGeneroMusical/INSTRUMENTAL/1196472.ogg\n",
      "Computing spectrogram (w/ librosa) and tags (w/ tensorflow).. done!\n",
      "354 /media/dirceusilva/EAAC-94C8/BasesDados/GenerosMusicais/FonogramasPorGeneroMusical/INSTRUMENTAL/1216499.ogg\n",
      "Computing spectrogram (w/ librosa) and tags (w/ tensorflow).. done!\n",
      "355 /media/dirceusilva/EAAC-94C8/BasesDados/GenerosMusicais/FonogramasPorGeneroMusical/INSTRUMENTAL/1356722.ogg\n",
      "Computing spectrogram (w/ librosa) and tags (w/ tensorflow).. done!\n",
      "356 /media/dirceusilva/EAAC-94C8/BasesDados/GenerosMusicais/FonogramasPorGeneroMusical/INSTRUMENTAL/1387285.ogg\n",
      "Computing spectrogram (w/ librosa) and tags (w/ tensorflow).. done!\n",
      "357 /media/dirceusilva/EAAC-94C8/BasesDados/GenerosMusicais/FonogramasPorGeneroMusical/INSTRUMENTAL/1496121.ogg\n",
      "Computing spectrogram (w/ librosa) and tags (w/ tensorflow).. done!\n",
      "358 /media/dirceusilva/EAAC-94C8/BasesDados/GenerosMusicais/FonogramasPorGeneroMusical/INSTRUMENTAL/1540521.ogg\n",
      "Computing spectrogram (w/ librosa) and tags (w/ tensorflow).. done!\n",
      "359 /media/dirceusilva/EAAC-94C8/BasesDados/GenerosMusicais/FonogramasPorGeneroMusical/INSTRUMENTAL/1576184.ogg\n",
      "Computing spectrogram (w/ librosa) and tags (w/ tensorflow).. done!\n",
      "360 /media/dirceusilva/EAAC-94C8/BasesDados/GenerosMusicais/FonogramasPorGeneroMusical/INSTRUMENTAL/1894989.ogg\n",
      "Computing spectrogram (w/ librosa) and tags (w/ tensorflow).. done!\n",
      "361 /media/dirceusilva/EAAC-94C8/BasesDados/GenerosMusicais/FonogramasPorGeneroMusical/INSTRUMENTAL/2591757.ogg\n",
      "Computing spectrogram (w/ librosa) and tags (w/ tensorflow).. done!\n",
      "362 /media/dirceusilva/EAAC-94C8/BasesDados/GenerosMusicais/FonogramasPorGeneroMusical/INSTRUMENTAL/3344786.ogg\n",
      "Computing spectrogram (w/ librosa) and tags (w/ tensorflow).. done!\n",
      "363 /media/dirceusilva/EAAC-94C8/BasesDados/GenerosMusicais/FonogramasPorGeneroMusical/INSTRUMENTAL/3344790.ogg\n",
      "Computing spectrogram (w/ librosa) and tags (w/ tensorflow).. done!\n",
      "364 /media/dirceusilva/EAAC-94C8/BasesDados/GenerosMusicais/FonogramasPorGeneroMusical/INSTRUMENTAL/4134474.ogg\n",
      "Computing spectrogram (w/ librosa) and tags (w/ tensorflow).. done!\n",
      "365 /media/dirceusilva/EAAC-94C8/BasesDados/GenerosMusicais/FonogramasPorGeneroMusical/INSTRUMENTAL/50605.ogg\n",
      "Computing spectrogram (w/ librosa) and tags (w/ tensorflow).. done!\n",
      "366 /media/dirceusilva/EAAC-94C8/BasesDados/GenerosMusicais/FonogramasPorGeneroMusical/INSTRUMENTAL/956340.ogg\n",
      "Computing spectrogram (w/ librosa) and tags (w/ tensorflow).. done!\n",
      "367 /media/dirceusilva/EAAC-94C8/BasesDados/GenerosMusicais/FonogramasPorGeneroMusical/INSTRUMENTAL/957163.ogg\n",
      "Computing spectrogram (w/ librosa) and tags (w/ tensorflow).. done!\n",
      "368 /media/dirceusilva/EAAC-94C8/BasesDados/GenerosMusicais/FonogramasPorGeneroMusical/JAZZ/1020812.ogg\n",
      "Computing spectrogram (w/ librosa) and tags (w/ tensorflow).. done!\n",
      "369 /media/dirceusilva/EAAC-94C8/BasesDados/GenerosMusicais/FonogramasPorGeneroMusical/JAZZ/1020818.ogg\n",
      "Computing spectrogram (w/ librosa) and tags (w/ tensorflow).. done!\n",
      "370 /media/dirceusilva/EAAC-94C8/BasesDados/GenerosMusicais/FonogramasPorGeneroMusical/JAZZ/1020823.ogg\n",
      "Computing spectrogram (w/ librosa) and tags (w/ tensorflow).. done!\n",
      "371 /media/dirceusilva/EAAC-94C8/BasesDados/GenerosMusicais/FonogramasPorGeneroMusical/JAZZ/10387292.ogg\n",
      "Computing spectrogram (w/ librosa) and tags (w/ tensorflow).. done!\n",
      "372 /media/dirceusilva/EAAC-94C8/BasesDados/GenerosMusicais/FonogramasPorGeneroMusical/JAZZ/1076249.ogg\n",
      "Computing spectrogram (w/ librosa) and tags (w/ tensorflow).. done!\n",
      "373 /media/dirceusilva/EAAC-94C8/BasesDados/GenerosMusicais/FonogramasPorGeneroMusical/JAZZ/1083516.ogg\n",
      "Computing spectrogram (w/ librosa) and tags (w/ tensorflow).. done!\n",
      "374 /media/dirceusilva/EAAC-94C8/BasesDados/GenerosMusicais/FonogramasPorGeneroMusical/JAZZ/1107259.ogg\n",
      "Computing spectrogram (w/ librosa) and tags (w/ tensorflow).. done!\n",
      "375 /media/dirceusilva/EAAC-94C8/BasesDados/GenerosMusicais/FonogramasPorGeneroMusical/JAZZ/11335845.ogg\n",
      "Computing spectrogram (w/ librosa) and tags (w/ tensorflow).. done!\n",
      "376 /media/dirceusilva/EAAC-94C8/BasesDados/GenerosMusicais/FonogramasPorGeneroMusical/JAZZ/11428676.ogg\n"
     ]
    },
    {
     "name": "stdout",
     "output_type": "stream",
     "text": [
      "Computing spectrogram (w/ librosa) and tags (w/ tensorflow).. done!\n",
      "377 /media/dirceusilva/EAAC-94C8/BasesDados/GenerosMusicais/FonogramasPorGeneroMusical/JAZZ/1171664.ogg\n",
      "Computing spectrogram (w/ librosa) and tags (w/ tensorflow).. done!\n",
      "378 /media/dirceusilva/EAAC-94C8/BasesDados/GenerosMusicais/FonogramasPorGeneroMusical/JAZZ/1171671.ogg\n",
      "Computing spectrogram (w/ librosa) and tags (w/ tensorflow).. done!\n",
      "379 /media/dirceusilva/EAAC-94C8/BasesDados/GenerosMusicais/FonogramasPorGeneroMusical/JAZZ/1185879.ogg\n",
      "Computing spectrogram (w/ librosa) and tags (w/ tensorflow).. done!\n",
      "380 /media/dirceusilva/EAAC-94C8/BasesDados/GenerosMusicais/FonogramasPorGeneroMusical/JAZZ/1214403.ogg\n",
      "Computing spectrogram (w/ librosa) and tags (w/ tensorflow).. done!\n",
      "381 /media/dirceusilva/EAAC-94C8/BasesDados/GenerosMusicais/FonogramasPorGeneroMusical/JAZZ/1218088.ogg\n",
      "Computing spectrogram (w/ librosa) and tags (w/ tensorflow).. done!\n",
      "382 /media/dirceusilva/EAAC-94C8/BasesDados/GenerosMusicais/FonogramasPorGeneroMusical/JAZZ/1218090.ogg\n",
      "Computing spectrogram (w/ librosa) and tags (w/ tensorflow).. done!\n",
      "383 /media/dirceusilva/EAAC-94C8/BasesDados/GenerosMusicais/FonogramasPorGeneroMusical/JAZZ/1218433.ogg\n",
      "Computing spectrogram (w/ librosa) and tags (w/ tensorflow).. done!\n",
      "384 /media/dirceusilva/EAAC-94C8/BasesDados/GenerosMusicais/FonogramasPorGeneroMusical/JAZZ/1218435.ogg\n",
      "Computing spectrogram (w/ librosa) and tags (w/ tensorflow).. done!\n",
      "385 /media/dirceusilva/EAAC-94C8/BasesDados/GenerosMusicais/FonogramasPorGeneroMusical/JAZZ/1254927.ogg\n",
      "Computing spectrogram (w/ librosa) and tags (w/ tensorflow).. done!\n",
      "386 /media/dirceusilva/EAAC-94C8/BasesDados/GenerosMusicais/FonogramasPorGeneroMusical/JAZZ/1546485.ogg\n",
      "Computing spectrogram (w/ librosa) and tags (w/ tensorflow).. done!\n",
      "387 /media/dirceusilva/EAAC-94C8/BasesDados/GenerosMusicais/FonogramasPorGeneroMusical/JAZZ/1619362.ogg\n",
      "Computing spectrogram (w/ librosa) and tags (w/ tensorflow).. done!\n",
      "388 /media/dirceusilva/EAAC-94C8/BasesDados/GenerosMusicais/FonogramasPorGeneroMusical/MPB/1019864.ogg\n",
      "Computing spectrogram (w/ librosa) and tags (w/ tensorflow).. done!\n",
      "389 /media/dirceusilva/EAAC-94C8/BasesDados/GenerosMusicais/FonogramasPorGeneroMusical/MPB/1022127.ogg\n",
      "Computing spectrogram (w/ librosa) and tags (w/ tensorflow).. done!\n",
      "390 /media/dirceusilva/EAAC-94C8/BasesDados/GenerosMusicais/FonogramasPorGeneroMusical/MPB/1043724.ogg\n",
      "Computing spectrogram (w/ librosa) and tags (w/ tensorflow).. done!\n",
      "391 /media/dirceusilva/EAAC-94C8/BasesDados/GenerosMusicais/FonogramasPorGeneroMusical/MPB/1043781.ogg\n",
      "Computing spectrogram (w/ librosa) and tags (w/ tensorflow).. done!\n",
      "392 /media/dirceusilva/EAAC-94C8/BasesDados/GenerosMusicais/FonogramasPorGeneroMusical/MPB/1076081.ogg\n",
      "Computing spectrogram (w/ librosa) and tags (w/ tensorflow).. done!\n",
      "393 /media/dirceusilva/EAAC-94C8/BasesDados/GenerosMusicais/FonogramasPorGeneroMusical/MPB/1088780.ogg\n",
      "Computing spectrogram (w/ librosa) and tags (w/ tensorflow).. done!\n",
      "394 /media/dirceusilva/EAAC-94C8/BasesDados/GenerosMusicais/FonogramasPorGeneroMusical/MPB/1088782.ogg\n",
      "Computing spectrogram (w/ librosa) and tags (w/ tensorflow).. done!\n",
      "395 /media/dirceusilva/EAAC-94C8/BasesDados/GenerosMusicais/FonogramasPorGeneroMusical/MPB/1104588.ogg\n",
      "Computing spectrogram (w/ librosa) and tags (w/ tensorflow).. done!\n",
      "396 /media/dirceusilva/EAAC-94C8/BasesDados/GenerosMusicais/FonogramasPorGeneroMusical/MPB/1114650.ogg\n",
      "Computing spectrogram (w/ librosa) and tags (w/ tensorflow).. done!\n",
      "397 /media/dirceusilva/EAAC-94C8/BasesDados/GenerosMusicais/FonogramasPorGeneroMusical/MPB/1481967.ogg\n",
      "Computing spectrogram (w/ librosa) and tags (w/ tensorflow).. done!\n",
      "398 /media/dirceusilva/EAAC-94C8/BasesDados/GenerosMusicais/FonogramasPorGeneroMusical/MPB/1481970.ogg\n",
      "Computing spectrogram (w/ librosa) and tags (w/ tensorflow).. done!\n",
      "399 /media/dirceusilva/EAAC-94C8/BasesDados/GenerosMusicais/FonogramasPorGeneroMusical/MPB/1509559.ogg\n",
      "Computing spectrogram (w/ librosa) and tags (w/ tensorflow).. done!\n",
      "400 /media/dirceusilva/EAAC-94C8/BasesDados/GenerosMusicais/FonogramasPorGeneroMusical/MPB/1509566.ogg\n",
      "Computing spectrogram (w/ librosa) and tags (w/ tensorflow).. done!\n",
      "401 /media/dirceusilva/EAAC-94C8/BasesDados/GenerosMusicais/FonogramasPorGeneroMusical/MPB/1633061.ogg\n",
      "Computing spectrogram (w/ librosa) and tags (w/ tensorflow).. done!\n",
      "402 /media/dirceusilva/EAAC-94C8/BasesDados/GenerosMusicais/FonogramasPorGeneroMusical/MPB/2594463.ogg\n",
      "Computing spectrogram (w/ librosa) and tags (w/ tensorflow).. done!\n",
      "403 /media/dirceusilva/EAAC-94C8/BasesDados/GenerosMusicais/FonogramasPorGeneroMusical/MPB/3097292.ogg\n",
      "Computing spectrogram (w/ librosa) and tags (w/ tensorflow).. done!\n",
      "404 /media/dirceusilva/EAAC-94C8/BasesDados/GenerosMusicais/FonogramasPorGeneroMusical/MPB/3809307.ogg\n",
      "Computing spectrogram (w/ librosa) and tags (w/ tensorflow).. done!\n",
      "405 /media/dirceusilva/EAAC-94C8/BasesDados/GenerosMusicais/FonogramasPorGeneroMusical/MPB/504260.ogg\n",
      "Computing spectrogram (w/ librosa) and tags (w/ tensorflow).. done!\n",
      "406 /media/dirceusilva/EAAC-94C8/BasesDados/GenerosMusicais/FonogramasPorGeneroMusical/MPB/666947.ogg\n",
      "Computing spectrogram (w/ librosa) and tags (w/ tensorflow).. done!\n",
      "407 /media/dirceusilva/EAAC-94C8/BasesDados/GenerosMusicais/FonogramasPorGeneroMusical/MPB/813274.ogg\n",
      "Computing spectrogram (w/ librosa) and tags (w/ tensorflow).. done!\n",
      "408 /media/dirceusilva/EAAC-94C8/BasesDados/GenerosMusicais/FonogramasPorGeneroMusical/PAGODE/1101462.ogg\n",
      "Computing spectrogram (w/ librosa) and tags (w/ tensorflow).. done!\n",
      "409 /media/dirceusilva/EAAC-94C8/BasesDados/GenerosMusicais/FonogramasPorGeneroMusical/PAGODE/1111425.ogg\n",
      "Computing spectrogram (w/ librosa) and tags (w/ tensorflow).. done!\n",
      "410 /media/dirceusilva/EAAC-94C8/BasesDados/GenerosMusicais/FonogramasPorGeneroMusical/PAGODE/11511429.ogg\n",
      "Computing spectrogram (w/ librosa) and tags (w/ tensorflow).. done!\n",
      "411 /media/dirceusilva/EAAC-94C8/BasesDados/GenerosMusicais/FonogramasPorGeneroMusical/PAGODE/1175270.ogg\n",
      "Computing spectrogram (w/ librosa) and tags (w/ tensorflow).. done!\n",
      "412 /media/dirceusilva/EAAC-94C8/BasesDados/GenerosMusicais/FonogramasPorGeneroMusical/PAGODE/1178265.ogg\n",
      "Computing spectrogram (w/ librosa) and tags (w/ tensorflow).. done!\n",
      "413 /media/dirceusilva/EAAC-94C8/BasesDados/GenerosMusicais/FonogramasPorGeneroMusical/PAGODE/1227743.ogg\n",
      "Computing spectrogram (w/ librosa) and tags (w/ tensorflow).. done!\n",
      "414 /media/dirceusilva/EAAC-94C8/BasesDados/GenerosMusicais/FonogramasPorGeneroMusical/PAGODE/1246650.ogg\n",
      "Computing spectrogram (w/ librosa) and tags (w/ tensorflow).. done!\n",
      "415 /media/dirceusilva/EAAC-94C8/BasesDados/GenerosMusicais/FonogramasPorGeneroMusical/PAGODE/1505163.ogg\n",
      "Computing spectrogram (w/ librosa) and tags (w/ tensorflow).. done!\n",
      "416 /media/dirceusilva/EAAC-94C8/BasesDados/GenerosMusicais/FonogramasPorGeneroMusical/PAGODE/1512472.ogg\n",
      "Computing spectrogram (w/ librosa) and tags (w/ tensorflow).. done!\n",
      "417 /media/dirceusilva/EAAC-94C8/BasesDados/GenerosMusicais/FonogramasPorGeneroMusical/PAGODE/1609695.ogg\n",
      "Computing spectrogram (w/ librosa) and tags (w/ tensorflow).. done!\n",
      "418 /media/dirceusilva/EAAC-94C8/BasesDados/GenerosMusicais/FonogramasPorGeneroMusical/PAGODE/1609703.ogg\n",
      "Computing spectrogram (w/ librosa) and tags (w/ tensorflow).. done!\n",
      "419 /media/dirceusilva/EAAC-94C8/BasesDados/GenerosMusicais/FonogramasPorGeneroMusical/PAGODE/1771416.ogg\n",
      "Computing spectrogram (w/ librosa) and tags (w/ tensorflow).. done!\n",
      "420 /media/dirceusilva/EAAC-94C8/BasesDados/GenerosMusicais/FonogramasPorGeneroMusical/PAGODE/2459241.ogg\n",
      "Computing spectrogram (w/ librosa) and tags (w/ tensorflow).. done!\n",
      "421 /media/dirceusilva/EAAC-94C8/BasesDados/GenerosMusicais/FonogramasPorGeneroMusical/PAGODE/2459245.ogg\n",
      "Computing spectrogram (w/ librosa) and tags (w/ tensorflow).. done!\n",
      "422 /media/dirceusilva/EAAC-94C8/BasesDados/GenerosMusicais/FonogramasPorGeneroMusical/PAGODE/2597703.ogg\n",
      "Computing spectrogram (w/ librosa) and tags (w/ tensorflow).. done!\n",
      "423 /media/dirceusilva/EAAC-94C8/BasesDados/GenerosMusicais/FonogramasPorGeneroMusical/PAGODE/2745430.ogg\n",
      "Computing spectrogram (w/ librosa) and tags (w/ tensorflow).. done!\n",
      "424 /media/dirceusilva/EAAC-94C8/BasesDados/GenerosMusicais/FonogramasPorGeneroMusical/PAGODE/5828168.ogg\n"
     ]
    },
    {
     "name": "stdout",
     "output_type": "stream",
     "text": [
      "Computing spectrogram (w/ librosa) and tags (w/ tensorflow).. done!\n",
      "425 /media/dirceusilva/EAAC-94C8/BasesDados/GenerosMusicais/FonogramasPorGeneroMusical/PAGODE/882618.ogg\n",
      "Computing spectrogram (w/ librosa) and tags (w/ tensorflow).. done!\n",
      "426 /media/dirceusilva/EAAC-94C8/BasesDados/GenerosMusicais/FonogramasPorGeneroMusical/PAGODE/942269.ogg\n",
      "Computing spectrogram (w/ librosa) and tags (w/ tensorflow).. done!\n",
      "427 /media/dirceusilva/EAAC-94C8/BasesDados/GenerosMusicais/FonogramasPorGeneroMusical/PAGODE/968904.ogg\n",
      "Computing spectrogram (w/ librosa) and tags (w/ tensorflow).. done!\n",
      "428 /media/dirceusilva/EAAC-94C8/BasesDados/GenerosMusicais/FonogramasPorGeneroMusical/PARTIDO ALTO/1013361.ogg\n",
      "Computing spectrogram (w/ librosa) and tags (w/ tensorflow).. done!\n",
      "429 /media/dirceusilva/EAAC-94C8/BasesDados/GenerosMusicais/FonogramasPorGeneroMusical/PARTIDO ALTO/1013368.ogg\n",
      "Computing spectrogram (w/ librosa) and tags (w/ tensorflow).. done!\n",
      "430 /media/dirceusilva/EAAC-94C8/BasesDados/GenerosMusicais/FonogramasPorGeneroMusical/PARTIDO ALTO/1013370.ogg\n",
      "Computing spectrogram (w/ librosa) and tags (w/ tensorflow).. done!\n",
      "431 /media/dirceusilva/EAAC-94C8/BasesDados/GenerosMusicais/FonogramasPorGeneroMusical/PARTIDO ALTO/1175470.ogg\n",
      "Computing spectrogram (w/ librosa) and tags (w/ tensorflow).. done!\n",
      "432 /media/dirceusilva/EAAC-94C8/BasesDados/GenerosMusicais/FonogramasPorGeneroMusical/PARTIDO ALTO/1201756.ogg\n",
      "Computing spectrogram (w/ librosa) and tags (w/ tensorflow).. done!\n",
      "433 /media/dirceusilva/EAAC-94C8/BasesDados/GenerosMusicais/FonogramasPorGeneroMusical/PARTIDO ALTO/1228319.ogg\n",
      "Computing spectrogram (w/ librosa) and tags (w/ tensorflow).. done!\n",
      "434 /media/dirceusilva/EAAC-94C8/BasesDados/GenerosMusicais/FonogramasPorGeneroMusical/PARTIDO ALTO/1232002.ogg\n",
      "Computing spectrogram (w/ librosa) and tags (w/ tensorflow).. done!\n",
      "435 /media/dirceusilva/EAAC-94C8/BasesDados/GenerosMusicais/FonogramasPorGeneroMusical/PARTIDO ALTO/1236038.ogg\n",
      "Computing spectrogram (w/ librosa) and tags (w/ tensorflow).. done!\n",
      "436 /media/dirceusilva/EAAC-94C8/BasesDados/GenerosMusicais/FonogramasPorGeneroMusical/PARTIDO ALTO/1342236.ogg\n",
      "Computing spectrogram (w/ librosa) and tags (w/ tensorflow).. done!\n",
      "437 /media/dirceusilva/EAAC-94C8/BasesDados/GenerosMusicais/FonogramasPorGeneroMusical/PARTIDO ALTO/1344140.ogg\n",
      "Computing spectrogram (w/ librosa) and tags (w/ tensorflow).. done!\n",
      "438 /media/dirceusilva/EAAC-94C8/BasesDados/GenerosMusicais/FonogramasPorGeneroMusical/PARTIDO ALTO/1361813.ogg\n",
      "Computing spectrogram (w/ librosa) and tags (w/ tensorflow).. done!\n",
      "439 /media/dirceusilva/EAAC-94C8/BasesDados/GenerosMusicais/FonogramasPorGeneroMusical/PARTIDO ALTO/1395186.ogg\n",
      "Computing spectrogram (w/ librosa) and tags (w/ tensorflow).. done!\n",
      "440 /media/dirceusilva/EAAC-94C8/BasesDados/GenerosMusicais/FonogramasPorGeneroMusical/PARTIDO ALTO/1435510.ogg\n",
      "Computing spectrogram (w/ librosa) and tags (w/ tensorflow).. done!\n",
      "441 /media/dirceusilva/EAAC-94C8/BasesDados/GenerosMusicais/FonogramasPorGeneroMusical/PARTIDO ALTO/1459748.ogg\n",
      "Computing spectrogram (w/ librosa) and tags (w/ tensorflow).. done!\n",
      "442 /media/dirceusilva/EAAC-94C8/BasesDados/GenerosMusicais/FonogramasPorGeneroMusical/PARTIDO ALTO/1489961.ogg\n",
      "Computing spectrogram (w/ librosa) and tags (w/ tensorflow).. done!\n",
      "443 /media/dirceusilva/EAAC-94C8/BasesDados/GenerosMusicais/FonogramasPorGeneroMusical/PARTIDO ALTO/1493643.ogg\n",
      "Computing spectrogram (w/ librosa) and tags (w/ tensorflow).. done!\n",
      "444 /media/dirceusilva/EAAC-94C8/BasesDados/GenerosMusicais/FonogramasPorGeneroMusical/PARTIDO ALTO/1526326.ogg\n",
      "Computing spectrogram (w/ librosa) and tags (w/ tensorflow).. done!\n",
      "445 /media/dirceusilva/EAAC-94C8/BasesDados/GenerosMusicais/FonogramasPorGeneroMusical/PARTIDO ALTO/1550789.ogg\n",
      "Computing spectrogram (w/ librosa) and tags (w/ tensorflow).. done!\n",
      "446 /media/dirceusilva/EAAC-94C8/BasesDados/GenerosMusicais/FonogramasPorGeneroMusical/PARTIDO ALTO/1599497.ogg\n",
      "Computing spectrogram (w/ librosa) and tags (w/ tensorflow).. done!\n",
      "447 /media/dirceusilva/EAAC-94C8/BasesDados/GenerosMusicais/FonogramasPorGeneroMusical/PARTIDO ALTO/958519.ogg\n",
      "Computing spectrogram (w/ librosa) and tags (w/ tensorflow).. done!\n",
      "448 /media/dirceusilva/EAAC-94C8/BasesDados/GenerosMusicais/FonogramasPorGeneroMusical/POP MUSIC/1043742.ogg\n",
      "Computing spectrogram (w/ librosa) and tags (w/ tensorflow).. done!\n",
      "449 /media/dirceusilva/EAAC-94C8/BasesDados/GenerosMusicais/FonogramasPorGeneroMusical/POP MUSIC/1064714.ogg\n",
      "Computing spectrogram (w/ librosa) and tags (w/ tensorflow).. done!\n",
      "450 /media/dirceusilva/EAAC-94C8/BasesDados/GenerosMusicais/FonogramasPorGeneroMusical/POP MUSIC/1144623.ogg\n",
      "Computing spectrogram (w/ librosa) and tags (w/ tensorflow).. done!\n",
      "451 /media/dirceusilva/EAAC-94C8/BasesDados/GenerosMusicais/FonogramasPorGeneroMusical/POP MUSIC/11735015.ogg\n",
      "Computing spectrogram (w/ librosa) and tags (w/ tensorflow).. done!\n",
      "452 /media/dirceusilva/EAAC-94C8/BasesDados/GenerosMusicais/FonogramasPorGeneroMusical/POP MUSIC/1548034.ogg\n",
      "Computing spectrogram (w/ librosa) and tags (w/ tensorflow).. done!\n",
      "453 /media/dirceusilva/EAAC-94C8/BasesDados/GenerosMusicais/FonogramasPorGeneroMusical/POP MUSIC/1559506.ogg\n",
      "Computing spectrogram (w/ librosa) and tags (w/ tensorflow).. done!\n",
      "454 /media/dirceusilva/EAAC-94C8/BasesDados/GenerosMusicais/FonogramasPorGeneroMusical/POP MUSIC/1559524.ogg\n",
      "Computing spectrogram (w/ librosa) and tags (w/ tensorflow).. done!\n",
      "455 /media/dirceusilva/EAAC-94C8/BasesDados/GenerosMusicais/FonogramasPorGeneroMusical/POP MUSIC/1650888.ogg\n",
      "Computing spectrogram (w/ librosa) and tags (w/ tensorflow).. done!\n",
      "456 /media/dirceusilva/EAAC-94C8/BasesDados/GenerosMusicais/FonogramasPorGeneroMusical/POP MUSIC/2135907.ogg\n",
      "Computing spectrogram (w/ librosa) and tags (w/ tensorflow).. done!\n",
      "457 /media/dirceusilva/EAAC-94C8/BasesDados/GenerosMusicais/FonogramasPorGeneroMusical/POP MUSIC/2136251.ogg\n",
      "Computing spectrogram (w/ librosa) and tags (w/ tensorflow).. done!\n",
      "458 /media/dirceusilva/EAAC-94C8/BasesDados/GenerosMusicais/FonogramasPorGeneroMusical/POP MUSIC/2261341.ogg\n",
      "Computing spectrogram (w/ librosa) and tags (w/ tensorflow).. done!\n",
      "459 /media/dirceusilva/EAAC-94C8/BasesDados/GenerosMusicais/FonogramasPorGeneroMusical/POP MUSIC/2459940.ogg\n",
      "Computing spectrogram (w/ librosa) and tags (w/ tensorflow).. done!\n",
      "460 /media/dirceusilva/EAAC-94C8/BasesDados/GenerosMusicais/FonogramasPorGeneroMusical/POP MUSIC/2636798.ogg\n",
      "Computing spectrogram (w/ librosa) and tags (w/ tensorflow).. done!\n",
      "461 /media/dirceusilva/EAAC-94C8/BasesDados/GenerosMusicais/FonogramasPorGeneroMusical/POP MUSIC/3144783.ogg\n",
      "Computing spectrogram (w/ librosa) and tags (w/ tensorflow).. done!\n",
      "462 /media/dirceusilva/EAAC-94C8/BasesDados/GenerosMusicais/FonogramasPorGeneroMusical/POP MUSIC/3284500.ogg\n",
      "Computing spectrogram (w/ librosa) and tags (w/ tensorflow).. done!\n",
      "463 /media/dirceusilva/EAAC-94C8/BasesDados/GenerosMusicais/FonogramasPorGeneroMusical/POP MUSIC/5765015.ogg\n",
      "Computing spectrogram (w/ librosa) and tags (w/ tensorflow).. done!\n",
      "464 /media/dirceusilva/EAAC-94C8/BasesDados/GenerosMusicais/FonogramasPorGeneroMusical/POP MUSIC/9678167.ogg\n",
      "Computing spectrogram (w/ librosa) and tags (w/ tensorflow).. done!\n",
      "465 /media/dirceusilva/EAAC-94C8/BasesDados/GenerosMusicais/FonogramasPorGeneroMusical/POP MUSIC/9678168.ogg\n",
      "Computing spectrogram (w/ librosa) and tags (w/ tensorflow).. done!\n",
      "466 /media/dirceusilva/EAAC-94C8/BasesDados/GenerosMusicais/FonogramasPorGeneroMusical/POP MUSIC/9678169.ogg\n",
      "Computing spectrogram (w/ librosa) and tags (w/ tensorflow).. done!\n",
      "467 /media/dirceusilva/EAAC-94C8/BasesDados/GenerosMusicais/FonogramasPorGeneroMusical/POP MUSIC/9678173.ogg\n",
      "Computing spectrogram (w/ librosa) and tags (w/ tensorflow).. done!\n",
      "468 /media/dirceusilva/EAAC-94C8/BasesDados/GenerosMusicais/FonogramasPorGeneroMusical/POP ROCK/1088694.ogg\n",
      "Computing spectrogram (w/ librosa) and tags (w/ tensorflow).. done!\n",
      "469 /media/dirceusilva/EAAC-94C8/BasesDados/GenerosMusicais/FonogramasPorGeneroMusical/POP ROCK/1105466.ogg\n",
      "Computing spectrogram (w/ librosa) and tags (w/ tensorflow).. done!\n",
      "470 /media/dirceusilva/EAAC-94C8/BasesDados/GenerosMusicais/FonogramasPorGeneroMusical/POP ROCK/1177668.ogg\n",
      "Computing spectrogram (w/ librosa) and tags (w/ tensorflow).. done!\n",
      "471 /media/dirceusilva/EAAC-94C8/BasesDados/GenerosMusicais/FonogramasPorGeneroMusical/POP ROCK/1275826.ogg\n",
      "Computing spectrogram (w/ librosa) and tags (w/ tensorflow).. done!\n",
      "472 /media/dirceusilva/EAAC-94C8/BasesDados/GenerosMusicais/FonogramasPorGeneroMusical/POP ROCK/1387234.ogg\n",
      "Computing spectrogram (w/ librosa) and tags (w/ tensorflow).. done!\n",
      "473 /media/dirceusilva/EAAC-94C8/BasesDados/GenerosMusicais/FonogramasPorGeneroMusical/POP ROCK/1427942.ogg\n",
      "Computing spectrogram (w/ librosa) and tags (w/ tensorflow).. done!\n",
      "474 /media/dirceusilva/EAAC-94C8/BasesDados/GenerosMusicais/FonogramasPorGeneroMusical/POP ROCK/1475099.ogg\n",
      "Computing spectrogram (w/ librosa) and tags (w/ tensorflow).. done!\n",
      "475 /media/dirceusilva/EAAC-94C8/BasesDados/GenerosMusicais/FonogramasPorGeneroMusical/POP ROCK/1518283.ogg\n",
      "Computing spectrogram (w/ librosa) and tags (w/ tensorflow).. done!\n",
      "476 /media/dirceusilva/EAAC-94C8/BasesDados/GenerosMusicais/FonogramasPorGeneroMusical/POP ROCK/1559306.ogg\n",
      "Computing spectrogram (w/ librosa) and tags (w/ tensorflow).. done!\n",
      "477 /media/dirceusilva/EAAC-94C8/BasesDados/GenerosMusicais/FonogramasPorGeneroMusical/POP ROCK/1680476.ogg\n",
      "Computing spectrogram (w/ librosa) and tags (w/ tensorflow).. done!\n",
      "478 /media/dirceusilva/EAAC-94C8/BasesDados/GenerosMusicais/FonogramasPorGeneroMusical/POP ROCK/1748828.ogg\n",
      "Computing spectrogram (w/ librosa) and tags (w/ tensorflow).. done!\n",
      "479 /media/dirceusilva/EAAC-94C8/BasesDados/GenerosMusicais/FonogramasPorGeneroMusical/POP ROCK/1748831.ogg\n",
      "Computing spectrogram (w/ librosa) and tags (w/ tensorflow).. done!\n",
      "480 /media/dirceusilva/EAAC-94C8/BasesDados/GenerosMusicais/FonogramasPorGeneroMusical/POP ROCK/1753467.ogg\n",
      "Computing spectrogram (w/ librosa) and tags (w/ tensorflow).. done!\n",
      "481 /media/dirceusilva/EAAC-94C8/BasesDados/GenerosMusicais/FonogramasPorGeneroMusical/POP ROCK/2265980.ogg\n",
      "Computing spectrogram (w/ librosa) and tags (w/ tensorflow).. done!\n",
      "482 /media/dirceusilva/EAAC-94C8/BasesDados/GenerosMusicais/FonogramasPorGeneroMusical/POP ROCK/2505751.ogg\n",
      "Computing spectrogram (w/ librosa) and tags (w/ tensorflow).. done!\n",
      "483 /media/dirceusilva/EAAC-94C8/BasesDados/GenerosMusicais/FonogramasPorGeneroMusical/POP ROCK/2952425.ogg\n",
      "Computing spectrogram (w/ librosa) and tags (w/ tensorflow).. done!\n",
      "484 /media/dirceusilva/EAAC-94C8/BasesDados/GenerosMusicais/FonogramasPorGeneroMusical/POP ROCK/3157696.ogg\n",
      "Computing spectrogram (w/ librosa) and tags (w/ tensorflow).. done!\n",
      "485 /media/dirceusilva/EAAC-94C8/BasesDados/GenerosMusicais/FonogramasPorGeneroMusical/POP ROCK/3285787.ogg\n",
      "Computing spectrogram (w/ librosa) and tags (w/ tensorflow).. done!\n",
      "486 /media/dirceusilva/EAAC-94C8/BasesDados/GenerosMusicais/FonogramasPorGeneroMusical/POP ROCK/5159209.ogg\n",
      "Computing spectrogram (w/ librosa) and tags (w/ tensorflow).. done!\n",
      "487 /media/dirceusilva/EAAC-94C8/BasesDados/GenerosMusicais/FonogramasPorGeneroMusical/POP ROCK/6077415.ogg\n",
      "Computing spectrogram (w/ librosa) and tags (w/ tensorflow).. done!\n",
      "488 /media/dirceusilva/EAAC-94C8/BasesDados/GenerosMusicais/FonogramasPorGeneroMusical/RAP/1018606.ogg\n",
      "Computing spectrogram (w/ librosa) and tags (w/ tensorflow).. done!\n",
      "489 /media/dirceusilva/EAAC-94C8/BasesDados/GenerosMusicais/FonogramasPorGeneroMusical/RAP/1072365.ogg\n",
      "Computing spectrogram (w/ librosa) and tags (w/ tensorflow).. done!\n",
      "490 /media/dirceusilva/EAAC-94C8/BasesDados/GenerosMusicais/FonogramasPorGeneroMusical/RAP/1101178.ogg\n",
      "Computing spectrogram (w/ librosa) and tags (w/ tensorflow).. done!\n",
      "491 /media/dirceusilva/EAAC-94C8/BasesDados/GenerosMusicais/FonogramasPorGeneroMusical/RAP/1102099.ogg\n",
      "Computing spectrogram (w/ librosa) and tags (w/ tensorflow).. done!\n",
      "492 /media/dirceusilva/EAAC-94C8/BasesDados/GenerosMusicais/FonogramasPorGeneroMusical/RAP/1118862.ogg\n",
      "Computing spectrogram (w/ librosa) and tags (w/ tensorflow).. done!\n",
      "493 /media/dirceusilva/EAAC-94C8/BasesDados/GenerosMusicais/FonogramasPorGeneroMusical/RAP/1184623.ogg\n",
      "Computing spectrogram (w/ librosa) and tags (w/ tensorflow).. done!\n",
      "494 /media/dirceusilva/EAAC-94C8/BasesDados/GenerosMusicais/FonogramasPorGeneroMusical/RAP/1202591.ogg\n",
      "Computing spectrogram (w/ librosa) and tags (w/ tensorflow).. done!\n",
      "495 /media/dirceusilva/EAAC-94C8/BasesDados/GenerosMusicais/FonogramasPorGeneroMusical/RAP/1216065.ogg\n",
      "Computing spectrogram (w/ librosa) and tags (w/ tensorflow).. done!\n",
      "496 /media/dirceusilva/EAAC-94C8/BasesDados/GenerosMusicais/FonogramasPorGeneroMusical/RAP/1250294.ogg\n",
      "Computing spectrogram (w/ librosa) and tags (w/ tensorflow).. done!\n",
      "497 /media/dirceusilva/EAAC-94C8/BasesDados/GenerosMusicais/FonogramasPorGeneroMusical/RAP/1319121.ogg\n",
      "Computing spectrogram (w/ librosa) and tags (w/ tensorflow).. done!\n",
      "498 /media/dirceusilva/EAAC-94C8/BasesDados/GenerosMusicais/FonogramasPorGeneroMusical/RAP/1382110.ogg\n",
      "Computing spectrogram (w/ librosa) and tags (w/ tensorflow).. done!\n",
      "499 /media/dirceusilva/EAAC-94C8/BasesDados/GenerosMusicais/FonogramasPorGeneroMusical/RAP/1395198.ogg\n",
      "Computing spectrogram (w/ librosa) and tags (w/ tensorflow).. done!\n",
      "500 /media/dirceusilva/EAAC-94C8/BasesDados/GenerosMusicais/FonogramasPorGeneroMusical/RAP/1504158.ogg\n",
      "Computing spectrogram (w/ librosa) and tags (w/ tensorflow).. done!\n",
      "501 /media/dirceusilva/EAAC-94C8/BasesDados/GenerosMusicais/FonogramasPorGeneroMusical/RAP/1559534.ogg\n",
      "Computing spectrogram (w/ librosa) and tags (w/ tensorflow).. done!\n",
      "502 /media/dirceusilva/EAAC-94C8/BasesDados/GenerosMusicais/FonogramasPorGeneroMusical/RAP/1874839.ogg\n",
      "Computing spectrogram (w/ librosa) and tags (w/ tensorflow).. done!\n",
      "503 /media/dirceusilva/EAAC-94C8/BasesDados/GenerosMusicais/FonogramasPorGeneroMusical/RAP/1876032.ogg\n",
      "Computing spectrogram (w/ librosa) and tags (w/ tensorflow).. done!\n",
      "504 /media/dirceusilva/EAAC-94C8/BasesDados/GenerosMusicais/FonogramasPorGeneroMusical/RAP/3253992.ogg\n",
      "Computing spectrogram (w/ librosa) and tags (w/ tensorflow).. done!\n",
      "505 /media/dirceusilva/EAAC-94C8/BasesDados/GenerosMusicais/FonogramasPorGeneroMusical/RAP/3253994.ogg\n",
      "Computing spectrogram (w/ librosa) and tags (w/ tensorflow).. done!\n",
      "506 /media/dirceusilva/EAAC-94C8/BasesDados/GenerosMusicais/FonogramasPorGeneroMusical/RAP/817614.ogg\n",
      "Computing spectrogram (w/ librosa) and tags (w/ tensorflow).. done!\n",
      "507 /media/dirceusilva/EAAC-94C8/BasesDados/GenerosMusicais/FonogramasPorGeneroMusical/RAP/984836.ogg\n",
      "Computing spectrogram (w/ librosa) and tags (w/ tensorflow).. done!\n",
      "508 /media/dirceusilva/EAAC-94C8/BasesDados/GenerosMusicais/FonogramasPorGeneroMusical/REGGAE/1057383.ogg\n",
      "Computing spectrogram (w/ librosa) and tags (w/ tensorflow).. done!\n",
      "509 /media/dirceusilva/EAAC-94C8/BasesDados/GenerosMusicais/FonogramasPorGeneroMusical/REGGAE/1087099.ogg\n",
      "Computing spectrogram (w/ librosa) and tags (w/ tensorflow).. done!\n",
      "510 /media/dirceusilva/EAAC-94C8/BasesDados/GenerosMusicais/FonogramasPorGeneroMusical/REGGAE/1090186.ogg\n",
      "Computing spectrogram (w/ librosa) and tags (w/ tensorflow).. done!\n",
      "511 /media/dirceusilva/EAAC-94C8/BasesDados/GenerosMusicais/FonogramasPorGeneroMusical/REGGAE/1129698.ogg\n",
      "Computing spectrogram (w/ librosa) and tags (w/ tensorflow).. done!\n",
      "512 /media/dirceusilva/EAAC-94C8/BasesDados/GenerosMusicais/FonogramasPorGeneroMusical/REGGAE/1198533.ogg\n",
      "Computing spectrogram (w/ librosa) and tags (w/ tensorflow).. done!\n",
      "513 /media/dirceusilva/EAAC-94C8/BasesDados/GenerosMusicais/FonogramasPorGeneroMusical/REGGAE/1258375.ogg\n",
      "Computing spectrogram (w/ librosa) and tags (w/ tensorflow).. done!\n",
      "514 /media/dirceusilva/EAAC-94C8/BasesDados/GenerosMusicais/FonogramasPorGeneroMusical/REGGAE/1390030.ogg\n",
      "Computing spectrogram (w/ librosa) and tags (w/ tensorflow).. done!\n",
      "515 /media/dirceusilva/EAAC-94C8/BasesDados/GenerosMusicais/FonogramasPorGeneroMusical/REGGAE/1390108.ogg\n",
      "Computing spectrogram (w/ librosa) and tags (w/ tensorflow).. done!\n",
      "516 /media/dirceusilva/EAAC-94C8/BasesDados/GenerosMusicais/FonogramasPorGeneroMusical/REGGAE/1464071.ogg\n",
      "Computing spectrogram (w/ librosa) and tags (w/ tensorflow).. done!\n",
      "517 /media/dirceusilva/EAAC-94C8/BasesDados/GenerosMusicais/FonogramasPorGeneroMusical/REGGAE/1503681.ogg\n"
     ]
    },
    {
     "name": "stdout",
     "output_type": "stream",
     "text": [
      "Computing spectrogram (w/ librosa) and tags (w/ tensorflow).. done!\n",
      "518 /media/dirceusilva/EAAC-94C8/BasesDados/GenerosMusicais/FonogramasPorGeneroMusical/REGGAE/3281077.ogg\n",
      "Computing spectrogram (w/ librosa) and tags (w/ tensorflow).. done!\n",
      "519 /media/dirceusilva/EAAC-94C8/BasesDados/GenerosMusicais/FonogramasPorGeneroMusical/REGGAE/3281089.ogg\n",
      "Computing spectrogram (w/ librosa) and tags (w/ tensorflow).. done!\n",
      "520 /media/dirceusilva/EAAC-94C8/BasesDados/GenerosMusicais/FonogramasPorGeneroMusical/REGGAE/3281091.ogg\n",
      "Computing spectrogram (w/ librosa) and tags (w/ tensorflow).. done!\n",
      "521 /media/dirceusilva/EAAC-94C8/BasesDados/GenerosMusicais/FonogramasPorGeneroMusical/REGGAE/3281642.ogg\n",
      "Computing spectrogram (w/ librosa) and tags (w/ tensorflow).. done!\n",
      "522 /media/dirceusilva/EAAC-94C8/BasesDados/GenerosMusicais/FonogramasPorGeneroMusical/REGGAE/5826754.ogg\n",
      "Computing spectrogram (w/ librosa) and tags (w/ tensorflow).. done!\n",
      "523 /media/dirceusilva/EAAC-94C8/BasesDados/GenerosMusicais/FonogramasPorGeneroMusical/REGGAE/637959.ogg\n",
      "Computing spectrogram (w/ librosa) and tags (w/ tensorflow).. done!\n",
      "524 /media/dirceusilva/EAAC-94C8/BasesDados/GenerosMusicais/FonogramasPorGeneroMusical/REGGAE/873281.ogg\n",
      "Computing spectrogram (w/ librosa) and tags (w/ tensorflow).. done!\n",
      "525 /media/dirceusilva/EAAC-94C8/BasesDados/GenerosMusicais/FonogramasPorGeneroMusical/REGGAE/912591.ogg\n",
      "Computing spectrogram (w/ librosa) and tags (w/ tensorflow).. done!\n",
      "526 /media/dirceusilva/EAAC-94C8/BasesDados/GenerosMusicais/FonogramasPorGeneroMusical/REGGAE/920703.ogg\n",
      "Computing spectrogram (w/ librosa) and tags (w/ tensorflow).. done!\n",
      "527 /media/dirceusilva/EAAC-94C8/BasesDados/GenerosMusicais/FonogramasPorGeneroMusical/REGGAE/935130.ogg\n",
      "Computing spectrogram (w/ librosa) and tags (w/ tensorflow).. done!\n",
      "528 /media/dirceusilva/EAAC-94C8/BasesDados/GenerosMusicais/FonogramasPorGeneroMusical/REGIONAL/1075756.ogg\n",
      "Computing spectrogram (w/ librosa) and tags (w/ tensorflow).. done!\n",
      "529 /media/dirceusilva/EAAC-94C8/BasesDados/GenerosMusicais/FonogramasPorGeneroMusical/REGIONAL/1184169.ogg\n",
      "Computing spectrogram (w/ librosa) and tags (w/ tensorflow).. done!\n",
      "530 /media/dirceusilva/EAAC-94C8/BasesDados/GenerosMusicais/FonogramasPorGeneroMusical/REGIONAL/1366954.ogg\n",
      "Computing spectrogram (w/ librosa) and tags (w/ tensorflow).. done!\n",
      "531 /media/dirceusilva/EAAC-94C8/BasesDados/GenerosMusicais/FonogramasPorGeneroMusical/REGIONAL/1399240.ogg\n",
      "Computing spectrogram (w/ librosa) and tags (w/ tensorflow).. done!\n",
      "532 /media/dirceusilva/EAAC-94C8/BasesDados/GenerosMusicais/FonogramasPorGeneroMusical/REGIONAL/1464061.ogg\n",
      "Computing spectrogram (w/ librosa) and tags (w/ tensorflow).. done!\n",
      "533 /media/dirceusilva/EAAC-94C8/BasesDados/GenerosMusicais/FonogramasPorGeneroMusical/REGIONAL/1536205.ogg\n",
      "Computing spectrogram (w/ librosa) and tags (w/ tensorflow).. done!\n",
      "534 /media/dirceusilva/EAAC-94C8/BasesDados/GenerosMusicais/FonogramasPorGeneroMusical/REGIONAL/1566141.ogg\n",
      "Computing spectrogram (w/ librosa) and tags (w/ tensorflow).. done!\n",
      "535 /media/dirceusilva/EAAC-94C8/BasesDados/GenerosMusicais/FonogramasPorGeneroMusical/REGIONAL/1578249.ogg\n",
      "Computing spectrogram (w/ librosa) and tags (w/ tensorflow).. done!\n",
      "536 /media/dirceusilva/EAAC-94C8/BasesDados/GenerosMusicais/FonogramasPorGeneroMusical/REGIONAL/1754963.ogg\n",
      "Computing spectrogram (w/ librosa) and tags (w/ tensorflow).. done!\n",
      "537 /media/dirceusilva/EAAC-94C8/BasesDados/GenerosMusicais/FonogramasPorGeneroMusical/REGIONAL/1754968.ogg\n",
      "Computing spectrogram (w/ librosa) and tags (w/ tensorflow).. done!\n",
      "538 /media/dirceusilva/EAAC-94C8/BasesDados/GenerosMusicais/FonogramasPorGeneroMusical/REGIONAL/1830998.ogg\n",
      "Computing spectrogram (w/ librosa) and tags (w/ tensorflow).. done!\n",
      "539 /media/dirceusilva/EAAC-94C8/BasesDados/GenerosMusicais/FonogramasPorGeneroMusical/REGIONAL/1830999.ogg\n",
      "Computing spectrogram (w/ librosa) and tags (w/ tensorflow).. done!\n",
      "540 /media/dirceusilva/EAAC-94C8/BasesDados/GenerosMusicais/FonogramasPorGeneroMusical/REGIONAL/1831003.ogg\n",
      "Computing spectrogram (w/ librosa) and tags (w/ tensorflow).. done!\n",
      "541 /media/dirceusilva/EAAC-94C8/BasesDados/GenerosMusicais/FonogramasPorGeneroMusical/REGIONAL/1831004.ogg\n",
      "Computing spectrogram (w/ librosa) and tags (w/ tensorflow).. done!\n",
      "542 /media/dirceusilva/EAAC-94C8/BasesDados/GenerosMusicais/FonogramasPorGeneroMusical/REGIONAL/2942480.ogg\n",
      "Computing spectrogram (w/ librosa) and tags (w/ tensorflow).. done!\n",
      "543 /media/dirceusilva/EAAC-94C8/BasesDados/GenerosMusicais/FonogramasPorGeneroMusical/REGIONAL/2942483.ogg\n",
      "Computing spectrogram (w/ librosa) and tags (w/ tensorflow).. done!\n",
      "544 /media/dirceusilva/EAAC-94C8/BasesDados/GenerosMusicais/FonogramasPorGeneroMusical/REGIONAL/3253728.ogg\n",
      "Computing spectrogram (w/ librosa) and tags (w/ tensorflow).. done!\n",
      "545 /media/dirceusilva/EAAC-94C8/BasesDados/GenerosMusicais/FonogramasPorGeneroMusical/REGIONAL/5762999.ogg\n",
      "Computing spectrogram (w/ librosa) and tags (w/ tensorflow).. done!\n",
      "546 /media/dirceusilva/EAAC-94C8/BasesDados/GenerosMusicais/FonogramasPorGeneroMusical/REGIONAL/6281901.ogg\n",
      "Computing spectrogram (w/ librosa) and tags (w/ tensorflow).. done!\n",
      "547 /media/dirceusilva/EAAC-94C8/BasesDados/GenerosMusicais/FonogramasPorGeneroMusical/REGIONAL/852280.ogg\n",
      "Computing spectrogram (w/ librosa) and tags (w/ tensorflow).. done!\n",
      "548 /media/dirceusilva/EAAC-94C8/BasesDados/GenerosMusicais/FonogramasPorGeneroMusical/ROCK/1041803.ogg\n",
      "Computing spectrogram (w/ librosa) and tags (w/ tensorflow).. done!\n",
      "549 /media/dirceusilva/EAAC-94C8/BasesDados/GenerosMusicais/FonogramasPorGeneroMusical/ROCK/10748282.ogg\n",
      "Computing spectrogram (w/ librosa) and tags (w/ tensorflow).. done!\n",
      "550 /media/dirceusilva/EAAC-94C8/BasesDados/GenerosMusicais/FonogramasPorGeneroMusical/ROCK/1086426.ogg\n",
      "Computing spectrogram (w/ librosa) and tags (w/ tensorflow).. done!\n",
      "551 /media/dirceusilva/EAAC-94C8/BasesDados/GenerosMusicais/FonogramasPorGeneroMusical/ROCK/1204969.ogg\n",
      "Computing spectrogram (w/ librosa) and tags (w/ tensorflow).. done!\n",
      "552 /media/dirceusilva/EAAC-94C8/BasesDados/GenerosMusicais/FonogramasPorGeneroMusical/ROCK/1294653.ogg\n",
      "Computing spectrogram (w/ librosa) and tags (w/ tensorflow).. done!\n",
      "553 /media/dirceusilva/EAAC-94C8/BasesDados/GenerosMusicais/FonogramasPorGeneroMusical/ROCK/1308282.ogg\n",
      "Computing spectrogram (w/ librosa) and tags (w/ tensorflow).. done!\n",
      "554 /media/dirceusilva/EAAC-94C8/BasesDados/GenerosMusicais/FonogramasPorGeneroMusical/ROCK/1382022.ogg\n",
      "Computing spectrogram (w/ librosa) and tags (w/ tensorflow).. done!\n",
      "555 /media/dirceusilva/EAAC-94C8/BasesDados/GenerosMusicais/FonogramasPorGeneroMusical/ROCK/1540531.ogg\n",
      "Computing spectrogram (w/ librosa) and tags (w/ tensorflow).. done!\n",
      "556 /media/dirceusilva/EAAC-94C8/BasesDados/GenerosMusicais/FonogramasPorGeneroMusical/ROCK/1569063.ogg\n",
      "Computing spectrogram (w/ librosa) and tags (w/ tensorflow).. done!\n",
      "557 /media/dirceusilva/EAAC-94C8/BasesDados/GenerosMusicais/FonogramasPorGeneroMusical/ROCK/1581297.ogg\n",
      "Computing spectrogram (w/ librosa) and tags (w/ tensorflow).. done!\n",
      "558 /media/dirceusilva/EAAC-94C8/BasesDados/GenerosMusicais/FonogramasPorGeneroMusical/ROCK/1614685.ogg\n",
      "Computing spectrogram (w/ librosa) and tags (w/ tensorflow).. done!\n",
      "559 /media/dirceusilva/EAAC-94C8/BasesDados/GenerosMusicais/FonogramasPorGeneroMusical/ROCK/1759553.ogg\n",
      "Computing spectrogram (w/ librosa) and tags (w/ tensorflow).. done!\n",
      "560 /media/dirceusilva/EAAC-94C8/BasesDados/GenerosMusicais/FonogramasPorGeneroMusical/ROCK/2057249.ogg\n",
      "Computing spectrogram (w/ librosa) and tags (w/ tensorflow).. done!\n",
      "561 /media/dirceusilva/EAAC-94C8/BasesDados/GenerosMusicais/FonogramasPorGeneroMusical/ROCK/2158680.ogg\n",
      "Computing spectrogram (w/ librosa) and tags (w/ tensorflow).. done!\n",
      "562 /media/dirceusilva/EAAC-94C8/BasesDados/GenerosMusicais/FonogramasPorGeneroMusical/ROCK/2488266.ogg\n",
      "Computing spectrogram (w/ librosa) and tags (w/ tensorflow).. done!\n",
      "563 /media/dirceusilva/EAAC-94C8/BasesDados/GenerosMusicais/FonogramasPorGeneroMusical/ROCK/2938998.ogg\n",
      "Computing spectrogram (w/ librosa) and tags (w/ tensorflow).. done!\n",
      "564 /media/dirceusilva/EAAC-94C8/BasesDados/GenerosMusicais/FonogramasPorGeneroMusical/ROCK/636490.ogg\n",
      "Computing spectrogram (w/ librosa) and tags (w/ tensorflow).. done!\n",
      "565 /media/dirceusilva/EAAC-94C8/BasesDados/GenerosMusicais/FonogramasPorGeneroMusical/ROCK/854584.ogg\n",
      "Computing spectrogram (w/ librosa) and tags (w/ tensorflow).. done!\n",
      "566 /media/dirceusilva/EAAC-94C8/BasesDados/GenerosMusicais/FonogramasPorGeneroMusical/ROCK/877358.ogg\n",
      "Computing spectrogram (w/ librosa) and tags (w/ tensorflow).. done!\n",
      "567 /media/dirceusilva/EAAC-94C8/BasesDados/GenerosMusicais/FonogramasPorGeneroMusical/ROCK/981676.ogg\n",
      "Computing spectrogram (w/ librosa) and tags (w/ tensorflow).. done!\n",
      "568 /media/dirceusilva/EAAC-94C8/BasesDados/GenerosMusicais/FonogramasPorGeneroMusical/ROCK POP/10027666.ogg\n",
      "Computing spectrogram (w/ librosa) and tags (w/ tensorflow).. done!\n",
      "569 /media/dirceusilva/EAAC-94C8/BasesDados/GenerosMusicais/FonogramasPorGeneroMusical/ROCK POP/10484538.ogg\n",
      "Computing spectrogram (w/ librosa) and tags (w/ tensorflow).. done!\n",
      "570 /media/dirceusilva/EAAC-94C8/BasesDados/GenerosMusicais/FonogramasPorGeneroMusical/ROCK POP/10871721.ogg\n",
      "Computing spectrogram (w/ librosa) and tags (w/ tensorflow).. done!\n",
      "571 /media/dirceusilva/EAAC-94C8/BasesDados/GenerosMusicais/FonogramasPorGeneroMusical/ROCK POP/11460522.ogg\n",
      "Computing spectrogram (w/ librosa) and tags (w/ tensorflow).. done!\n",
      "572 /media/dirceusilva/EAAC-94C8/BasesDados/GenerosMusicais/FonogramasPorGeneroMusical/ROCK POP/11460560.ogg\n",
      "Computing spectrogram (w/ librosa) and tags (w/ tensorflow).. done!\n",
      "573 /media/dirceusilva/EAAC-94C8/BasesDados/GenerosMusicais/FonogramasPorGeneroMusical/ROCK POP/1252192.ogg\n",
      "Computing spectrogram (w/ librosa) and tags (w/ tensorflow).. done!\n",
      "574 /media/dirceusilva/EAAC-94C8/BasesDados/GenerosMusicais/FonogramasPorGeneroMusical/ROCK POP/1329077.ogg\n",
      "Computing spectrogram (w/ librosa) and tags (w/ tensorflow).. done!\n",
      "575 /media/dirceusilva/EAAC-94C8/BasesDados/GenerosMusicais/FonogramasPorGeneroMusical/ROCK POP/1372800.ogg\n",
      "Computing spectrogram (w/ librosa) and tags (w/ tensorflow).. done!\n",
      "576 /media/dirceusilva/EAAC-94C8/BasesDados/GenerosMusicais/FonogramasPorGeneroMusical/ROCK POP/1386418.ogg\n",
      "Computing spectrogram (w/ librosa) and tags (w/ tensorflow).. done!\n",
      "577 /media/dirceusilva/EAAC-94C8/BasesDados/GenerosMusicais/FonogramasPorGeneroMusical/ROCK POP/1494880.ogg\n",
      "Computing spectrogram (w/ librosa) and tags (w/ tensorflow).. done!\n",
      "578 /media/dirceusilva/EAAC-94C8/BasesDados/GenerosMusicais/FonogramasPorGeneroMusical/ROCK POP/1516768.ogg\n",
      "Computing spectrogram (w/ librosa) and tags (w/ tensorflow).. done!\n",
      "579 /media/dirceusilva/EAAC-94C8/BasesDados/GenerosMusicais/FonogramasPorGeneroMusical/ROCK POP/1529632.ogg\n",
      "Computing spectrogram (w/ librosa) and tags (w/ tensorflow).. done!\n",
      "580 /media/dirceusilva/EAAC-94C8/BasesDados/GenerosMusicais/FonogramasPorGeneroMusical/ROCK POP/1529638.ogg\n",
      "Computing spectrogram (w/ librosa) and tags (w/ tensorflow).. done!\n",
      "581 /media/dirceusilva/EAAC-94C8/BasesDados/GenerosMusicais/FonogramasPorGeneroMusical/ROCK POP/1616372.ogg\n",
      "Computing spectrogram (w/ librosa) and tags (w/ tensorflow).. done!\n",
      "582 /media/dirceusilva/EAAC-94C8/BasesDados/GenerosMusicais/FonogramasPorGeneroMusical/ROCK POP/1624001.ogg\n",
      "Computing spectrogram (w/ librosa) and tags (w/ tensorflow).. done!\n",
      "583 /media/dirceusilva/EAAC-94C8/BasesDados/GenerosMusicais/FonogramasPorGeneroMusical/ROCK POP/1680477.ogg\n",
      "Computing spectrogram (w/ librosa) and tags (w/ tensorflow).. done!\n",
      "584 /media/dirceusilva/EAAC-94C8/BasesDados/GenerosMusicais/FonogramasPorGeneroMusical/ROCK POP/1725256.ogg\n",
      "Computing spectrogram (w/ librosa) and tags (w/ tensorflow).. done!\n",
      "585 /media/dirceusilva/EAAC-94C8/BasesDados/GenerosMusicais/FonogramasPorGeneroMusical/ROCK POP/1762290.ogg\n",
      "Computing spectrogram (w/ librosa) and tags (w/ tensorflow).. done!\n",
      "586 /media/dirceusilva/EAAC-94C8/BasesDados/GenerosMusicais/FonogramasPorGeneroMusical/ROCK POP/1796951.ogg\n",
      "Computing spectrogram (w/ librosa) and tags (w/ tensorflow).. done!\n",
      "587 /media/dirceusilva/EAAC-94C8/BasesDados/GenerosMusicais/FonogramasPorGeneroMusical/ROCK POP/1827845.ogg\n",
      "Computing spectrogram (w/ librosa) and tags (w/ tensorflow).. done!\n",
      "588 /media/dirceusilva/EAAC-94C8/BasesDados/GenerosMusicais/FonogramasPorGeneroMusical/ROCK POP/1829906.ogg\n",
      "Computing spectrogram (w/ librosa) and tags (w/ tensorflow).. done!\n",
      "589 /media/dirceusilva/EAAC-94C8/BasesDados/GenerosMusicais/FonogramasPorGeneroMusical/ROCK POP/2334332.ogg\n",
      "Computing spectrogram (w/ librosa) and tags (w/ tensorflow).. done!\n",
      "590 /media/dirceusilva/EAAC-94C8/BasesDados/GenerosMusicais/FonogramasPorGeneroMusical/ROCK POP/2938977.ogg\n",
      "Computing spectrogram (w/ librosa) and tags (w/ tensorflow).. done!\n",
      "591 /media/dirceusilva/EAAC-94C8/BasesDados/GenerosMusicais/FonogramasPorGeneroMusical/ROCK POP/2941968.ogg\n",
      "Computing spectrogram (w/ librosa) and tags (w/ tensorflow).. done!\n",
      "592 /media/dirceusilva/EAAC-94C8/BasesDados/GenerosMusicais/FonogramasPorGeneroMusical/ROCK POP/6240786.ogg\n",
      "Computing spectrogram (w/ librosa) and tags (w/ tensorflow).. done!\n",
      "593 /media/dirceusilva/EAAC-94C8/BasesDados/GenerosMusicais/FonogramasPorGeneroMusical/SAMBA/1052354.ogg\n",
      "Computing spectrogram (w/ librosa) and tags (w/ tensorflow).. done!\n",
      "594 /media/dirceusilva/EAAC-94C8/BasesDados/GenerosMusicais/FonogramasPorGeneroMusical/SAMBA/1052363.ogg\n",
      "Computing spectrogram (w/ librosa) and tags (w/ tensorflow).. done!\n",
      "595 /media/dirceusilva/EAAC-94C8/BasesDados/GenerosMusicais/FonogramasPorGeneroMusical/SAMBA/1289165.ogg\n",
      "Computing spectrogram (w/ librosa) and tags (w/ tensorflow).. done!\n",
      "596 /media/dirceusilva/EAAC-94C8/BasesDados/GenerosMusicais/FonogramasPorGeneroMusical/SAMBA/1289168.ogg\n",
      "Computing spectrogram (w/ librosa) and tags (w/ tensorflow).. done!\n",
      "597 /media/dirceusilva/EAAC-94C8/BasesDados/GenerosMusicais/FonogramasPorGeneroMusical/SAMBA/1289191.ogg\n",
      "Computing spectrogram (w/ librosa) and tags (w/ tensorflow).. done!\n",
      "598 /media/dirceusilva/EAAC-94C8/BasesDados/GenerosMusicais/FonogramasPorGeneroMusical/SAMBA/1289199.ogg\n",
      "Computing spectrogram (w/ librosa) and tags (w/ tensorflow).. done!\n",
      "599 /media/dirceusilva/EAAC-94C8/BasesDados/GenerosMusicais/FonogramasPorGeneroMusical/SAMBA/1335380.ogg\n",
      "Computing spectrogram (w/ librosa) and tags (w/ tensorflow).. done!\n",
      "600 /media/dirceusilva/EAAC-94C8/BasesDados/GenerosMusicais/FonogramasPorGeneroMusical/SAMBA/1342191.ogg\n",
      "Computing spectrogram (w/ librosa) and tags (w/ tensorflow).. done!\n",
      "601 /media/dirceusilva/EAAC-94C8/BasesDados/GenerosMusicais/FonogramasPorGeneroMusical/SAMBA/1342193.ogg\n",
      "Computing spectrogram (w/ librosa) and tags (w/ tensorflow).. done!\n",
      "602 /media/dirceusilva/EAAC-94C8/BasesDados/GenerosMusicais/FonogramasPorGeneroMusical/SAMBA/1342196.ogg\n",
      "Computing spectrogram (w/ librosa) and tags (w/ tensorflow).. done!\n",
      "603 /media/dirceusilva/EAAC-94C8/BasesDados/GenerosMusicais/FonogramasPorGeneroMusical/SAMBA/1342201.ogg\n",
      "Computing spectrogram (w/ librosa) and tags (w/ tensorflow).. done!\n",
      "604 /media/dirceusilva/EAAC-94C8/BasesDados/GenerosMusicais/FonogramasPorGeneroMusical/SAMBA/1342823.ogg\n",
      "Computing spectrogram (w/ librosa) and tags (w/ tensorflow).. done!\n",
      "605 /media/dirceusilva/EAAC-94C8/BasesDados/GenerosMusicais/FonogramasPorGeneroMusical/SAMBA/1530399.ogg\n",
      "Computing spectrogram (w/ librosa) and tags (w/ tensorflow).. done!\n",
      "606 /media/dirceusilva/EAAC-94C8/BasesDados/GenerosMusicais/FonogramasPorGeneroMusical/SAMBA/1555613.ogg\n",
      "Computing spectrogram (w/ librosa) and tags (w/ tensorflow).. done!\n",
      "607 /media/dirceusilva/EAAC-94C8/BasesDados/GenerosMusicais/FonogramasPorGeneroMusical/SAMBA/1578226.ogg\n",
      "Computing spectrogram (w/ librosa) and tags (w/ tensorflow).. done!\n",
      "608 /media/dirceusilva/EAAC-94C8/BasesDados/GenerosMusicais/FonogramasPorGeneroMusical/SAMBA/1589881.ogg\n",
      "Computing spectrogram (w/ librosa) and tags (w/ tensorflow).. done!\n",
      "609 /media/dirceusilva/EAAC-94C8/BasesDados/GenerosMusicais/FonogramasPorGeneroMusical/SAMBA/1717813.ogg\n",
      "Computing spectrogram (w/ librosa) and tags (w/ tensorflow).. done!\n",
      "610 /media/dirceusilva/EAAC-94C8/BasesDados/GenerosMusicais/FonogramasPorGeneroMusical/SAMBA/2267532.ogg\n",
      "Computing spectrogram (w/ librosa) and tags (w/ tensorflow).. done!\n",
      "611 /media/dirceusilva/EAAC-94C8/BasesDados/GenerosMusicais/FonogramasPorGeneroMusical/SAMBA/5732323.ogg\n"
     ]
    },
    {
     "name": "stdout",
     "output_type": "stream",
     "text": [
      "Computing spectrogram (w/ librosa) and tags (w/ tensorflow).. done!\n",
      "612 /media/dirceusilva/EAAC-94C8/BasesDados/GenerosMusicais/FonogramasPorGeneroMusical/SAMBA/5732701.ogg\n",
      "Computing spectrogram (w/ librosa) and tags (w/ tensorflow).. done!\n",
      "613 /media/dirceusilva/EAAC-94C8/BasesDados/GenerosMusicais/FonogramasPorGeneroMusical/SAMBA ENREDO/1020586.ogg\n",
      "Computing spectrogram (w/ librosa) and tags (w/ tensorflow).. done!\n",
      "614 /media/dirceusilva/EAAC-94C8/BasesDados/GenerosMusicais/FonogramasPorGeneroMusical/SAMBA ENREDO/1020677.ogg\n",
      "Computing spectrogram (w/ librosa) and tags (w/ tensorflow).. done!\n",
      "615 /media/dirceusilva/EAAC-94C8/BasesDados/GenerosMusicais/FonogramasPorGeneroMusical/SAMBA ENREDO/1022739.ogg\n",
      "Computing spectrogram (w/ librosa) and tags (w/ tensorflow).. done!\n",
      "616 /media/dirceusilva/EAAC-94C8/BasesDados/GenerosMusicais/FonogramasPorGeneroMusical/SAMBA ENREDO/1022824.ogg\n",
      "Computing spectrogram (w/ librosa) and tags (w/ tensorflow).. done!\n",
      "617 /media/dirceusilva/EAAC-94C8/BasesDados/GenerosMusicais/FonogramasPorGeneroMusical/SAMBA ENREDO/1022826.ogg\n",
      "Computing spectrogram (w/ librosa) and tags (w/ tensorflow).. done!\n",
      "618 /media/dirceusilva/EAAC-94C8/BasesDados/GenerosMusicais/FonogramasPorGeneroMusical/SAMBA ENREDO/10401424.ogg\n",
      "Computing spectrogram (w/ librosa) and tags (w/ tensorflow).. done!\n",
      "619 /media/dirceusilva/EAAC-94C8/BasesDados/GenerosMusicais/FonogramasPorGeneroMusical/SAMBA ENREDO/1193224.ogg\n",
      "Computing spectrogram (w/ librosa) and tags (w/ tensorflow).. done!\n",
      "620 /media/dirceusilva/EAAC-94C8/BasesDados/GenerosMusicais/FonogramasPorGeneroMusical/SAMBA ENREDO/1310786.ogg\n",
      "Computing spectrogram (w/ librosa) and tags (w/ tensorflow).. done!\n",
      "621 /media/dirceusilva/EAAC-94C8/BasesDados/GenerosMusicais/FonogramasPorGeneroMusical/SAMBA ENREDO/1325854.ogg\n",
      "Computing spectrogram (w/ librosa) and tags (w/ tensorflow).. done!\n",
      "622 /media/dirceusilva/EAAC-94C8/BasesDados/GenerosMusicais/FonogramasPorGeneroMusical/SAMBA ENREDO/1510806.ogg\n",
      "Computing spectrogram (w/ librosa) and tags (w/ tensorflow).. done!\n",
      "623 /media/dirceusilva/EAAC-94C8/BasesDados/GenerosMusicais/FonogramasPorGeneroMusical/SAMBA ENREDO/1708457.ogg\n",
      "Computing spectrogram (w/ librosa) and tags (w/ tensorflow).. done!\n",
      "624 /media/dirceusilva/EAAC-94C8/BasesDados/GenerosMusicais/FonogramasPorGeneroMusical/SAMBA ENREDO/1717654.ogg\n",
      "Computing spectrogram (w/ librosa) and tags (w/ tensorflow).. done!\n",
      "625 /media/dirceusilva/EAAC-94C8/BasesDados/GenerosMusicais/FonogramasPorGeneroMusical/SAMBA ENREDO/2042646.ogg\n",
      "Computing spectrogram (w/ librosa) and tags (w/ tensorflow).. done!\n",
      "626 /media/dirceusilva/EAAC-94C8/BasesDados/GenerosMusicais/FonogramasPorGeneroMusical/SAMBA ENREDO/2933862.ogg\n",
      "Computing spectrogram (w/ librosa) and tags (w/ tensorflow).. done!\n",
      "627 /media/dirceusilva/EAAC-94C8/BasesDados/GenerosMusicais/FonogramasPorGeneroMusical/SAMBA ENREDO/2933891.ogg\n",
      "Computing spectrogram (w/ librosa) and tags (w/ tensorflow).. done!\n",
      "628 /media/dirceusilva/EAAC-94C8/BasesDados/GenerosMusicais/FonogramasPorGeneroMusical/SAMBA ENREDO/4142697.ogg\n",
      "Computing spectrogram (w/ librosa) and tags (w/ tensorflow).. done!\n",
      "629 /media/dirceusilva/EAAC-94C8/BasesDados/GenerosMusicais/FonogramasPorGeneroMusical/SAMBA ENREDO/4142702.ogg\n",
      "Computing spectrogram (w/ librosa) and tags (w/ tensorflow).. done!\n",
      "630 /media/dirceusilva/EAAC-94C8/BasesDados/GenerosMusicais/FonogramasPorGeneroMusical/SAMBA ENREDO/537531.ogg\n",
      "Computing spectrogram (w/ librosa) and tags (w/ tensorflow).. done!\n",
      "631 /media/dirceusilva/EAAC-94C8/BasesDados/GenerosMusicais/FonogramasPorGeneroMusical/SAMBA ENREDO/54467.ogg\n",
      "Computing spectrogram (w/ librosa) and tags (w/ tensorflow).. done!\n",
      "632 /media/dirceusilva/EAAC-94C8/BasesDados/GenerosMusicais/FonogramasPorGeneroMusical/SAMBA ENREDO/9955356.ogg\n",
      "Computing spectrogram (w/ librosa) and tags (w/ tensorflow).. done!\n",
      "633 /media/dirceusilva/EAAC-94C8/BasesDados/GenerosMusicais/FonogramasPorGeneroMusical/SERTANEJO/1002085.ogg\n",
      "Computing spectrogram (w/ librosa) and tags (w/ tensorflow).. done!\n",
      "634 /media/dirceusilva/EAAC-94C8/BasesDados/GenerosMusicais/FonogramasPorGeneroMusical/SERTANEJO/1043780.ogg\n",
      "Computing spectrogram (w/ librosa) and tags (w/ tensorflow).. done!\n",
      "635 /media/dirceusilva/EAAC-94C8/BasesDados/GenerosMusicais/FonogramasPorGeneroMusical/SERTANEJO/10486538.ogg\n",
      "Computing spectrogram (w/ librosa) and tags (w/ tensorflow).. done!\n",
      "636 /media/dirceusilva/EAAC-94C8/BasesDados/GenerosMusicais/FonogramasPorGeneroMusical/SERTANEJO/1054880.ogg\n",
      "Computing spectrogram (w/ librosa) and tags (w/ tensorflow).. done!\n",
      "637 /media/dirceusilva/EAAC-94C8/BasesDados/GenerosMusicais/FonogramasPorGeneroMusical/SERTANEJO/1065717.ogg\n",
      "Computing spectrogram (w/ librosa) and tags (w/ tensorflow).. done!\n",
      "638 /media/dirceusilva/EAAC-94C8/BasesDados/GenerosMusicais/FonogramasPorGeneroMusical/SERTANEJO/1181102.ogg\n",
      "Computing spectrogram (w/ librosa) and tags (w/ tensorflow).. done!\n",
      "639 /media/dirceusilva/EAAC-94C8/BasesDados/GenerosMusicais/FonogramasPorGeneroMusical/SERTANEJO/1393124.ogg\n",
      "Computing spectrogram (w/ librosa) and tags (w/ tensorflow).. done!\n",
      "640 /media/dirceusilva/EAAC-94C8/BasesDados/GenerosMusicais/FonogramasPorGeneroMusical/SERTANEJO/1451467.ogg\n",
      "Computing spectrogram (w/ librosa) and tags (w/ tensorflow).. done!\n",
      "641 /media/dirceusilva/EAAC-94C8/BasesDados/GenerosMusicais/FonogramasPorGeneroMusical/SERTANEJO/1488550.ogg\n",
      "Computing spectrogram (w/ librosa) and tags (w/ tensorflow).. done!\n",
      "642 /media/dirceusilva/EAAC-94C8/BasesDados/GenerosMusicais/FonogramasPorGeneroMusical/SERTANEJO/1509554.ogg\n",
      "Computing spectrogram (w/ librosa) and tags (w/ tensorflow).. done!\n",
      "643 /media/dirceusilva/EAAC-94C8/BasesDados/GenerosMusicais/FonogramasPorGeneroMusical/SERTANEJO/1700321.ogg\n",
      "Computing spectrogram (w/ librosa) and tags (w/ tensorflow).. done!\n",
      "644 /media/dirceusilva/EAAC-94C8/BasesDados/GenerosMusicais/FonogramasPorGeneroMusical/SERTANEJO/1727378.ogg\n",
      "Computing spectrogram (w/ librosa) and tags (w/ tensorflow).. done!\n",
      "645 /media/dirceusilva/EAAC-94C8/BasesDados/GenerosMusicais/FonogramasPorGeneroMusical/SERTANEJO/2105912.ogg\n",
      "Computing spectrogram (w/ librosa) and tags (w/ tensorflow).. done!\n",
      "646 /media/dirceusilva/EAAC-94C8/BasesDados/GenerosMusicais/FonogramasPorGeneroMusical/SERTANEJO/2580758.ogg\n",
      "Computing spectrogram (w/ librosa) and tags (w/ tensorflow).. done!\n",
      "647 /media/dirceusilva/EAAC-94C8/BasesDados/GenerosMusicais/FonogramasPorGeneroMusical/SERTANEJO/3397224.ogg\n",
      "Computing spectrogram (w/ librosa) and tags (w/ tensorflow).. done!\n",
      "648 /media/dirceusilva/EAAC-94C8/BasesDados/GenerosMusicais/FonogramasPorGeneroMusical/SERTANEJO/3397227.ogg\n",
      "Computing spectrogram (w/ librosa) and tags (w/ tensorflow).. done!\n",
      "649 /media/dirceusilva/EAAC-94C8/BasesDados/GenerosMusicais/FonogramasPorGeneroMusical/SERTANEJO/35165.ogg\n",
      "Computing spectrogram (w/ librosa) and tags (w/ tensorflow).. done!\n",
      "650 /media/dirceusilva/EAAC-94C8/BasesDados/GenerosMusicais/FonogramasPorGeneroMusical/SERTANEJO/9492177.ogg\n",
      "Computing spectrogram (w/ librosa) and tags (w/ tensorflow).. done!\n",
      "651 /media/dirceusilva/EAAC-94C8/BasesDados/GenerosMusicais/FonogramasPorGeneroMusical/SERTANEJO/9522614.ogg\n",
      "Computing spectrogram (w/ librosa) and tags (w/ tensorflow).. done!\n",
      "652 /media/dirceusilva/EAAC-94C8/BasesDados/GenerosMusicais/FonogramasPorGeneroMusical/SERTANEJO/952611.ogg\n",
      "Computing spectrogram (w/ librosa) and tags (w/ tensorflow).. done!\n",
      "653 /media/dirceusilva/EAAC-94C8/BasesDados/GenerosMusicais/FonogramasPorGeneroMusical/SOUL/1177663.ogg\n",
      "Computing spectrogram (w/ librosa) and tags (w/ tensorflow).. done!\n",
      "654 /media/dirceusilva/EAAC-94C8/BasesDados/GenerosMusicais/FonogramasPorGeneroMusical/SOUL/1452878.ogg\n",
      "Computing spectrogram (w/ librosa) and tags (w/ tensorflow).. done!\n",
      "655 /media/dirceusilva/EAAC-94C8/BasesDados/GenerosMusicais/FonogramasPorGeneroMusical/SOUL/1595788.ogg\n",
      "Computing spectrogram (w/ librosa) and tags (w/ tensorflow).. done!\n",
      "656 /media/dirceusilva/EAAC-94C8/BasesDados/GenerosMusicais/FonogramasPorGeneroMusical/SOUL/1739263.ogg\n",
      "Computing spectrogram (w/ librosa) and tags (w/ tensorflow).. done!\n",
      "657 /media/dirceusilva/EAAC-94C8/BasesDados/GenerosMusicais/FonogramasPorGeneroMusical/SOUL/1759518.ogg\n",
      "Computing spectrogram (w/ librosa) and tags (w/ tensorflow).. done!\n",
      "658 /media/dirceusilva/EAAC-94C8/BasesDados/GenerosMusicais/FonogramasPorGeneroMusical/SOUL/1801313.ogg\n",
      "Computing spectrogram (w/ librosa) and tags (w/ tensorflow).. done!\n",
      "659 /media/dirceusilva/EAAC-94C8/BasesDados/GenerosMusicais/FonogramasPorGeneroMusical/SOUL/1810919.ogg\n",
      "Computing spectrogram (w/ librosa) and tags (w/ tensorflow).. done!\n",
      "660 /media/dirceusilva/EAAC-94C8/BasesDados/GenerosMusicais/FonogramasPorGeneroMusical/SOUL/1823572.ogg\n",
      "Computing spectrogram (w/ librosa) and tags (w/ tensorflow).. done!\n",
      "661 /media/dirceusilva/EAAC-94C8/BasesDados/GenerosMusicais/FonogramasPorGeneroMusical/SOUL/2138740.ogg\n",
      "Computing spectrogram (w/ librosa) and tags (w/ tensorflow).. done!\n",
      "662 /media/dirceusilva/EAAC-94C8/BasesDados/GenerosMusicais/FonogramasPorGeneroMusical/SOUL/2157225.ogg\n",
      "Computing spectrogram (w/ librosa) and tags (w/ tensorflow).. done!\n",
      "663 /media/dirceusilva/EAAC-94C8/BasesDados/GenerosMusicais/FonogramasPorGeneroMusical/SOUL/2438407.ogg\n",
      "Computing spectrogram (w/ librosa) and tags (w/ tensorflow).. done!\n",
      "664 /media/dirceusilva/EAAC-94C8/BasesDados/GenerosMusicais/FonogramasPorGeneroMusical/SOUL/2451583.ogg\n",
      "Computing spectrogram (w/ librosa) and tags (w/ tensorflow).. done!\n",
      "665 /media/dirceusilva/EAAC-94C8/BasesDados/GenerosMusicais/FonogramasPorGeneroMusical/SOUL/2508386.ogg\n",
      "Computing spectrogram (w/ librosa) and tags (w/ tensorflow).. done!\n",
      "666 /media/dirceusilva/EAAC-94C8/BasesDados/GenerosMusicais/FonogramasPorGeneroMusical/SOUL/2938659.ogg\n",
      "Computing spectrogram (w/ librosa) and tags (w/ tensorflow).. done!\n",
      "667 /media/dirceusilva/EAAC-94C8/BasesDados/GenerosMusicais/FonogramasPorGeneroMusical/SOUL/3097555.ogg\n",
      "Computing spectrogram (w/ librosa) and tags (w/ tensorflow).. done!\n",
      "668 /media/dirceusilva/EAAC-94C8/BasesDados/GenerosMusicais/FonogramasPorGeneroMusical/SOUL/3209855.ogg\n",
      "Computing spectrogram (w/ librosa) and tags (w/ tensorflow).. done!\n",
      "669 /media/dirceusilva/EAAC-94C8/BasesDados/GenerosMusicais/FonogramasPorGeneroMusical/SOUL/797686.ogg\n",
      "Computing spectrogram (w/ librosa) and tags (w/ tensorflow).. done!\n",
      "670 /media/dirceusilva/EAAC-94C8/BasesDados/GenerosMusicais/FonogramasPorGeneroMusical/SOUL/950003.ogg\n",
      "Computing spectrogram (w/ librosa) and tags (w/ tensorflow).. done!\n",
      "671 /media/dirceusilva/EAAC-94C8/BasesDados/GenerosMusicais/FonogramasPorGeneroMusical/SOUL/950016.ogg\n",
      "Computing spectrogram (w/ librosa) and tags (w/ tensorflow).. done!\n",
      "672 /media/dirceusilva/EAAC-94C8/BasesDados/GenerosMusicais/FonogramasPorGeneroMusical/SOUL/950018.ogg\n",
      "Computing spectrogram (w/ librosa) and tags (w/ tensorflow).. done!\n",
      "673 /media/dirceusilva/EAAC-94C8/BasesDados/GenerosMusicais/FonogramasPorGeneroMusical/TANGO/1110613.ogg\n",
      "Computing spectrogram (w/ librosa) and tags (w/ tensorflow).. done!\n",
      "674 /media/dirceusilva/EAAC-94C8/BasesDados/GenerosMusicais/FonogramasPorGeneroMusical/TANGO/1206498.ogg\n",
      "Computing spectrogram (w/ librosa) and tags (w/ tensorflow).. done!\n",
      "675 /media/dirceusilva/EAAC-94C8/BasesDados/GenerosMusicais/FonogramasPorGeneroMusical/TANGO/1206501.ogg\n",
      "Computing spectrogram (w/ librosa) and tags (w/ tensorflow).. done!\n",
      "676 /media/dirceusilva/EAAC-94C8/BasesDados/GenerosMusicais/FonogramasPorGeneroMusical/TANGO/1206523.ogg\n",
      "Computing spectrogram (w/ librosa) and tags (w/ tensorflow).. done!\n",
      "677 /media/dirceusilva/EAAC-94C8/BasesDados/GenerosMusicais/FonogramasPorGeneroMusical/TANGO/1240743.ogg\n",
      "Computing spectrogram (w/ librosa) and tags (w/ tensorflow).. done!\n",
      "678 /media/dirceusilva/EAAC-94C8/BasesDados/GenerosMusicais/FonogramasPorGeneroMusical/TANGO/1368673.ogg\n",
      "Computing spectrogram (w/ librosa) and tags (w/ tensorflow).. done!\n",
      "679 /media/dirceusilva/EAAC-94C8/BasesDados/GenerosMusicais/FonogramasPorGeneroMusical/TANGO/1368687.ogg\n",
      "Computing spectrogram (w/ librosa) and tags (w/ tensorflow).. done!\n",
      "680 /media/dirceusilva/EAAC-94C8/BasesDados/GenerosMusicais/FonogramasPorGeneroMusical/TANGO/1368691.ogg\n",
      "Computing spectrogram (w/ librosa) and tags (w/ tensorflow).. done!\n",
      "681 /media/dirceusilva/EAAC-94C8/BasesDados/GenerosMusicais/FonogramasPorGeneroMusical/TANGO/1368694.ogg\n",
      "Computing spectrogram (w/ librosa) and tags (w/ tensorflow).. done!\n",
      "682 /media/dirceusilva/EAAC-94C8/BasesDados/GenerosMusicais/FonogramasPorGeneroMusical/TANGO/1522954.ogg\n",
      "Computing spectrogram (w/ librosa) and tags (w/ tensorflow).. done!\n",
      "683 /media/dirceusilva/EAAC-94C8/BasesDados/GenerosMusicais/FonogramasPorGeneroMusical/TANGO/1610602.ogg\n",
      "Computing spectrogram (w/ librosa) and tags (w/ tensorflow).. done!\n",
      "684 /media/dirceusilva/EAAC-94C8/BasesDados/GenerosMusicais/FonogramasPorGeneroMusical/TANGO/1654533.ogg\n",
      "Computing spectrogram (w/ librosa) and tags (w/ tensorflow).. done!\n",
      "685 /media/dirceusilva/EAAC-94C8/BasesDados/GenerosMusicais/FonogramasPorGeneroMusical/TANGO/1661967.ogg\n",
      "Computing spectrogram (w/ librosa) and tags (w/ tensorflow).. done!\n",
      "686 /media/dirceusilva/EAAC-94C8/BasesDados/GenerosMusicais/FonogramasPorGeneroMusical/TANGO/1761299.ogg\n",
      "Computing spectrogram (w/ librosa) and tags (w/ tensorflow).. done!\n",
      "687 /media/dirceusilva/EAAC-94C8/BasesDados/GenerosMusicais/FonogramasPorGeneroMusical/TANGO/6266311.ogg\n",
      "Computing spectrogram (w/ librosa) and tags (w/ tensorflow).. done!\n",
      "688 /media/dirceusilva/EAAC-94C8/BasesDados/GenerosMusicais/FonogramasPorGeneroMusical/TANGO/955564.ogg\n",
      "Computing spectrogram (w/ librosa) and tags (w/ tensorflow).. done!\n",
      "689 /media/dirceusilva/EAAC-94C8/BasesDados/GenerosMusicais/FonogramasPorGeneroMusical/WORLD MUSIC/1304708.ogg\n",
      "Computing spectrogram (w/ librosa) and tags (w/ tensorflow).. done!\n",
      "690 /media/dirceusilva/EAAC-94C8/BasesDados/GenerosMusicais/FonogramasPorGeneroMusical/WORLD MUSIC/1304712.ogg\n",
      "Computing spectrogram (w/ librosa) and tags (w/ tensorflow).. done!\n",
      "691 /media/dirceusilva/EAAC-94C8/BasesDados/GenerosMusicais/FonogramasPorGeneroMusical/WORLD MUSIC/1333965.ogg\n",
      "Computing spectrogram (w/ librosa) and tags (w/ tensorflow).. done!\n",
      "692 /media/dirceusilva/EAAC-94C8/BasesDados/GenerosMusicais/FonogramasPorGeneroMusical/WORLD MUSIC/1348292.ogg\n",
      "Computing spectrogram (w/ librosa) and tags (w/ tensorflow).. done!\n",
      "693 /media/dirceusilva/EAAC-94C8/BasesDados/GenerosMusicais/FonogramasPorGeneroMusical/WORLD MUSIC/1387246.ogg\n",
      "Computing spectrogram (w/ librosa) and tags (w/ tensorflow).. done!\n",
      "694 /media/dirceusilva/EAAC-94C8/BasesDados/GenerosMusicais/FonogramasPorGeneroMusical/WORLD MUSIC/1424700.ogg\n",
      "Computing spectrogram (w/ librosa) and tags (w/ tensorflow).. done!\n",
      "695 /media/dirceusilva/EAAC-94C8/BasesDados/GenerosMusicais/FonogramasPorGeneroMusical/WORLD MUSIC/1425300.ogg\n",
      "Computing spectrogram (w/ librosa) and tags (w/ tensorflow).. done!\n",
      "696 /media/dirceusilva/EAAC-94C8/BasesDados/GenerosMusicais/FonogramasPorGeneroMusical/WORLD MUSIC/1432394.ogg\n",
      "Computing spectrogram (w/ librosa) and tags (w/ tensorflow).. done!\n",
      "697 /media/dirceusilva/EAAC-94C8/BasesDados/GenerosMusicais/FonogramasPorGeneroMusical/WORLD MUSIC/1616330.ogg\n",
      "Computing spectrogram (w/ librosa) and tags (w/ tensorflow).. done!\n",
      "698 /media/dirceusilva/EAAC-94C8/BasesDados/GenerosMusicais/FonogramasPorGeneroMusical/WORLD MUSIC/1663710.ogg\n",
      "Computing spectrogram (w/ librosa) and tags (w/ tensorflow).. done!\n",
      "699 /media/dirceusilva/EAAC-94C8/BasesDados/GenerosMusicais/FonogramasPorGeneroMusical/WORLD MUSIC/1741208.ogg\n",
      "Computing spectrogram (w/ librosa) and tags (w/ tensorflow).. done!\n",
      "700 /media/dirceusilva/EAAC-94C8/BasesDados/GenerosMusicais/FonogramasPorGeneroMusical/WORLD MUSIC/2158296.ogg\n",
      "Computing spectrogram (w/ librosa) and tags (w/ tensorflow).. done!\n",
      "701 /media/dirceusilva/EAAC-94C8/BasesDados/GenerosMusicais/FonogramasPorGeneroMusical/WORLD MUSIC/2415718.ogg\n",
      "Computing spectrogram (w/ librosa) and tags (w/ tensorflow).. done!\n",
      "702 /media/dirceusilva/EAAC-94C8/BasesDados/GenerosMusicais/FonogramasPorGeneroMusical/WORLD MUSIC/2726286.ogg\n",
      "Computing spectrogram (w/ librosa) and tags (w/ tensorflow).. done!\n",
      "703 /media/dirceusilva/EAAC-94C8/BasesDados/GenerosMusicais/FonogramasPorGeneroMusical/WORLD MUSIC/2726357.ogg\n",
      "Computing spectrogram (w/ librosa) and tags (w/ tensorflow).. done!\n",
      "704 /media/dirceusilva/EAAC-94C8/BasesDados/GenerosMusicais/FonogramasPorGeneroMusical/WORLD MUSIC/3097289.ogg\n"
     ]
    },
    {
     "name": "stdout",
     "output_type": "stream",
     "text": [
      "Computing spectrogram (w/ librosa) and tags (w/ tensorflow).. done!\n",
      "705 /media/dirceusilva/EAAC-94C8/BasesDados/GenerosMusicais/FonogramasPorGeneroMusical/WORLD MUSIC/531104.ogg\n",
      "Computing spectrogram (w/ librosa) and tags (w/ tensorflow).. done!\n",
      "706 /media/dirceusilva/EAAC-94C8/BasesDados/GenerosMusicais/FonogramasPorGeneroMusical/WORLD MUSIC/5590402.ogg\n",
      "Computing spectrogram (w/ librosa) and tags (w/ tensorflow).. done!\n",
      "707 /media/dirceusilva/EAAC-94C8/BasesDados/GenerosMusicais/FonogramasPorGeneroMusical/WORLD MUSIC/5590409.ogg\n",
      "Computing spectrogram (w/ librosa) and tags (w/ tensorflow).. done!\n",
      "708 /media/dirceusilva/EAAC-94C8/BasesDados/GenerosMusicais/FonogramasPorGeneroMusical/WORLD MUSIC/5758597.ogg\n",
      "Computing spectrogram (w/ librosa) and tags (w/ tensorflow).. done!\n",
      "709 /media/dirceusilva/EAAC-94C8/BasesDados/GenerosMusicais/FonogramasPorGeneroMusical/XOTE/1002765.ogg\n",
      "Computing spectrogram (w/ librosa) and tags (w/ tensorflow).. done!\n",
      "710 /media/dirceusilva/EAAC-94C8/BasesDados/GenerosMusicais/FonogramasPorGeneroMusical/XOTE/1052455.ogg\n",
      "Computing spectrogram (w/ librosa) and tags (w/ tensorflow).. done!\n",
      "711 /media/dirceusilva/EAAC-94C8/BasesDados/GenerosMusicais/FonogramasPorGeneroMusical/XOTE/1286529.ogg\n",
      "Computing spectrogram (w/ librosa) and tags (w/ tensorflow).. done!\n",
      "712 /media/dirceusilva/EAAC-94C8/BasesDados/GenerosMusicais/FonogramasPorGeneroMusical/XOTE/1337020.ogg\n",
      "Computing spectrogram (w/ librosa) and tags (w/ tensorflow).. done!\n",
      "713 /media/dirceusilva/EAAC-94C8/BasesDados/GenerosMusicais/FonogramasPorGeneroMusical/XOTE/1423800.ogg\n",
      "Computing spectrogram (w/ librosa) and tags (w/ tensorflow).. done!\n",
      "714 /media/dirceusilva/EAAC-94C8/BasesDados/GenerosMusicais/FonogramasPorGeneroMusical/XOTE/1450545.ogg\n",
      "Computing spectrogram (w/ librosa) and tags (w/ tensorflow).. done!\n",
      "715 /media/dirceusilva/EAAC-94C8/BasesDados/GenerosMusicais/FonogramasPorGeneroMusical/XOTE/1491843.ogg\n",
      "Computing spectrogram (w/ librosa) and tags (w/ tensorflow).. done!\n",
      "716 /media/dirceusilva/EAAC-94C8/BasesDados/GenerosMusicais/FonogramasPorGeneroMusical/XOTE/1519658.ogg\n",
      "Computing spectrogram (w/ librosa) and tags (w/ tensorflow).. done!\n",
      "717 /media/dirceusilva/EAAC-94C8/BasesDados/GenerosMusicais/FonogramasPorGeneroMusical/XOTE/1540133.ogg\n",
      "Computing spectrogram (w/ librosa) and tags (w/ tensorflow).. done!\n",
      "718 /media/dirceusilva/EAAC-94C8/BasesDados/GenerosMusicais/FonogramasPorGeneroMusical/XOTE/1610686.ogg\n",
      "Computing spectrogram (w/ librosa) and tags (w/ tensorflow).. done!\n",
      "719 /media/dirceusilva/EAAC-94C8/BasesDados/GenerosMusicais/FonogramasPorGeneroMusical/XOTE/1703635.ogg\n",
      "Computing spectrogram (w/ librosa) and tags (w/ tensorflow).. done!\n",
      "720 /media/dirceusilva/EAAC-94C8/BasesDados/GenerosMusicais/FonogramasPorGeneroMusical/XOTE/1759229.ogg\n",
      "Computing spectrogram (w/ librosa) and tags (w/ tensorflow).. done!\n",
      "721 /media/dirceusilva/EAAC-94C8/BasesDados/GenerosMusicais/FonogramasPorGeneroMusical/XOTE/2045712.ogg\n",
      "Computing spectrogram (w/ librosa) and tags (w/ tensorflow).. done!\n",
      "722 /media/dirceusilva/EAAC-94C8/BasesDados/GenerosMusicais/FonogramasPorGeneroMusical/XOTE/2741153.ogg\n",
      "Computing spectrogram (w/ librosa) and tags (w/ tensorflow).. done!\n",
      "723 /media/dirceusilva/EAAC-94C8/BasesDados/GenerosMusicais/FonogramasPorGeneroMusical/XOTE/3715206.ogg\n",
      "Computing spectrogram (w/ librosa) and tags (w/ tensorflow).. done!\n",
      "724 /media/dirceusilva/EAAC-94C8/BasesDados/GenerosMusicais/FonogramasPorGeneroMusical/XOTE/981122.ogg\n",
      "Computing spectrogram (w/ librosa) and tags (w/ tensorflow).. done!\n",
      "725 /media/dirceusilva/EAAC-94C8/BasesDados/GenerosMusicais/FonogramasPorGeneroMusical/FUNK/Dança Sensual - MC Koringa.wav\n",
      "Computing spectrogram (w/ librosa) and tags (w/ tensorflow).. done!\n",
      "726 /media/dirceusilva/EAAC-94C8/BasesDados/GenerosMusicais/FonogramasPorGeneroMusical/FUNK/Ela é Top - MC Bola.wav\n",
      "Computing spectrogram (w/ librosa) and tags (w/ tensorflow).. done!\n",
      "727 /media/dirceusilva/EAAC-94C8/BasesDados/GenerosMusicais/FonogramasPorGeneroMusical/FUNK/Fica Só Olhando - Anitta.wav\n",
      "Computing spectrogram (w/ librosa) and tags (w/ tensorflow).. done!\n",
      "728 /media/dirceusilva/EAAC-94C8/BasesDados/GenerosMusicais/FonogramasPorGeneroMusical/FUNK/Menina Má - Anitta.wav\n",
      "Computing spectrogram (w/ librosa) and tags (w/ tensorflow).. done!\n",
      "729 /media/dirceusilva/EAAC-94C8/BasesDados/GenerosMusicais/FonogramasPorGeneroMusical/FUNK/Passinho do Volante - MC Federado e os Lelek's.wav\n",
      "Computing spectrogram (w/ librosa) and tags (w/ tensorflow).. done!\n",
      "730 /media/dirceusilva/EAAC-94C8/BasesDados/GenerosMusicais/FonogramasPorGeneroMusical/FUNK/Pra Me Provocar - MC Koringa.wav\n",
      "Computing spectrogram (w/ librosa) and tags (w/ tensorflow).. done!\n",
      "731 /media/dirceusilva/EAAC-94C8/BasesDados/GenerosMusicais/FonogramasPorGeneroMusical/FUNK/Se Joga - Naldo.wav\n",
      "Computing spectrogram (w/ librosa) and tags (w/ tensorflow).. done!\n",
      "732 /media/dirceusilva/EAAC-94C8/BasesDados/GenerosMusicais/FonogramasPorGeneroMusical/FUNK/Show das Poderosas - Anitta.wav\n",
      "Computing spectrogram (w/ librosa) and tags (w/ tensorflow).. done!\n",
      "733 /media/dirceusilva/EAAC-94C8/BasesDados/GenerosMusicais/FonogramasPorGeneroMusical/MPB/01 - Roda Viva - MPB-4.wav\n",
      "Computing spectrogram (w/ librosa) and tags (w/ tensorflow).. done!\n",
      "734 /media/dirceusilva/EAAC-94C8/BasesDados/GenerosMusicais/FonogramasPorGeneroMusical/MPB/03 me deixas louca - maria rita.wav\n",
      "Computing spectrogram (w/ librosa) and tags (w/ tensorflow).. done!\n",
      "735 /media/dirceusilva/EAAC-94C8/BasesDados/GenerosMusicais/FonogramasPorGeneroMusical/MPB/04-Samba Do Avião-Milton Nascimento.wav\n",
      "Computing spectrogram (w/ librosa) and tags (w/ tensorflow).. done!\n",
      "736 /media/dirceusilva/EAAC-94C8/BasesDados/GenerosMusicais/FonogramasPorGeneroMusical/MPB/07 - Este Seu Olhar - Nara Leão.wav\n",
      "Computing spectrogram (w/ librosa) and tags (w/ tensorflow).. done!\n",
      "737 /media/dirceusilva/EAAC-94C8/BasesDados/GenerosMusicais/FonogramasPorGeneroMusical/MPB/10 tiranizar - caetano veloso.wav\n",
      "Computing spectrogram (w/ librosa) and tags (w/ tensorflow).. done!\n",
      "738 /media/dirceusilva/EAAC-94C8/BasesDados/GenerosMusicais/FonogramasPorGeneroMusical/MPB/carrossel-fico assim sem você.wav\n",
      "Computing spectrogram (w/ librosa) and tags (w/ tensorflow).. done!\n",
      "739 /media/dirceusilva/EAAC-94C8/BasesDados/GenerosMusicais/FonogramasPorGeneroMusical/MPB/Cazuza-Faz Parte do Meu Show.wav\n",
      "Computing spectrogram (w/ librosa) and tags (w/ tensorflow).. done!\n",
      "740 /media/dirceusilva/EAAC-94C8/BasesDados/GenerosMusicais/FonogramasPorGeneroMusical/MPB/Jorge Ben-Que Maravilha.wav\n",
      "Computing spectrogram (w/ librosa) and tags (w/ tensorflow).. done!\n",
      "741 /media/dirceusilva/EAAC-94C8/BasesDados/GenerosMusicais/FonogramasPorGeneroMusical/MPB/Zizi Possi-A Paz.wav\n",
      "Computing spectrogram (w/ librosa) and tags (w/ tensorflow).. done!\n",
      "742 /media/dirceusilva/EAAC-94C8/BasesDados/GenerosMusicais/FonogramasPorGeneroMusical/PAGODE/02 - Raça Negra-MARAVILHA.wav\n",
      "Computing spectrogram (w/ librosa) and tags (w/ tensorflow).. done!\n",
      "743 /media/dirceusilva/EAAC-94C8/BasesDados/GenerosMusicais/FonogramasPorGeneroMusical/PAGODE/04 - Raça Negra-POT-POURRI- CIGANA - ESTOU MAL.wav\n",
      "Computing spectrogram (w/ librosa) and tags (w/ tensorflow).. done!\n",
      "744 /media/dirceusilva/EAAC-94C8/BasesDados/GenerosMusicais/FonogramasPorGeneroMusical/PAGODE/07 - Raça Negra-CHEIA DE MANIAS.wav\n",
      "Computing spectrogram (w/ librosa) and tags (w/ tensorflow).. done!\n",
      "745 /media/dirceusilva/EAAC-94C8/BasesDados/GenerosMusicais/FonogramasPorGeneroMusical/PAGODE/09 Mamão Com Mel.wav\n",
      "Computing spectrogram (w/ librosa) and tags (w/ tensorflow).. done!\n",
      "746 /media/dirceusilva/EAAC-94C8/BasesDados/GenerosMusicais/FonogramasPorGeneroMusical/PAGODE/10 - Raça Negra-JEITO FELINO.wav\n",
      "Computing spectrogram (w/ librosa) and tags (w/ tensorflow).. done!\n",
      "747 /media/dirceusilva/EAAC-94C8/BasesDados/GenerosMusicais/FonogramasPorGeneroMusical/PAGODE/12 - Raça Negra-POT-POURRI- JEITO DE SER - GOSTAVA TANTO DE VOCE.wav\n",
      "Computing spectrogram (w/ librosa) and tags (w/ tensorflow).. done!\n",
      "748 /media/dirceusilva/EAAC-94C8/BasesDados/GenerosMusicais/FonogramasPorGeneroMusical/PAGODE/15 é nóis fazer parapapá - michel teló e sorriso maroto.wav\n",
      "Computing spectrogram (w/ librosa) and tags (w/ tensorflow).. done!\n",
      "749 /media/dirceusilva/EAAC-94C8/BasesDados/GenerosMusicais/FonogramasPorGeneroMusical/PAGODE/Alexandre Pires-Maluca Pirada.wav\n",
      "Computing spectrogram (w/ librosa) and tags (w/ tensorflow).. done!\n",
      "750 /media/dirceusilva/EAAC-94C8/BasesDados/GenerosMusicais/FonogramasPorGeneroMusical/PAGODE/Belo - Nuvem_Derê.wav\n",
      "Computing spectrogram (w/ librosa) and tags (w/ tensorflow).. done!\n",
      "751 /media/dirceusilva/EAAC-94C8/BasesDados/GenerosMusicais/FonogramasPorGeneroMusical/PAGODE/Belo - Sonho bom.wav\n",
      "Computing spectrogram (w/ librosa) and tags (w/ tensorflow).. done!\n",
      "752 /media/dirceusilva/EAAC-94C8/BasesDados/GenerosMusicais/FonogramasPorGeneroMusical/PAGODE/BELO-PURA ADRENALINA.wav\n",
      "Computing spectrogram (w/ librosa) and tags (w/ tensorflow).. done!\n",
      "753 /media/dirceusilva/EAAC-94C8/BasesDados/GenerosMusicais/FonogramasPorGeneroMusical/PAGODE/Belo-Reinventar.wav\n",
      "Computing spectrogram (w/ librosa) and tags (w/ tensorflow).. done!\n",
      "754 /media/dirceusilva/EAAC-94C8/BasesDados/GenerosMusicais/FonogramasPorGeneroMusical/PAGODE/Belo-Tua boca.wav\n",
      "Computing spectrogram (w/ librosa) and tags (w/ tensorflow).. done!\n",
      "755 /media/dirceusilva/EAAC-94C8/BasesDados/GenerosMusicais/FonogramasPorGeneroMusical/PAGODE/BRANCA DI NEVE-NÊGO DITO.wav\n",
      "Computing spectrogram (w/ librosa) and tags (w/ tensorflow).. done!\n",
      "756 /media/dirceusilva/EAAC-94C8/BasesDados/GenerosMusicais/FonogramasPorGeneroMusical/PAGODE/Grupo Só no Sapatinho-SNS (Só no Sapatinho).wav\n",
      "Computing spectrogram (w/ librosa) and tags (w/ tensorflow).. done!\n",
      "757 /media/dirceusilva/EAAC-94C8/BasesDados/GenerosMusicais/FonogramasPorGeneroMusical/PAGODE/SORRISO MAROTO-ASSIM VOCÊ MATA O PAPAI (2).wav\n",
      "Computing spectrogram (w/ librosa) and tags (w/ tensorflow).. done!\n",
      "758 /media/dirceusilva/EAAC-94C8/BasesDados/GenerosMusicais/FonogramasPorGeneroMusical/PAGODE/Sorriso Maroto-Se eu te pego, te envergo.wav\n",
      "Computing spectrogram (w/ librosa) and tags (w/ tensorflow).. done!\n",
      "759 /media/dirceusilva/EAAC-94C8/BasesDados/GenerosMusicais/FonogramasPorGeneroMusical/PAGODE/Sorriso Maroto-Vai e chora.wav\n",
      "Computing spectrogram (w/ librosa) and tags (w/ tensorflow).. done!\n",
      "760 /media/dirceusilva/EAAC-94C8/BasesDados/GenerosMusicais/FonogramasPorGeneroMusical/REGGAE/05 Pras Bandas de la.wav\n",
      "Computing spectrogram (w/ librosa) and tags (w/ tensorflow).. done!\n",
      "761 /media/dirceusilva/EAAC-94C8/BasesDados/GenerosMusicais/FonogramasPorGeneroMusical/REGGAE/16 Da Cor Do Reggae.wav\n",
      "Computing spectrogram (w/ librosa) and tags (w/ tensorflow).. done!\n",
      "762 /media/dirceusilva/EAAC-94C8/BasesDados/GenerosMusicais/FonogramasPorGeneroMusical/REGGAE/Diana King-I Say a Little Prayer.wav\n",
      "Computing spectrogram (w/ librosa) and tags (w/ tensorflow).. done!\n",
      "763 /media/dirceusilva/EAAC-94C8/BasesDados/GenerosMusicais/FonogramasPorGeneroMusical/ROCK/01 Faixa 1.wav\n",
      "Computing spectrogram (w/ librosa) and tags (w/ tensorflow).. done!\n",
      "764 /media/dirceusilva/EAAC-94C8/BasesDados/GenerosMusicais/FonogramasPorGeneroMusical/ROCK/04 - Cálice - Indireto e Pitty.wav\n",
      "Computing spectrogram (w/ librosa) and tags (w/ tensorflow).. done!\n",
      "765 /media/dirceusilva/EAAC-94C8/BasesDados/GenerosMusicais/FonogramasPorGeneroMusical/ROCK/04 I BELIEVE IN A THING CALLED LOVE.wav\n",
      "Computing spectrogram (w/ librosa) and tags (w/ tensorflow).. done!\n",
      "766 /media/dirceusilva/EAAC-94C8/BasesDados/GenerosMusicais/FonogramasPorGeneroMusical/ROCK/09 Faixa 9.wav\n",
      "Computing spectrogram (w/ librosa) and tags (w/ tensorflow).. done!\n",
      "767 /media/dirceusilva/EAAC-94C8/BasesDados/GenerosMusicais/FonogramasPorGeneroMusical/ROCK/11 Atordoado.wav\n",
      "Computing spectrogram (w/ librosa) and tags (w/ tensorflow).. done!\n",
      "768 /media/dirceusilva/EAAC-94C8/BasesDados/GenerosMusicais/FonogramasPorGeneroMusical/ROCK/Blue Sky Mine - GRA 63927268.wav\n",
      "Computing spectrogram (w/ librosa) and tags (w/ tensorflow).. done!\n",
      "769 /media/dirceusilva/EAAC-94C8/BasesDados/GenerosMusicais/FonogramasPorGeneroMusical/ROCK/Lenny Kravitz-Fly Away.wav\n",
      "Computing spectrogram (w/ librosa) and tags (w/ tensorflow).. done!\n",
      "770 /media/dirceusilva/EAAC-94C8/BasesDados/GenerosMusicais/FonogramasPorGeneroMusical/ROCK/Pedra Flor E Espinho.wav\n",
      "Computing spectrogram (w/ librosa) and tags (w/ tensorflow).. done!\n",
      "771 /media/dirceusilva/EAAC-94C8/BasesDados/GenerosMusicais/FonogramasPorGeneroMusical/ROCK/Titãs-Sonífera Ilha + Ska.wav\n",
      "Computing spectrogram (w/ librosa) and tags (w/ tensorflow).. done!\n",
      "772 /media/dirceusilva/EAAC-94C8/BasesDados/GenerosMusicais/FonogramasPorGeneroMusical/SAMBA/01 Marchas.wav\n",
      "Computing spectrogram (w/ librosa) and tags (w/ tensorflow).. done!\n",
      "773 /media/dirceusilva/EAAC-94C8/BasesDados/GenerosMusicais/FonogramasPorGeneroMusical/SAMBA/02 Faixa 2.wav\n",
      "Computing spectrogram (w/ librosa) and tags (w/ tensorflow).. done!\n",
      "774 /media/dirceusilva/EAAC-94C8/BasesDados/GenerosMusicais/FonogramasPorGeneroMusical/SAMBA/02 marchas-rancho.wav\n",
      "Computing spectrogram (w/ librosa) and tags (w/ tensorflow).. done!\n",
      "775 /media/dirceusilva/EAAC-94C8/BasesDados/GenerosMusicais/FonogramasPorGeneroMusical/SAMBA/03 Frevos.wav\n",
      "Computing spectrogram (w/ librosa) and tags (w/ tensorflow).. done!\n",
      "776 /media/dirceusilva/EAAC-94C8/BasesDados/GenerosMusicais/FonogramasPorGeneroMusical/SAMBA/03 Samba Do Approach.wav\n",
      "Computing spectrogram (w/ librosa) and tags (w/ tensorflow).. done!\n",
      "777 /media/dirceusilva/EAAC-94C8/BasesDados/GenerosMusicais/FonogramasPorGeneroMusical/SAMBA/04 favela fashion week - leandro sapucahy.wav\n",
      "Computing spectrogram (w/ librosa) and tags (w/ tensorflow).. done!\n",
      "778 /media/dirceusilva/EAAC-94C8/BasesDados/GenerosMusicais/FonogramasPorGeneroMusical/SAMBA/04 Sambas.wav\n",
      "Computing spectrogram (w/ librosa) and tags (w/ tensorflow).. done!\n",
      "779 /media/dirceusilva/EAAC-94C8/BasesDados/GenerosMusicais/FonogramasPorGeneroMusical/SAMBA/05 tristeza - diogo nogueira.wav\n",
      "Computing spectrogram (w/ librosa) and tags (w/ tensorflow).. done!\n",
      "780 /media/dirceusilva/EAAC-94C8/BasesDados/GenerosMusicais/FonogramasPorGeneroMusical/SAMBA/10 Meu Nome É Favela.wav\n",
      "Computing spectrogram (w/ librosa) and tags (w/ tensorflow).. done!\n",
      "781 /media/dirceusilva/EAAC-94C8/BasesDados/GenerosMusicais/FonogramasPorGeneroMusical/SAMBA/11 - Na cadencia do samba - Roberto Lazzarini.wav\n",
      "Computing spectrogram (w/ librosa) and tags (w/ tensorflow).. done!\n",
      "782 /media/dirceusilva/EAAC-94C8/BasesDados/GenerosMusicais/FonogramasPorGeneroMusical/SAMBA/12 - Apesar de Você - Chico Buarque, MPB-4, Quarteto em Cy.wav\n",
      "Computing spectrogram (w/ librosa) and tags (w/ tensorflow).. done!\n",
      "783 /media/dirceusilva/EAAC-94C8/BasesDados/GenerosMusicais/FonogramasPorGeneroMusical/SAMBA/17 aquele abraço - tim maia.wav\n",
      "Computing spectrogram (w/ librosa) and tags (w/ tensorflow).. done!\n",
      "784 /media/dirceusilva/EAAC-94C8/BasesDados/GenerosMusicais/FonogramasPorGeneroMusical/SAMBA/Chico Buarque de Holanda-Vai Passar.wav\n",
      "Computing spectrogram (w/ librosa) and tags (w/ tensorflow).. done!\n",
      "785 /media/dirceusilva/EAAC-94C8/BasesDados/GenerosMusicais/FonogramasPorGeneroMusical/SAMBA/Dominguinhos do Estácio-liberdade, liberdade, abre as asas sobre nós - dominguinhos do estácio.wav\n",
      "Computing spectrogram (w/ librosa) and tags (w/ tensorflow).. done!\n",
      "786 /media/dirceusilva/EAAC-94C8/BasesDados/GenerosMusicais/FonogramasPorGeneroMusical/SAMBA/João Nogueira-Poder Da Criação.wav\n",
      "Computing spectrogram (w/ librosa) and tags (w/ tensorflow).. done!\n",
      "787 /media/dirceusilva/EAAC-94C8/BasesDados/GenerosMusicais/FonogramasPorGeneroMusical/HipHop/17 - Marcelo D2-Só marcando meu nome.wav\n",
      "Computing spectrogram (w/ librosa) and tags (w/ tensorflow).. done!\n",
      "788 /media/dirceusilva/EAAC-94C8/BasesDados/GenerosMusicais/FonogramasPorGeneroMusical/HipHop/Marcelo D2-samba de primeira - marcelo d2.wav\n",
      "Computing spectrogram (w/ librosa) and tags (w/ tensorflow).. done!\n",
      "789 /media/dirceusilva/EAAC-94C8/BasesDados/GenerosMusicais/FonogramasPorGeneroMusical/POP/Backstreet Boys-As Long as You Love Me.wav\n",
      "Computing spectrogram (w/ librosa) and tags (w/ tensorflow).. done!\n",
      "790 /media/dirceusilva/EAAC-94C8/BasesDados/GenerosMusicais/FonogramasPorGeneroMusical/POP/Michael Jackson-Don't Stop 'Til You Get Enough - 1060240.wav\n"
     ]
    },
    {
     "name": "stdout",
     "output_type": "stream",
     "text": [
      "Computing spectrogram (w/ librosa) and tags (w/ tensorflow).. done!\n",
      "791 /media/dirceusilva/EAAC-94C8/BasesDados/GenerosMusicais/FonogramasPorGeneroMusical/FUNK/Dina - When Your 'X' Want You Back.mp3\n",
      "Computing spectrogram (w/ librosa) and tags (w/ tensorflow).. "
     ]
    },
    {
     "name": "stderr",
     "output_type": "stream",
     "text": [
      "/home/dirceusilva/.pyenv/versions/3.7.8/envs/article/lib/python3.7/site-packages/librosa/core/audio.py:161: UserWarning: PySoundFile failed. Trying audioread instead.\n",
      "  warnings.warn('PySoundFile failed. Trying audioread instead.')\n"
     ]
    },
    {
     "name": "stdout",
     "output_type": "stream",
     "text": [
      "done!\n"
     ]
    },
    {
     "name": "stderr",
     "output_type": "stream",
     "text": [
      "/home/dirceusilva/.pyenv/versions/3.7.8/envs/article/lib/python3.7/site-packages/deepdish/io/hdf5io.py:251: FutureWarning: The Panel class is removed from pandas. Accessing it from the top-level namespace will also be removed in the next version\n",
      "  elif _pandas and isinstance(level, (pd.DataFrame, pd.Series, pd.Panel)):\n"
     ]
    },
    {
     "name": "stdout",
     "output_type": "stream",
     "text": [
      "792 /media/dirceusilva/EAAC-94C8/BasesDados/GenerosMusicais/FonogramasPorGeneroMusical/FUNK/I Wanna Be The One (JCDedit).mp3\n",
      "Computing spectrogram (w/ librosa) and tags (w/ tensorflow).. "
     ]
    },
    {
     "name": "stderr",
     "output_type": "stream",
     "text": [
      "/home/dirceusilva/.pyenv/versions/3.7.8/envs/article/lib/python3.7/site-packages/librosa/core/audio.py:161: UserWarning: PySoundFile failed. Trying audioread instead.\n",
      "  warnings.warn('PySoundFile failed. Trying audioread instead.')\n"
     ]
    },
    {
     "name": "stdout",
     "output_type": "stream",
     "text": [
      "done!\n"
     ]
    },
    {
     "name": "stderr",
     "output_type": "stream",
     "text": [
      "/home/dirceusilva/.pyenv/versions/3.7.8/envs/article/lib/python3.7/site-packages/deepdish/io/hdf5io.py:251: FutureWarning: The Panel class is removed from pandas. Accessing it from the top-level namespace will also be removed in the next version\n",
      "  elif _pandas and isinstance(level, (pd.DataFrame, pd.Series, pd.Panel)):\n"
     ]
    },
    {
     "name": "stdout",
     "output_type": "stream",
     "text": [
      "793 /media/dirceusilva/EAAC-94C8/BasesDados/GenerosMusicais/FonogramasPorGeneroMusical/FUNK/Nyasia - Now And Forever Version RMX By Ratolino.mp3\n",
      "Computing spectrogram (w/ librosa) and tags (w/ tensorflow).. "
     ]
    },
    {
     "name": "stderr",
     "output_type": "stream",
     "text": [
      "/home/dirceusilva/.pyenv/versions/3.7.8/envs/article/lib/python3.7/site-packages/librosa/core/audio.py:161: UserWarning: PySoundFile failed. Trying audioread instead.\n",
      "  warnings.warn('PySoundFile failed. Trying audioread instead.')\n"
     ]
    },
    {
     "name": "stdout",
     "output_type": "stream",
     "text": [
      "done!\n"
     ]
    },
    {
     "name": "stderr",
     "output_type": "stream",
     "text": [
      "/home/dirceusilva/.pyenv/versions/3.7.8/envs/article/lib/python3.7/site-packages/deepdish/io/hdf5io.py:251: FutureWarning: The Panel class is removed from pandas. Accessing it from the top-level namespace will also be removed in the next version\n",
      "  elif _pandas and isinstance(level, (pd.DataFrame, pd.Series, pd.Panel)):\n"
     ]
    },
    {
     "name": "stdout",
     "output_type": "stream",
     "text": [
      "794 /media/dirceusilva/EAAC-94C8/BasesDados/GenerosMusicais/FonogramasPorGeneroMusical/FUNK/Shavonne   So tell me, tell me.mp3\n",
      "Computing spectrogram (w/ librosa) and tags (w/ tensorflow).. "
     ]
    },
    {
     "name": "stderr",
     "output_type": "stream",
     "text": [
      "/home/dirceusilva/.pyenv/versions/3.7.8/envs/article/lib/python3.7/site-packages/librosa/core/audio.py:161: UserWarning: PySoundFile failed. Trying audioread instead.\n",
      "  warnings.warn('PySoundFile failed. Trying audioread instead.')\n"
     ]
    },
    {
     "name": "stdout",
     "output_type": "stream",
     "text": [
      "done!\n"
     ]
    },
    {
     "name": "stderr",
     "output_type": "stream",
     "text": [
      "/home/dirceusilva/.pyenv/versions/3.7.8/envs/article/lib/python3.7/site-packages/deepdish/io/hdf5io.py:251: FutureWarning: The Panel class is removed from pandas. Accessing it from the top-level namespace will also be removed in the next version\n",
      "  elif _pandas and isinstance(level, (pd.DataFrame, pd.Series, pd.Panel)):\n"
     ]
    },
    {
     "name": "stdout",
     "output_type": "stream",
     "text": [
      "795 /media/dirceusilva/EAAC-94C8/BasesDados/GenerosMusicais/FonogramasPorGeneroMusical/FUNK/Stevie B.- In my Eyes (Nitster Remix).mp3\n",
      "Computing spectrogram (w/ librosa) and tags (w/ tensorflow).. "
     ]
    },
    {
     "name": "stderr",
     "output_type": "stream",
     "text": [
      "/home/dirceusilva/.pyenv/versions/3.7.8/envs/article/lib/python3.7/site-packages/librosa/core/audio.py:161: UserWarning: PySoundFile failed. Trying audioread instead.\n",
      "  warnings.warn('PySoundFile failed. Trying audioread instead.')\n"
     ]
    },
    {
     "name": "stdout",
     "output_type": "stream",
     "text": [
      "done!\n"
     ]
    },
    {
     "name": "stderr",
     "output_type": "stream",
     "text": [
      "/home/dirceusilva/.pyenv/versions/3.7.8/envs/article/lib/python3.7/site-packages/deepdish/io/hdf5io.py:251: FutureWarning: The Panel class is removed from pandas. Accessing it from the top-level namespace will also be removed in the next version\n",
      "  elif _pandas and isinstance(level, (pd.DataFrame, pd.Series, pd.Panel)):\n"
     ]
    },
    {
     "name": "stdout",
     "output_type": "stream",
     "text": [
      "796 /media/dirceusilva/EAAC-94C8/BasesDados/GenerosMusicais/FonogramasPorGeneroMusical/FUNK/[Ray Guell] You Took My Heart.mp3\n",
      "Computing spectrogram (w/ librosa) and tags (w/ tensorflow).. "
     ]
    },
    {
     "name": "stderr",
     "output_type": "stream",
     "text": [
      "/home/dirceusilva/.pyenv/versions/3.7.8/envs/article/lib/python3.7/site-packages/librosa/core/audio.py:161: UserWarning: PySoundFile failed. Trying audioread instead.\n",
      "  warnings.warn('PySoundFile failed. Trying audioread instead.')\n"
     ]
    },
    {
     "name": "stdout",
     "output_type": "stream",
     "text": [
      "done!\n"
     ]
    },
    {
     "name": "stderr",
     "output_type": "stream",
     "text": [
      "/home/dirceusilva/.pyenv/versions/3.7.8/envs/article/lib/python3.7/site-packages/deepdish/io/hdf5io.py:251: FutureWarning: The Panel class is removed from pandas. Accessing it from the top-level namespace will also be removed in the next version\n",
      "  elif _pandas and isinstance(level, (pd.DataFrame, pd.Series, pd.Panel)):\n"
     ]
    },
    {
     "name": "stdout",
     "output_type": "stream",
     "text": [
      "797 /media/dirceusilva/EAAC-94C8/BasesDados/GenerosMusicais/FonogramasPorGeneroMusical/ROCK/01.Kings And Queens.mp3\n",
      "Computing spectrogram (w/ librosa) and tags (w/ tensorflow).. "
     ]
    },
    {
     "name": "stderr",
     "output_type": "stream",
     "text": [
      "/home/dirceusilva/.pyenv/versions/3.7.8/envs/article/lib/python3.7/site-packages/librosa/core/audio.py:161: UserWarning: PySoundFile failed. Trying audioread instead.\n",
      "  warnings.warn('PySoundFile failed. Trying audioread instead.')\n"
     ]
    },
    {
     "name": "stdout",
     "output_type": "stream",
     "text": [
      "done!\n"
     ]
    },
    {
     "name": "stderr",
     "output_type": "stream",
     "text": [
      "/home/dirceusilva/.pyenv/versions/3.7.8/envs/article/lib/python3.7/site-packages/deepdish/io/hdf5io.py:251: FutureWarning: The Panel class is removed from pandas. Accessing it from the top-level namespace will also be removed in the next version\n",
      "  elif _pandas and isinstance(level, (pd.DataFrame, pd.Series, pd.Panel)):\n"
     ]
    },
    {
     "name": "stdout",
     "output_type": "stream",
     "text": [
      "798 /media/dirceusilva/EAAC-94C8/BasesDados/GenerosMusicais/FonogramasPorGeneroMusical/ROCK/02 crawl.mp3\n",
      "Computing spectrogram (w/ librosa) and tags (w/ tensorflow).. "
     ]
    },
    {
     "name": "stderr",
     "output_type": "stream",
     "text": [
      "/home/dirceusilva/.pyenv/versions/3.7.8/envs/article/lib/python3.7/site-packages/librosa/core/audio.py:161: UserWarning: PySoundFile failed. Trying audioread instead.\n",
      "  warnings.warn('PySoundFile failed. Trying audioread instead.')\n"
     ]
    },
    {
     "name": "stdout",
     "output_type": "stream",
     "text": [
      "done!\n"
     ]
    },
    {
     "name": "stderr",
     "output_type": "stream",
     "text": [
      "/home/dirceusilva/.pyenv/versions/3.7.8/envs/article/lib/python3.7/site-packages/deepdish/io/hdf5io.py:251: FutureWarning: The Panel class is removed from pandas. Accessing it from the top-level namespace will also be removed in the next version\n",
      "  elif _pandas and isinstance(level, (pd.DataFrame, pd.Series, pd.Panel)):\n"
     ]
    },
    {
     "name": "stdout",
     "output_type": "stream",
     "text": [
      "799 /media/dirceusilva/EAAC-94C8/BasesDados/GenerosMusicais/FonogramasPorGeneroMusical/ROCK/nirvana - 15 - aneurysm.mp3\n",
      "Computing spectrogram (w/ librosa) and tags (w/ tensorflow).. "
     ]
    },
    {
     "name": "stderr",
     "output_type": "stream",
     "text": [
      "/home/dirceusilva/.pyenv/versions/3.7.8/envs/article/lib/python3.7/site-packages/librosa/core/audio.py:161: UserWarning: PySoundFile failed. Trying audioread instead.\n",
      "  warnings.warn('PySoundFile failed. Trying audioread instead.')\n"
     ]
    },
    {
     "name": "stdout",
     "output_type": "stream",
     "text": [
      "done!\n"
     ]
    },
    {
     "name": "stderr",
     "output_type": "stream",
     "text": [
      "/home/dirceusilva/.pyenv/versions/3.7.8/envs/article/lib/python3.7/site-packages/deepdish/io/hdf5io.py:251: FutureWarning: The Panel class is removed from pandas. Accessing it from the top-level namespace will also be removed in the next version\n",
      "  elif _pandas and isinstance(level, (pd.DataFrame, pd.Series, pd.Panel)):\n"
     ]
    },
    {
     "name": "stdout",
     "output_type": "stream",
     "text": [
      "800 /media/dirceusilva/EAAC-94C8/BasesDados/GenerosMusicais/FonogramasPorGeneroMusical/ROCK/nirvana - drain you.mp3\n",
      "Computing spectrogram (w/ librosa) and tags (w/ tensorflow).. "
     ]
    },
    {
     "name": "stderr",
     "output_type": "stream",
     "text": [
      "/home/dirceusilva/.pyenv/versions/3.7.8/envs/article/lib/python3.7/site-packages/librosa/core/audio.py:161: UserWarning: PySoundFile failed. Trying audioread instead.\n",
      "  warnings.warn('PySoundFile failed. Trying audioread instead.')\n"
     ]
    },
    {
     "name": "stdout",
     "output_type": "stream",
     "text": [
      "done!\n"
     ]
    },
    {
     "name": "stderr",
     "output_type": "stream",
     "text": [
      "/home/dirceusilva/.pyenv/versions/3.7.8/envs/article/lib/python3.7/site-packages/deepdish/io/hdf5io.py:251: FutureWarning: The Panel class is removed from pandas. Accessing it from the top-level namespace will also be removed in the next version\n",
      "  elif _pandas and isinstance(level, (pd.DataFrame, pd.Series, pd.Panel)):\n"
     ]
    },
    {
     "name": "stdout",
     "output_type": "stream",
     "text": [
      "801 /media/dirceusilva/EAAC-94C8/BasesDados/GenerosMusicais/FonogramasPorGeneroMusical/ROCK/nirvana - in bloom.mp3\n",
      "Computing spectrogram (w/ librosa) and tags (w/ tensorflow).. "
     ]
    },
    {
     "name": "stderr",
     "output_type": "stream",
     "text": [
      "/home/dirceusilva/.pyenv/versions/3.7.8/envs/article/lib/python3.7/site-packages/librosa/core/audio.py:161: UserWarning: PySoundFile failed. Trying audioread instead.\n",
      "  warnings.warn('PySoundFile failed. Trying audioread instead.')\n"
     ]
    },
    {
     "name": "stdout",
     "output_type": "stream",
     "text": [
      "done!\n"
     ]
    },
    {
     "name": "stderr",
     "output_type": "stream",
     "text": [
      "/home/dirceusilva/.pyenv/versions/3.7.8/envs/article/lib/python3.7/site-packages/deepdish/io/hdf5io.py:251: FutureWarning: The Panel class is removed from pandas. Accessing it from the top-level namespace will also be removed in the next version\n",
      "  elif _pandas and isinstance(level, (pd.DataFrame, pd.Series, pd.Panel)):\n"
     ]
    },
    {
     "name": "stdout",
     "output_type": "stream",
     "text": [
      "802 /media/dirceusilva/EAAC-94C8/BasesDados/GenerosMusicais/FonogramasPorGeneroMusical/ROCK/nirvana - territorial pissings.mp3\n",
      "Computing spectrogram (w/ librosa) and tags (w/ tensorflow).. "
     ]
    },
    {
     "name": "stderr",
     "output_type": "stream",
     "text": [
      "/home/dirceusilva/.pyenv/versions/3.7.8/envs/article/lib/python3.7/site-packages/librosa/core/audio.py:161: UserWarning: PySoundFile failed. Trying audioread instead.\n",
      "  warnings.warn('PySoundFile failed. Trying audioread instead.')\n"
     ]
    },
    {
     "name": "stdout",
     "output_type": "stream",
     "text": [
      "done!\n"
     ]
    },
    {
     "name": "stderr",
     "output_type": "stream",
     "text": [
      "/home/dirceusilva/.pyenv/versions/3.7.8/envs/article/lib/python3.7/site-packages/deepdish/io/hdf5io.py:251: FutureWarning: The Panel class is removed from pandas. Accessing it from the top-level namespace will also be removed in the next version\n",
      "  elif _pandas and isinstance(level, (pd.DataFrame, pd.Series, pd.Panel)):\n"
     ]
    },
    {
     "name": "stdout",
     "output_type": "stream",
     "text": [
      "803 /media/dirceusilva/EAAC-94C8/BasesDados/GenerosMusicais/FonogramasPorGeneroMusical/ROCK/use somebody.mp3\n",
      "Computing spectrogram (w/ librosa) and tags (w/ tensorflow).. "
     ]
    },
    {
     "name": "stderr",
     "output_type": "stream",
     "text": [
      "/home/dirceusilva/.pyenv/versions/3.7.8/envs/article/lib/python3.7/site-packages/librosa/core/audio.py:161: UserWarning: PySoundFile failed. Trying audioread instead.\n",
      "  warnings.warn('PySoundFile failed. Trying audioread instead.')\n"
     ]
    },
    {
     "name": "stdout",
     "output_type": "stream",
     "text": [
      "done!\n"
     ]
    },
    {
     "name": "stderr",
     "output_type": "stream",
     "text": [
      "/home/dirceusilva/.pyenv/versions/3.7.8/envs/article/lib/python3.7/site-packages/deepdish/io/hdf5io.py:251: FutureWarning: The Panel class is removed from pandas. Accessing it from the top-level namespace will also be removed in the next version\n",
      "  elif _pandas and isinstance(level, (pd.DataFrame, pd.Series, pd.Panel)):\n"
     ]
    },
    {
     "name": "stdout",
     "output_type": "stream",
     "text": [
      "804 /media/dirceusilva/EAAC-94C8/BasesDados/GenerosMusicais/FonogramasPorGeneroMusical/HipHop/02 - MV Bill - Emiví.mp3\n",
      "Computing spectrogram (w/ librosa) and tags (w/ tensorflow).. "
     ]
    },
    {
     "name": "stderr",
     "output_type": "stream",
     "text": [
      "/home/dirceusilva/.pyenv/versions/3.7.8/envs/article/lib/python3.7/site-packages/librosa/core/audio.py:161: UserWarning: PySoundFile failed. Trying audioread instead.\n",
      "  warnings.warn('PySoundFile failed. Trying audioread instead.')\n"
     ]
    },
    {
     "name": "stdout",
     "output_type": "stream",
     "text": [
      "done!\n"
     ]
    },
    {
     "name": "stderr",
     "output_type": "stream",
     "text": [
      "/home/dirceusilva/.pyenv/versions/3.7.8/envs/article/lib/python3.7/site-packages/deepdish/io/hdf5io.py:251: FutureWarning: The Panel class is removed from pandas. Accessing it from the top-level namespace will also be removed in the next version\n",
      "  elif _pandas and isinstance(level, (pd.DataFrame, pd.Series, pd.Panel)):\n"
     ]
    },
    {
     "name": "stdout",
     "output_type": "stream",
     "text": [
      "805 /media/dirceusilva/EAAC-94C8/BasesDados/GenerosMusicais/FonogramasPorGeneroMusical/HipHop/02-Subirusdoistiozin.mp3\n",
      "Computing spectrogram (w/ librosa) and tags (w/ tensorflow).. "
     ]
    },
    {
     "name": "stderr",
     "output_type": "stream",
     "text": [
      "/home/dirceusilva/.pyenv/versions/3.7.8/envs/article/lib/python3.7/site-packages/librosa/core/audio.py:161: UserWarning: PySoundFile failed. Trying audioread instead.\n",
      "  warnings.warn('PySoundFile failed. Trying audioread instead.')\n"
     ]
    },
    {
     "name": "stdout",
     "output_type": "stream",
     "text": [
      "done!\n"
     ]
    },
    {
     "name": "stderr",
     "output_type": "stream",
     "text": [
      "/home/dirceusilva/.pyenv/versions/3.7.8/envs/article/lib/python3.7/site-packages/deepdish/io/hdf5io.py:251: FutureWarning: The Panel class is removed from pandas. Accessing it from the top-level namespace will also be removed in the next version\n",
      "  elif _pandas and isinstance(level, (pd.DataFrame, pd.Series, pd.Panel)):\n"
     ]
    },
    {
     "name": "stdout",
     "output_type": "stream",
     "text": [
      "806 /media/dirceusilva/EAAC-94C8/BasesDados/GenerosMusicais/FonogramasPorGeneroMusical/HipHop/03 - MV BIll - Só Deus pode me julgar.mp3\n",
      "Computing spectrogram (w/ librosa) and tags (w/ tensorflow).. "
     ]
    },
    {
     "name": "stderr",
     "output_type": "stream",
     "text": [
      "/home/dirceusilva/.pyenv/versions/3.7.8/envs/article/lib/python3.7/site-packages/librosa/core/audio.py:161: UserWarning: PySoundFile failed. Trying audioread instead.\n",
      "  warnings.warn('PySoundFile failed. Trying audioread instead.')\n"
     ]
    },
    {
     "name": "stdout",
     "output_type": "stream",
     "text": [
      "done!\n"
     ]
    },
    {
     "name": "stderr",
     "output_type": "stream",
     "text": [
      "/home/dirceusilva/.pyenv/versions/3.7.8/envs/article/lib/python3.7/site-packages/deepdish/io/hdf5io.py:251: FutureWarning: The Panel class is removed from pandas. Accessing it from the top-level namespace will also be removed in the next version\n",
      "  elif _pandas and isinstance(level, (pd.DataFrame, pd.Series, pd.Panel)):\n"
     ]
    },
    {
     "name": "stdout",
     "output_type": "stream",
     "text": [
      "807 /media/dirceusilva/EAAC-94C8/BasesDados/GenerosMusicais/FonogramasPorGeneroMusical/HipHop/04-Mario¦é.mp3\n",
      "Computing spectrogram (w/ librosa) and tags (w/ tensorflow).. "
     ]
    },
    {
     "name": "stderr",
     "output_type": "stream",
     "text": [
      "/home/dirceusilva/.pyenv/versions/3.7.8/envs/article/lib/python3.7/site-packages/librosa/core/audio.py:161: UserWarning: PySoundFile failed. Trying audioread instead.\n",
      "  warnings.warn('PySoundFile failed. Trying audioread instead.')\n"
     ]
    },
    {
     "name": "stdout",
     "output_type": "stream",
     "text": [
      "done!\n"
     ]
    },
    {
     "name": "stderr",
     "output_type": "stream",
     "text": [
      "/home/dirceusilva/.pyenv/versions/3.7.8/envs/article/lib/python3.7/site-packages/deepdish/io/hdf5io.py:251: FutureWarning: The Panel class is removed from pandas. Accessing it from the top-level namespace will also be removed in the next version\n",
      "  elif _pandas and isinstance(level, (pd.DataFrame, pd.Series, pd.Panel)):\n"
     ]
    },
    {
     "name": "stdout",
     "output_type": "stream",
     "text": [
      "808 /media/dirceusilva/EAAC-94C8/BasesDados/GenerosMusicais/FonogramasPorGeneroMusical/HipHop/09-Lion Man.mp3\n",
      "Computing spectrogram (w/ librosa) and tags (w/ tensorflow).. "
     ]
    },
    {
     "name": "stderr",
     "output_type": "stream",
     "text": [
      "/home/dirceusilva/.pyenv/versions/3.7.8/envs/article/lib/python3.7/site-packages/librosa/core/audio.py:161: UserWarning: PySoundFile failed. Trying audioread instead.\n",
      "  warnings.warn('PySoundFile failed. Trying audioread instead.')\n"
     ]
    },
    {
     "name": "stdout",
     "output_type": "stream",
     "text": [
      "done!\n"
     ]
    },
    {
     "name": "stderr",
     "output_type": "stream",
     "text": [
      "/home/dirceusilva/.pyenv/versions/3.7.8/envs/article/lib/python3.7/site-packages/deepdish/io/hdf5io.py:251: FutureWarning: The Panel class is removed from pandas. Accessing it from the top-level namespace will also be removed in the next version\n",
      "  elif _pandas and isinstance(level, (pd.DataFrame, pd.Series, pd.Panel)):\n"
     ]
    },
    {
     "name": "stdout",
     "output_type": "stream",
     "text": [
      "809 /media/dirceusilva/EAAC-94C8/BasesDados/GenerosMusicais/FonogramasPorGeneroMusical/HipHop/Blu Cantrell- Breathe Feat Sean Paul (Alex D Intro).mp3\n",
      "Computing spectrogram (w/ librosa) and tags (w/ tensorflow).. "
     ]
    },
    {
     "name": "stderr",
     "output_type": "stream",
     "text": [
      "/home/dirceusilva/.pyenv/versions/3.7.8/envs/article/lib/python3.7/site-packages/librosa/core/audio.py:161: UserWarning: PySoundFile failed. Trying audioread instead.\n",
      "  warnings.warn('PySoundFile failed. Trying audioread instead.')\n"
     ]
    },
    {
     "name": "stdout",
     "output_type": "stream",
     "text": [
      "done!\n"
     ]
    },
    {
     "name": "stderr",
     "output_type": "stream",
     "text": [
      "/home/dirceusilva/.pyenv/versions/3.7.8/envs/article/lib/python3.7/site-packages/deepdish/io/hdf5io.py:251: FutureWarning: The Panel class is removed from pandas. Accessing it from the top-level namespace will also be removed in the next version\n",
      "  elif _pandas and isinstance(level, (pd.DataFrame, pd.Series, pd.Panel)):\n"
     ]
    },
    {
     "name": "stdout",
     "output_type": "stream",
     "text": [
      "810 /media/dirceusilva/EAAC-94C8/BasesDados/GenerosMusicais/FonogramasPorGeneroMusical/HipHop/Just Like That - Zhane.mp3\n",
      "Computing spectrogram (w/ librosa) and tags (w/ tensorflow).. "
     ]
    },
    {
     "name": "stderr",
     "output_type": "stream",
     "text": [
      "/home/dirceusilva/.pyenv/versions/3.7.8/envs/article/lib/python3.7/site-packages/librosa/core/audio.py:161: UserWarning: PySoundFile failed. Trying audioread instead.\n",
      "  warnings.warn('PySoundFile failed. Trying audioread instead.')\n"
     ]
    },
    {
     "name": "stdout",
     "output_type": "stream",
     "text": [
      "done!\n"
     ]
    },
    {
     "name": "stderr",
     "output_type": "stream",
     "text": [
      "/home/dirceusilva/.pyenv/versions/3.7.8/envs/article/lib/python3.7/site-packages/deepdish/io/hdf5io.py:251: FutureWarning: The Panel class is removed from pandas. Accessing it from the top-level namespace will also be removed in the next version\n",
      "  elif _pandas and isinstance(level, (pd.DataFrame, pd.Series, pd.Panel)):\n"
     ]
    },
    {
     "name": "stdout",
     "output_type": "stream",
     "text": [
      "811 /media/dirceusilva/EAAC-94C8/BasesDados/GenerosMusicais/FonogramasPorGeneroMusical/HipHop/keithsweatbarristeredit.mp3\n",
      "Computing spectrogram (w/ librosa) and tags (w/ tensorflow).. "
     ]
    },
    {
     "name": "stderr",
     "output_type": "stream",
     "text": [
      "/home/dirceusilva/.pyenv/versions/3.7.8/envs/article/lib/python3.7/site-packages/librosa/core/audio.py:161: UserWarning: PySoundFile failed. Trying audioread instead.\n",
      "  warnings.warn('PySoundFile failed. Trying audioread instead.')\n"
     ]
    },
    {
     "name": "stdout",
     "output_type": "stream",
     "text": [
      "done!\n"
     ]
    },
    {
     "name": "stderr",
     "output_type": "stream",
     "text": [
      "/home/dirceusilva/.pyenv/versions/3.7.8/envs/article/lib/python3.7/site-packages/deepdish/io/hdf5io.py:251: FutureWarning: The Panel class is removed from pandas. Accessing it from the top-level namespace will also be removed in the next version\n",
      "  elif _pandas and isinstance(level, (pd.DataFrame, pd.Series, pd.Panel)):\n"
     ]
    },
    {
     "name": "stdout",
     "output_type": "stream",
     "text": [
      "812 /media/dirceusilva/EAAC-94C8/BasesDados/GenerosMusicais/FonogramasPorGeneroMusical/HipHop/Sunshine anderson - heard it all before (2).mp3\n",
      "Computing spectrogram (w/ librosa) and tags (w/ tensorflow).. "
     ]
    },
    {
     "name": "stderr",
     "output_type": "stream",
     "text": [
      "/home/dirceusilva/.pyenv/versions/3.7.8/envs/article/lib/python3.7/site-packages/librosa/core/audio.py:161: UserWarning: PySoundFile failed. Trying audioread instead.\n",
      "  warnings.warn('PySoundFile failed. Trying audioread instead.')\n"
     ]
    },
    {
     "name": "stdout",
     "output_type": "stream",
     "text": [
      "done!\n"
     ]
    },
    {
     "name": "stderr",
     "output_type": "stream",
     "text": [
      "/home/dirceusilva/.pyenv/versions/3.7.8/envs/article/lib/python3.7/site-packages/deepdish/io/hdf5io.py:251: FutureWarning: The Panel class is removed from pandas. Accessing it from the top-level namespace will also be removed in the next version\n",
      "  elif _pandas and isinstance(level, (pd.DataFrame, pd.Series, pd.Panel)):\n"
     ]
    },
    {
     "name": "stdout",
     "output_type": "stream",
     "text": [
      "813 /media/dirceusilva/EAAC-94C8/BasesDados/GenerosMusicais/FonogramasPorGeneroMusical/HipHop/Wifey - Next.mp3\n",
      "Computing spectrogram (w/ librosa) and tags (w/ tensorflow).. "
     ]
    },
    {
     "name": "stderr",
     "output_type": "stream",
     "text": [
      "/home/dirceusilva/.pyenv/versions/3.7.8/envs/article/lib/python3.7/site-packages/librosa/core/audio.py:161: UserWarning: PySoundFile failed. Trying audioread instead.\n",
      "  warnings.warn('PySoundFile failed. Trying audioread instead.')\n"
     ]
    },
    {
     "name": "stdout",
     "output_type": "stream",
     "text": [
      "done!\n"
     ]
    },
    {
     "name": "stderr",
     "output_type": "stream",
     "text": [
      "/home/dirceusilva/.pyenv/versions/3.7.8/envs/article/lib/python3.7/site-packages/deepdish/io/hdf5io.py:251: FutureWarning: The Panel class is removed from pandas. Accessing it from the top-level namespace will also be removed in the next version\n",
      "  elif _pandas and isinstance(level, (pd.DataFrame, pd.Series, pd.Panel)):\n"
     ]
    },
    {
     "name": "stdout",
     "output_type": "stream",
     "text": [
      "814 /media/dirceusilva/EAAC-94C8/BasesDados/GenerosMusicais/FonogramasPorGeneroMusical/POP/10 Beat It.mp3\n",
      "Computing spectrogram (w/ librosa) and tags (w/ tensorflow).. "
     ]
    },
    {
     "name": "stderr",
     "output_type": "stream",
     "text": [
      "/home/dirceusilva/.pyenv/versions/3.7.8/envs/article/lib/python3.7/site-packages/librosa/core/audio.py:161: UserWarning: PySoundFile failed. Trying audioread instead.\n",
      "  warnings.warn('PySoundFile failed. Trying audioread instead.')\n"
     ]
    },
    {
     "name": "stdout",
     "output_type": "stream",
     "text": [
      "done!\n"
     ]
    },
    {
     "name": "stderr",
     "output_type": "stream",
     "text": [
      "/home/dirceusilva/.pyenv/versions/3.7.8/envs/article/lib/python3.7/site-packages/deepdish/io/hdf5io.py:251: FutureWarning: The Panel class is removed from pandas. Accessing it from the top-level namespace will also be removed in the next version\n",
      "  elif _pandas and isinstance(level, (pd.DataFrame, pd.Series, pd.Panel)):\n"
     ]
    },
    {
     "name": "stdout",
     "output_type": "stream",
     "text": [
      "815 /media/dirceusilva/EAAC-94C8/BasesDados/GenerosMusicais/FonogramasPorGeneroMusical/Piano Tenso/PON_TEN_PianoTenso01-DF.mp3\n",
      "Computing spectrogram (w/ librosa) and tags (w/ tensorflow).. "
     ]
    },
    {
     "name": "stderr",
     "output_type": "stream",
     "text": [
      "/home/dirceusilva/.pyenv/versions/3.7.8/envs/article/lib/python3.7/site-packages/librosa/core/audio.py:161: UserWarning: PySoundFile failed. Trying audioread instead.\n",
      "  warnings.warn('PySoundFile failed. Trying audioread instead.')\n"
     ]
    },
    {
     "name": "stdout",
     "output_type": "stream",
     "text": [
      "done!\n",
      "816 /media/dirceusilva/EAAC-94C8/BasesDados/GenerosMusicais/FonogramasPorGeneroMusical/Piano Tenso/PON_TEN_PianoTenso02-DF.mp3\n"
     ]
    },
    {
     "name": "stderr",
     "output_type": "stream",
     "text": [
      "/home/dirceusilva/.pyenv/versions/3.7.8/envs/article/lib/python3.7/site-packages/deepdish/io/hdf5io.py:251: FutureWarning: The Panel class is removed from pandas. Accessing it from the top-level namespace will also be removed in the next version\n",
      "  elif _pandas and isinstance(level, (pd.DataFrame, pd.Series, pd.Panel)):\n"
     ]
    },
    {
     "name": "stdout",
     "output_type": "stream",
     "text": [
      "Computing spectrogram (w/ librosa) and tags (w/ tensorflow).. "
     ]
    },
    {
     "name": "stderr",
     "output_type": "stream",
     "text": [
      "/home/dirceusilva/.pyenv/versions/3.7.8/envs/article/lib/python3.7/site-packages/librosa/core/audio.py:161: UserWarning: PySoundFile failed. Trying audioread instead.\n",
      "  warnings.warn('PySoundFile failed. Trying audioread instead.')\n"
     ]
    },
    {
     "name": "stdout",
     "output_type": "stream",
     "text": [
      "done!\n",
      "817 /media/dirceusilva/EAAC-94C8/BasesDados/GenerosMusicais/FonogramasPorGeneroMusical/Piano Tenso/PON_TEN_PianoTenso03-DF.mp3\n"
     ]
    },
    {
     "name": "stderr",
     "output_type": "stream",
     "text": [
      "/home/dirceusilva/.pyenv/versions/3.7.8/envs/article/lib/python3.7/site-packages/deepdish/io/hdf5io.py:251: FutureWarning: The Panel class is removed from pandas. Accessing it from the top-level namespace will also be removed in the next version\n",
      "  elif _pandas and isinstance(level, (pd.DataFrame, pd.Series, pd.Panel)):\n"
     ]
    },
    {
     "name": "stdout",
     "output_type": "stream",
     "text": [
      "Computing spectrogram (w/ librosa) and tags (w/ tensorflow).. "
     ]
    },
    {
     "name": "stderr",
     "output_type": "stream",
     "text": [
      "/home/dirceusilva/.pyenv/versions/3.7.8/envs/article/lib/python3.7/site-packages/librosa/core/audio.py:161: UserWarning: PySoundFile failed. Trying audioread instead.\n",
      "  warnings.warn('PySoundFile failed. Trying audioread instead.')\n"
     ]
    },
    {
     "name": "stdout",
     "output_type": "stream",
     "text": [
      "done!\n",
      "818 /media/dirceusilva/EAAC-94C8/BasesDados/GenerosMusicais/FonogramasPorGeneroMusical/Piano Tenso/PON_TEN_PianoTenso04-DF.mp3\n"
     ]
    },
    {
     "name": "stderr",
     "output_type": "stream",
     "text": [
      "/home/dirceusilva/.pyenv/versions/3.7.8/envs/article/lib/python3.7/site-packages/deepdish/io/hdf5io.py:251: FutureWarning: The Panel class is removed from pandas. Accessing it from the top-level namespace will also be removed in the next version\n",
      "  elif _pandas and isinstance(level, (pd.DataFrame, pd.Series, pd.Panel)):\n"
     ]
    },
    {
     "name": "stdout",
     "output_type": "stream",
     "text": [
      "Computing spectrogram (w/ librosa) and tags (w/ tensorflow).. "
     ]
    },
    {
     "name": "stderr",
     "output_type": "stream",
     "text": [
      "/home/dirceusilva/.pyenv/versions/3.7.8/envs/article/lib/python3.7/site-packages/librosa/core/audio.py:161: UserWarning: PySoundFile failed. Trying audioread instead.\n",
      "  warnings.warn('PySoundFile failed. Trying audioread instead.')\n"
     ]
    },
    {
     "name": "stdout",
     "output_type": "stream",
     "text": [
      "done!\n",
      "819 /media/dirceusilva/EAAC-94C8/BasesDados/GenerosMusicais/FonogramasPorGeneroMusical/Piano Tenso/PON_TEN_PianoTenso05-DF.mp3\n"
     ]
    },
    {
     "name": "stderr",
     "output_type": "stream",
     "text": [
      "/home/dirceusilva/.pyenv/versions/3.7.8/envs/article/lib/python3.7/site-packages/deepdish/io/hdf5io.py:251: FutureWarning: The Panel class is removed from pandas. Accessing it from the top-level namespace will also be removed in the next version\n",
      "  elif _pandas and isinstance(level, (pd.DataFrame, pd.Series, pd.Panel)):\n"
     ]
    },
    {
     "name": "stdout",
     "output_type": "stream",
     "text": [
      "Computing spectrogram (w/ librosa) and tags (w/ tensorflow).. "
     ]
    },
    {
     "name": "stderr",
     "output_type": "stream",
     "text": [
      "/home/dirceusilva/.pyenv/versions/3.7.8/envs/article/lib/python3.7/site-packages/librosa/core/audio.py:161: UserWarning: PySoundFile failed. Trying audioread instead.\n",
      "  warnings.warn('PySoundFile failed. Trying audioread instead.')\n"
     ]
    },
    {
     "name": "stdout",
     "output_type": "stream",
     "text": [
      "done!\n",
      "820 /media/dirceusilva/EAAC-94C8/BasesDados/GenerosMusicais/FonogramasPorGeneroMusical/Piano Tenso/PON_TEN_PianoTenso06-DF.mp3\n"
     ]
    },
    {
     "name": "stderr",
     "output_type": "stream",
     "text": [
      "/home/dirceusilva/.pyenv/versions/3.7.8/envs/article/lib/python3.7/site-packages/deepdish/io/hdf5io.py:251: FutureWarning: The Panel class is removed from pandas. Accessing it from the top-level namespace will also be removed in the next version\n",
      "  elif _pandas and isinstance(level, (pd.DataFrame, pd.Series, pd.Panel)):\n"
     ]
    },
    {
     "name": "stdout",
     "output_type": "stream",
     "text": [
      "Computing spectrogram (w/ librosa) and tags (w/ tensorflow).. "
     ]
    },
    {
     "name": "stderr",
     "output_type": "stream",
     "text": [
      "/home/dirceusilva/.pyenv/versions/3.7.8/envs/article/lib/python3.7/site-packages/librosa/core/audio.py:161: UserWarning: PySoundFile failed. Trying audioread instead.\n",
      "  warnings.warn('PySoundFile failed. Trying audioread instead.')\n"
     ]
    },
    {
     "name": "stdout",
     "output_type": "stream",
     "text": [
      "done!\n",
      "821 /media/dirceusilva/EAAC-94C8/BasesDados/GenerosMusicais/FonogramasPorGeneroMusical/Piano Tenso/PON_TEN_PianoTenso07-DF.mp3\n"
     ]
    },
    {
     "name": "stderr",
     "output_type": "stream",
     "text": [
      "/home/dirceusilva/.pyenv/versions/3.7.8/envs/article/lib/python3.7/site-packages/deepdish/io/hdf5io.py:251: FutureWarning: The Panel class is removed from pandas. Accessing it from the top-level namespace will also be removed in the next version\n",
      "  elif _pandas and isinstance(level, (pd.DataFrame, pd.Series, pd.Panel)):\n"
     ]
    },
    {
     "name": "stdout",
     "output_type": "stream",
     "text": [
      "Computing spectrogram (w/ librosa) and tags (w/ tensorflow).. "
     ]
    },
    {
     "name": "stderr",
     "output_type": "stream",
     "text": [
      "/home/dirceusilva/.pyenv/versions/3.7.8/envs/article/lib/python3.7/site-packages/librosa/core/audio.py:161: UserWarning: PySoundFile failed. Trying audioread instead.\n",
      "  warnings.warn('PySoundFile failed. Trying audioread instead.')\n"
     ]
    },
    {
     "name": "stdout",
     "output_type": "stream",
     "text": [
      "done!\n",
      "822 /media/dirceusilva/EAAC-94C8/BasesDados/GenerosMusicais/FonogramasPorGeneroMusical/Piano Tenso/PON_TEN_PianoTenso08-DF.mp3\n"
     ]
    },
    {
     "name": "stderr",
     "output_type": "stream",
     "text": [
      "/home/dirceusilva/.pyenv/versions/3.7.8/envs/article/lib/python3.7/site-packages/deepdish/io/hdf5io.py:251: FutureWarning: The Panel class is removed from pandas. Accessing it from the top-level namespace will also be removed in the next version\n",
      "  elif _pandas and isinstance(level, (pd.DataFrame, pd.Series, pd.Panel)):\n"
     ]
    },
    {
     "name": "stdout",
     "output_type": "stream",
     "text": [
      "Computing spectrogram (w/ librosa) and tags (w/ tensorflow).. "
     ]
    },
    {
     "name": "stderr",
     "output_type": "stream",
     "text": [
      "/home/dirceusilva/.pyenv/versions/3.7.8/envs/article/lib/python3.7/site-packages/librosa/core/audio.py:161: UserWarning: PySoundFile failed. Trying audioread instead.\n",
      "  warnings.warn('PySoundFile failed. Trying audioread instead.')\n"
     ]
    },
    {
     "name": "stdout",
     "output_type": "stream",
     "text": [
      "done!\n",
      "823 /media/dirceusilva/EAAC-94C8/BasesDados/GenerosMusicais/FonogramasPorGeneroMusical/Piano Tenso/PON_TEN_PianoTenso09-DF.mp3\n"
     ]
    },
    {
     "name": "stderr",
     "output_type": "stream",
     "text": [
      "/home/dirceusilva/.pyenv/versions/3.7.8/envs/article/lib/python3.7/site-packages/deepdish/io/hdf5io.py:251: FutureWarning: The Panel class is removed from pandas. Accessing it from the top-level namespace will also be removed in the next version\n",
      "  elif _pandas and isinstance(level, (pd.DataFrame, pd.Series, pd.Panel)):\n"
     ]
    },
    {
     "name": "stdout",
     "output_type": "stream",
     "text": [
      "Computing spectrogram (w/ librosa) and tags (w/ tensorflow).. "
     ]
    },
    {
     "name": "stderr",
     "output_type": "stream",
     "text": [
      "/home/dirceusilva/.pyenv/versions/3.7.8/envs/article/lib/python3.7/site-packages/librosa/core/audio.py:161: UserWarning: PySoundFile failed. Trying audioread instead.\n",
      "  warnings.warn('PySoundFile failed. Trying audioread instead.')\n"
     ]
    },
    {
     "name": "stdout",
     "output_type": "stream",
     "text": [
      "done!\n",
      "824 /media/dirceusilva/EAAC-94C8/BasesDados/GenerosMusicais/FonogramasPorGeneroMusical/Piano Tenso/PON_TEN_PianoTenso10-DF.mp3\n"
     ]
    },
    {
     "name": "stderr",
     "output_type": "stream",
     "text": [
      "/home/dirceusilva/.pyenv/versions/3.7.8/envs/article/lib/python3.7/site-packages/deepdish/io/hdf5io.py:251: FutureWarning: The Panel class is removed from pandas. Accessing it from the top-level namespace will also be removed in the next version\n",
      "  elif _pandas and isinstance(level, (pd.DataFrame, pd.Series, pd.Panel)):\n"
     ]
    },
    {
     "name": "stdout",
     "output_type": "stream",
     "text": [
      "Computing spectrogram (w/ librosa) and tags (w/ tensorflow).. "
     ]
    },
    {
     "name": "stderr",
     "output_type": "stream",
     "text": [
      "/home/dirceusilva/.pyenv/versions/3.7.8/envs/article/lib/python3.7/site-packages/librosa/core/audio.py:161: UserWarning: PySoundFile failed. Trying audioread instead.\n",
      "  warnings.warn('PySoundFile failed. Trying audioread instead.')\n"
     ]
    },
    {
     "name": "stdout",
     "output_type": "stream",
     "text": [
      "done!\n",
      "825 /media/dirceusilva/EAAC-94C8/BasesDados/GenerosMusicais/FonogramasPorGeneroMusical/Piano Tenso/PON_TEN_PianoTenso11-DF.mp3\n"
     ]
    },
    {
     "name": "stderr",
     "output_type": "stream",
     "text": [
      "/home/dirceusilva/.pyenv/versions/3.7.8/envs/article/lib/python3.7/site-packages/deepdish/io/hdf5io.py:251: FutureWarning: The Panel class is removed from pandas. Accessing it from the top-level namespace will also be removed in the next version\n",
      "  elif _pandas and isinstance(level, (pd.DataFrame, pd.Series, pd.Panel)):\n"
     ]
    },
    {
     "name": "stdout",
     "output_type": "stream",
     "text": [
      "Computing spectrogram (w/ librosa) and tags (w/ tensorflow).. "
     ]
    },
    {
     "name": "stderr",
     "output_type": "stream",
     "text": [
      "/home/dirceusilva/.pyenv/versions/3.7.8/envs/article/lib/python3.7/site-packages/librosa/core/audio.py:161: UserWarning: PySoundFile failed. Trying audioread instead.\n",
      "  warnings.warn('PySoundFile failed. Trying audioread instead.')\n"
     ]
    },
    {
     "name": "stdout",
     "output_type": "stream",
     "text": [
      "done!\n",
      "826 /media/dirceusilva/EAAC-94C8/BasesDados/GenerosMusicais/FonogramasPorGeneroMusical/Piano Tenso/PON_TEN_PianoTenso12-DF.mp3\n"
     ]
    },
    {
     "name": "stderr",
     "output_type": "stream",
     "text": [
      "/home/dirceusilva/.pyenv/versions/3.7.8/envs/article/lib/python3.7/site-packages/deepdish/io/hdf5io.py:251: FutureWarning: The Panel class is removed from pandas. Accessing it from the top-level namespace will also be removed in the next version\n",
      "  elif _pandas and isinstance(level, (pd.DataFrame, pd.Series, pd.Panel)):\n"
     ]
    },
    {
     "name": "stdout",
     "output_type": "stream",
     "text": [
      "Computing spectrogram (w/ librosa) and tags (w/ tensorflow).. "
     ]
    },
    {
     "name": "stderr",
     "output_type": "stream",
     "text": [
      "/home/dirceusilva/.pyenv/versions/3.7.8/envs/article/lib/python3.7/site-packages/librosa/core/audio.py:161: UserWarning: PySoundFile failed. Trying audioread instead.\n",
      "  warnings.warn('PySoundFile failed. Trying audioread instead.')\n"
     ]
    },
    {
     "name": "stdout",
     "output_type": "stream",
     "text": [
      "done!\n",
      "827 /media/dirceusilva/EAAC-94C8/BasesDados/GenerosMusicais/FonogramasPorGeneroMusical/Piano Tenso/PON_TEN_PianoTenso13-DF.mp3\n"
     ]
    },
    {
     "name": "stderr",
     "output_type": "stream",
     "text": [
      "/home/dirceusilva/.pyenv/versions/3.7.8/envs/article/lib/python3.7/site-packages/deepdish/io/hdf5io.py:251: FutureWarning: The Panel class is removed from pandas. Accessing it from the top-level namespace will also be removed in the next version\n",
      "  elif _pandas and isinstance(level, (pd.DataFrame, pd.Series, pd.Panel)):\n"
     ]
    },
    {
     "name": "stdout",
     "output_type": "stream",
     "text": [
      "Computing spectrogram (w/ librosa) and tags (w/ tensorflow).. "
     ]
    },
    {
     "name": "stderr",
     "output_type": "stream",
     "text": [
      "/home/dirceusilva/.pyenv/versions/3.7.8/envs/article/lib/python3.7/site-packages/librosa/core/audio.py:161: UserWarning: PySoundFile failed. Trying audioread instead.\n",
      "  warnings.warn('PySoundFile failed. Trying audioread instead.')\n"
     ]
    },
    {
     "name": "stdout",
     "output_type": "stream",
     "text": [
      "done!\n",
      "828 /media/dirceusilva/EAAC-94C8/BasesDados/GenerosMusicais/FonogramasPorGeneroMusical/Piano Tenso/PON_TEN_PianoTenso14-DF.mp3\n"
     ]
    },
    {
     "name": "stderr",
     "output_type": "stream",
     "text": [
      "/home/dirceusilva/.pyenv/versions/3.7.8/envs/article/lib/python3.7/site-packages/deepdish/io/hdf5io.py:251: FutureWarning: The Panel class is removed from pandas. Accessing it from the top-level namespace will also be removed in the next version\n",
      "  elif _pandas and isinstance(level, (pd.DataFrame, pd.Series, pd.Panel)):\n"
     ]
    },
    {
     "name": "stdout",
     "output_type": "stream",
     "text": [
      "Computing spectrogram (w/ librosa) and tags (w/ tensorflow).. "
     ]
    },
    {
     "name": "stderr",
     "output_type": "stream",
     "text": [
      "/home/dirceusilva/.pyenv/versions/3.7.8/envs/article/lib/python3.7/site-packages/librosa/core/audio.py:161: UserWarning: PySoundFile failed. Trying audioread instead.\n",
      "  warnings.warn('PySoundFile failed. Trying audioread instead.')\n"
     ]
    },
    {
     "name": "stdout",
     "output_type": "stream",
     "text": [
      "done!\n",
      "829 /media/dirceusilva/EAAC-94C8/BasesDados/GenerosMusicais/FonogramasPorGeneroMusical/Piano Tenso/PON_TEN_PianoTenso15-DF.mp3\n"
     ]
    },
    {
     "name": "stderr",
     "output_type": "stream",
     "text": [
      "/home/dirceusilva/.pyenv/versions/3.7.8/envs/article/lib/python3.7/site-packages/deepdish/io/hdf5io.py:251: FutureWarning: The Panel class is removed from pandas. Accessing it from the top-level namespace will also be removed in the next version\n",
      "  elif _pandas and isinstance(level, (pd.DataFrame, pd.Series, pd.Panel)):\n"
     ]
    },
    {
     "name": "stdout",
     "output_type": "stream",
     "text": [
      "Computing spectrogram (w/ librosa) and tags (w/ tensorflow).. "
     ]
    },
    {
     "name": "stderr",
     "output_type": "stream",
     "text": [
      "/home/dirceusilva/.pyenv/versions/3.7.8/envs/article/lib/python3.7/site-packages/librosa/core/audio.py:161: UserWarning: PySoundFile failed. Trying audioread instead.\n",
      "  warnings.warn('PySoundFile failed. Trying audioread instead.')\n"
     ]
    },
    {
     "name": "stdout",
     "output_type": "stream",
     "text": [
      "done!\n",
      "830 /media/dirceusilva/EAAC-94C8/BasesDados/GenerosMusicais/FonogramasPorGeneroMusical/Piano Tenso/PON_TEN_PianoTenso16-DF.mp3\n"
     ]
    },
    {
     "name": "stderr",
     "output_type": "stream",
     "text": [
      "/home/dirceusilva/.pyenv/versions/3.7.8/envs/article/lib/python3.7/site-packages/deepdish/io/hdf5io.py:251: FutureWarning: The Panel class is removed from pandas. Accessing it from the top-level namespace will also be removed in the next version\n",
      "  elif _pandas and isinstance(level, (pd.DataFrame, pd.Series, pd.Panel)):\n"
     ]
    },
    {
     "name": "stdout",
     "output_type": "stream",
     "text": [
      "Computing spectrogram (w/ librosa) and tags (w/ tensorflow).. "
     ]
    },
    {
     "name": "stderr",
     "output_type": "stream",
     "text": [
      "/home/dirceusilva/.pyenv/versions/3.7.8/envs/article/lib/python3.7/site-packages/librosa/core/audio.py:161: UserWarning: PySoundFile failed. Trying audioread instead.\n",
      "  warnings.warn('PySoundFile failed. Trying audioread instead.')\n"
     ]
    },
    {
     "name": "stdout",
     "output_type": "stream",
     "text": [
      "done!\n",
      "831 /media/dirceusilva/EAAC-94C8/BasesDados/GenerosMusicais/FonogramasPorGeneroMusical/Piano Tenso/PON_TEN_PianoTenso17-DF.mp3\n"
     ]
    },
    {
     "name": "stderr",
     "output_type": "stream",
     "text": [
      "/home/dirceusilva/.pyenv/versions/3.7.8/envs/article/lib/python3.7/site-packages/deepdish/io/hdf5io.py:251: FutureWarning: The Panel class is removed from pandas. Accessing it from the top-level namespace will also be removed in the next version\n",
      "  elif _pandas and isinstance(level, (pd.DataFrame, pd.Series, pd.Panel)):\n"
     ]
    },
    {
     "name": "stdout",
     "output_type": "stream",
     "text": [
      "Computing spectrogram (w/ librosa) and tags (w/ tensorflow).. "
     ]
    },
    {
     "name": "stderr",
     "output_type": "stream",
     "text": [
      "/home/dirceusilva/.pyenv/versions/3.7.8/envs/article/lib/python3.7/site-packages/librosa/core/audio.py:161: UserWarning: PySoundFile failed. Trying audioread instead.\n",
      "  warnings.warn('PySoundFile failed. Trying audioread instead.')\n"
     ]
    },
    {
     "name": "stdout",
     "output_type": "stream",
     "text": [
      "done!\n",
      "832 /media/dirceusilva/EAAC-94C8/BasesDados/GenerosMusicais/FonogramasPorGeneroMusical/Piano Tenso/PON_TEN_PianoTenso18-DF.mp3\n"
     ]
    },
    {
     "name": "stderr",
     "output_type": "stream",
     "text": [
      "/home/dirceusilva/.pyenv/versions/3.7.8/envs/article/lib/python3.7/site-packages/deepdish/io/hdf5io.py:251: FutureWarning: The Panel class is removed from pandas. Accessing it from the top-level namespace will also be removed in the next version\n",
      "  elif _pandas and isinstance(level, (pd.DataFrame, pd.Series, pd.Panel)):\n"
     ]
    },
    {
     "name": "stdout",
     "output_type": "stream",
     "text": [
      "Computing spectrogram (w/ librosa) and tags (w/ tensorflow).. "
     ]
    },
    {
     "name": "stderr",
     "output_type": "stream",
     "text": [
      "/home/dirceusilva/.pyenv/versions/3.7.8/envs/article/lib/python3.7/site-packages/librosa/core/audio.py:161: UserWarning: PySoundFile failed. Trying audioread instead.\n",
      "  warnings.warn('PySoundFile failed. Trying audioread instead.')\n"
     ]
    },
    {
     "name": "stdout",
     "output_type": "stream",
     "text": [
      "done!\n",
      "833 /media/dirceusilva/EAAC-94C8/BasesDados/GenerosMusicais/FonogramasPorGeneroMusical/Piano Tenso/PON_TEN_PianoTenso19-DF.mp3\n"
     ]
    },
    {
     "name": "stderr",
     "output_type": "stream",
     "text": [
      "/home/dirceusilva/.pyenv/versions/3.7.8/envs/article/lib/python3.7/site-packages/deepdish/io/hdf5io.py:251: FutureWarning: The Panel class is removed from pandas. Accessing it from the top-level namespace will also be removed in the next version\n",
      "  elif _pandas and isinstance(level, (pd.DataFrame, pd.Series, pd.Panel)):\n"
     ]
    },
    {
     "name": "stdout",
     "output_type": "stream",
     "text": [
      "Computing spectrogram (w/ librosa) and tags (w/ tensorflow).. "
     ]
    },
    {
     "name": "stderr",
     "output_type": "stream",
     "text": [
      "/home/dirceusilva/.pyenv/versions/3.7.8/envs/article/lib/python3.7/site-packages/librosa/core/audio.py:161: UserWarning: PySoundFile failed. Trying audioread instead.\n",
      "  warnings.warn('PySoundFile failed. Trying audioread instead.')\n"
     ]
    },
    {
     "name": "stdout",
     "output_type": "stream",
     "text": [
      "done!\n",
      "834 /media/dirceusilva/EAAC-94C8/BasesDados/GenerosMusicais/FonogramasPorGeneroMusical/Piano Tenso/PON_TEN_PianoTenso20-DF.mp3\n"
     ]
    },
    {
     "name": "stderr",
     "output_type": "stream",
     "text": [
      "/home/dirceusilva/.pyenv/versions/3.7.8/envs/article/lib/python3.7/site-packages/deepdish/io/hdf5io.py:251: FutureWarning: The Panel class is removed from pandas. Accessing it from the top-level namespace will also be removed in the next version\n",
      "  elif _pandas and isinstance(level, (pd.DataFrame, pd.Series, pd.Panel)):\n"
     ]
    },
    {
     "name": "stdout",
     "output_type": "stream",
     "text": [
      "Computing spectrogram (w/ librosa) and tags (w/ tensorflow).. "
     ]
    },
    {
     "name": "stderr",
     "output_type": "stream",
     "text": [
      "/home/dirceusilva/.pyenv/versions/3.7.8/envs/article/lib/python3.7/site-packages/librosa/core/audio.py:161: UserWarning: PySoundFile failed. Trying audioread instead.\n",
      "  warnings.warn('PySoundFile failed. Trying audioread instead.')\n"
     ]
    },
    {
     "name": "stdout",
     "output_type": "stream",
     "text": [
      "done!\n",
      "835 /media/dirceusilva/EAAC-94C8/BasesDados/GenerosMusicais/FonogramasPorGeneroMusical/Piano Tenso/PON_TEN_PianoTenso21-DF.mp3\n"
     ]
    },
    {
     "name": "stderr",
     "output_type": "stream",
     "text": [
      "/home/dirceusilva/.pyenv/versions/3.7.8/envs/article/lib/python3.7/site-packages/deepdish/io/hdf5io.py:251: FutureWarning: The Panel class is removed from pandas. Accessing it from the top-level namespace will also be removed in the next version\n",
      "  elif _pandas and isinstance(level, (pd.DataFrame, pd.Series, pd.Panel)):\n"
     ]
    },
    {
     "name": "stdout",
     "output_type": "stream",
     "text": [
      "Computing spectrogram (w/ librosa) and tags (w/ tensorflow).. "
     ]
    },
    {
     "name": "stderr",
     "output_type": "stream",
     "text": [
      "/home/dirceusilva/.pyenv/versions/3.7.8/envs/article/lib/python3.7/site-packages/librosa/core/audio.py:161: UserWarning: PySoundFile failed. Trying audioread instead.\n",
      "  warnings.warn('PySoundFile failed. Trying audioread instead.')\n"
     ]
    },
    {
     "name": "stdout",
     "output_type": "stream",
     "text": [
      "done!\n",
      "836 /media/dirceusilva/EAAC-94C8/BasesDados/GenerosMusicais/FonogramasPorGeneroMusical/Piano Tenso/PON_TEN_PianoTenso22-DF.mp3\n"
     ]
    },
    {
     "name": "stderr",
     "output_type": "stream",
     "text": [
      "/home/dirceusilva/.pyenv/versions/3.7.8/envs/article/lib/python3.7/site-packages/deepdish/io/hdf5io.py:251: FutureWarning: The Panel class is removed from pandas. Accessing it from the top-level namespace will also be removed in the next version\n",
      "  elif _pandas and isinstance(level, (pd.DataFrame, pd.Series, pd.Panel)):\n"
     ]
    },
    {
     "name": "stdout",
     "output_type": "stream",
     "text": [
      "Computing spectrogram (w/ librosa) and tags (w/ tensorflow).. "
     ]
    },
    {
     "name": "stderr",
     "output_type": "stream",
     "text": [
      "/home/dirceusilva/.pyenv/versions/3.7.8/envs/article/lib/python3.7/site-packages/librosa/core/audio.py:161: UserWarning: PySoundFile failed. Trying audioread instead.\n",
      "  warnings.warn('PySoundFile failed. Trying audioread instead.')\n"
     ]
    },
    {
     "name": "stdout",
     "output_type": "stream",
     "text": [
      "done!\n",
      "837 /media/dirceusilva/EAAC-94C8/BasesDados/GenerosMusicais/FonogramasPorGeneroMusical/Piano Tenso/PON_TEN_PianoTenso23-DF.mp3\n"
     ]
    },
    {
     "name": "stderr",
     "output_type": "stream",
     "text": [
      "/home/dirceusilva/.pyenv/versions/3.7.8/envs/article/lib/python3.7/site-packages/deepdish/io/hdf5io.py:251: FutureWarning: The Panel class is removed from pandas. Accessing it from the top-level namespace will also be removed in the next version\n",
      "  elif _pandas and isinstance(level, (pd.DataFrame, pd.Series, pd.Panel)):\n"
     ]
    },
    {
     "name": "stdout",
     "output_type": "stream",
     "text": [
      "Computing spectrogram (w/ librosa) and tags (w/ tensorflow).. "
     ]
    },
    {
     "name": "stderr",
     "output_type": "stream",
     "text": [
      "/home/dirceusilva/.pyenv/versions/3.7.8/envs/article/lib/python3.7/site-packages/librosa/core/audio.py:161: UserWarning: PySoundFile failed. Trying audioread instead.\n",
      "  warnings.warn('PySoundFile failed. Trying audioread instead.')\n"
     ]
    },
    {
     "name": "stdout",
     "output_type": "stream",
     "text": [
      "done!\n",
      "838 /media/dirceusilva/EAAC-94C8/BasesDados/GenerosMusicais/FonogramasPorGeneroMusical/Piano Tenso/PON_TEN_PianoTenso24-DF.mp3\n"
     ]
    },
    {
     "name": "stderr",
     "output_type": "stream",
     "text": [
      "/home/dirceusilva/.pyenv/versions/3.7.8/envs/article/lib/python3.7/site-packages/deepdish/io/hdf5io.py:251: FutureWarning: The Panel class is removed from pandas. Accessing it from the top-level namespace will also be removed in the next version\n",
      "  elif _pandas and isinstance(level, (pd.DataFrame, pd.Series, pd.Panel)):\n"
     ]
    },
    {
     "name": "stdout",
     "output_type": "stream",
     "text": [
      "Computing spectrogram (w/ librosa) and tags (w/ tensorflow).. "
     ]
    },
    {
     "name": "stderr",
     "output_type": "stream",
     "text": [
      "/home/dirceusilva/.pyenv/versions/3.7.8/envs/article/lib/python3.7/site-packages/librosa/core/audio.py:161: UserWarning: PySoundFile failed. Trying audioread instead.\n",
      "  warnings.warn('PySoundFile failed. Trying audioread instead.')\n"
     ]
    },
    {
     "name": "stdout",
     "output_type": "stream",
     "text": [
      "done!\n",
      "839 /media/dirceusilva/EAAC-94C8/BasesDados/GenerosMusicais/FonogramasPorGeneroMusical/Piano Tenso/TEN_Piano Tenso-DF.mp3\n"
     ]
    },
    {
     "name": "stderr",
     "output_type": "stream",
     "text": [
      "/home/dirceusilva/.pyenv/versions/3.7.8/envs/article/lib/python3.7/site-packages/deepdish/io/hdf5io.py:251: FutureWarning: The Panel class is removed from pandas. Accessing it from the top-level namespace will also be removed in the next version\n",
      "  elif _pandas and isinstance(level, (pd.DataFrame, pd.Series, pd.Panel)):\n"
     ]
    },
    {
     "name": "stdout",
     "output_type": "stream",
     "text": [
      "Computing spectrogram (w/ librosa) and tags (w/ tensorflow).. "
     ]
    },
    {
     "name": "stderr",
     "output_type": "stream",
     "text": [
      "/home/dirceusilva/.pyenv/versions/3.7.8/envs/article/lib/python3.7/site-packages/librosa/core/audio.py:161: UserWarning: PySoundFile failed. Trying audioread instead.\n",
      "  warnings.warn('PySoundFile failed. Trying audioread instead.')\n"
     ]
    },
    {
     "name": "stdout",
     "output_type": "stream",
     "text": [
      "done!\n"
     ]
    },
    {
     "name": "stderr",
     "output_type": "stream",
     "text": [
      "/home/dirceusilva/.pyenv/versions/3.7.8/envs/article/lib/python3.7/site-packages/deepdish/io/hdf5io.py:251: FutureWarning: The Panel class is removed from pandas. Accessing it from the top-level namespace will also be removed in the next version\n",
      "  elif _pandas and isinstance(level, (pd.DataFrame, pd.Series, pd.Panel)):\n"
     ]
    }
   ],
   "source": [
    "fon_by_genres = {}\n",
    "\n",
    "for i,filename in enumerate(files):\n",
    "    print(i,filename)\n",
    "    taggram, tags, features = extractor(filename, model=model_type, extract_features=True)\n",
    "    tags_likelihood_mean = np.mean(taggram, axis=0)\n",
    "        \n",
    "    #path = filename.split(os.path.sep)\n",
    "    file = os.path.splitext(os.path.basename(filename))[0]\n",
    "    #genre = path[-2]\n",
    "    \n",
    "    filepath = os.path.join(dir_out_results, file + '.h5')\n",
    "    \n",
    "    #if not genre in fon_by_genres:\n",
    "    #    fon_by_genres[genre] = []\n",
    "    \n",
    "    results = {}\n",
    "    results['filename'] = filename\n",
    "    results['taggram'] = taggram\n",
    "    results['likelihood'] = tags_likelihood_mean\n",
    "    results['tags'] = tags\n",
    "    results['features'] = features\n",
    "        \n",
    "    #fon_by_genres[genre].append(results)\n",
    "    \n",
    "    dd.io.save(filepath,results)"
   ]
  },
  {
   "cell_type": "code",
   "execution_count": 15,
   "metadata": {
    "scrolled": true
   },
   "outputs": [
    {
     "name": "stdout",
     "output_type": "stream",
     "text": [
      "/mnt/HD2T/Testes/coversbr/MTT_musicnn/TEN_Piano Tenso-DF.h5\n",
      "/mnt/HD2T/Testes/coversbr/MTT_musicnn/PON_TEN_PianoTenso24-DF.h5\n",
      "/mnt/HD2T/Testes/coversbr/MTT_musicnn/PON_TEN_PianoTenso23-DF.h5\n",
      "/mnt/HD2T/Testes/coversbr/MTT_musicnn/PON_TEN_PianoTenso22-DF.h5\n",
      "/mnt/HD2T/Testes/coversbr/MTT_musicnn/PON_TEN_PianoTenso21-DF.h5\n",
      "/mnt/HD2T/Testes/coversbr/MTT_musicnn/PON_TEN_PianoTenso20-DF.h5\n",
      "/mnt/HD2T/Testes/coversbr/MTT_musicnn/PON_TEN_PianoTenso19-DF.h5\n",
      "/mnt/HD2T/Testes/coversbr/MTT_musicnn/PON_TEN_PianoTenso18-DF.h5\n",
      "/mnt/HD2T/Testes/coversbr/MTT_musicnn/PON_TEN_PianoTenso17-DF.h5\n",
      "/mnt/HD2T/Testes/coversbr/MTT_musicnn/PON_TEN_PianoTenso16-DF.h5\n",
      "/mnt/HD2T/Testes/coversbr/MTT_musicnn/PON_TEN_PianoTenso15-DF.h5\n",
      "/mnt/HD2T/Testes/coversbr/MTT_musicnn/PON_TEN_PianoTenso14-DF.h5\n",
      "/mnt/HD2T/Testes/coversbr/MTT_musicnn/PON_TEN_PianoTenso13-DF.h5\n",
      "/mnt/HD2T/Testes/coversbr/MTT_musicnn/PON_TEN_PianoTenso12-DF.h5\n",
      "/mnt/HD2T/Testes/coversbr/MTT_musicnn/PON_TEN_PianoTenso11-DF.h5\n",
      "/mnt/HD2T/Testes/coversbr/MTT_musicnn/PON_TEN_PianoTenso10-DF.h5\n",
      "/mnt/HD2T/Testes/coversbr/MTT_musicnn/PON_TEN_PianoTenso09-DF.h5\n",
      "/mnt/HD2T/Testes/coversbr/MTT_musicnn/PON_TEN_PianoTenso08-DF.h5\n",
      "/mnt/HD2T/Testes/coversbr/MTT_musicnn/PON_TEN_PianoTenso07-DF.h5\n",
      "/mnt/HD2T/Testes/coversbr/MTT_musicnn/PON_TEN_PianoTenso06-DF.h5\n",
      "/mnt/HD2T/Testes/coversbr/MTT_musicnn/PON_TEN_PianoTenso05-DF.h5\n",
      "/mnt/HD2T/Testes/coversbr/MTT_musicnn/PON_TEN_PianoTenso04-DF.h5\n",
      "/mnt/HD2T/Testes/coversbr/MTT_musicnn/PON_TEN_PianoTenso03-DF.h5\n",
      "/mnt/HD2T/Testes/coversbr/MTT_musicnn/PON_TEN_PianoTenso02-DF.h5\n",
      "/mnt/HD2T/Testes/coversbr/MTT_musicnn/PON_TEN_PianoTenso01-DF.h5\n",
      "/mnt/HD2T/Testes/coversbr/MTT_musicnn/10 Beat It.h5\n",
      "/mnt/HD2T/Testes/coversbr/MTT_musicnn/Wifey - Next.h5\n",
      "/mnt/HD2T/Testes/coversbr/MTT_musicnn/Sunshine anderson - heard it all before (2).h5\n",
      "/mnt/HD2T/Testes/coversbr/MTT_musicnn/keithsweatbarristeredit.h5\n",
      "/mnt/HD2T/Testes/coversbr/MTT_musicnn/Just Like That - Zhane.h5\n",
      "/mnt/HD2T/Testes/coversbr/MTT_musicnn/Blu Cantrell- Breathe Feat Sean Paul (Alex D Intro).h5\n",
      "/mnt/HD2T/Testes/coversbr/MTT_musicnn/09-Lion Man.h5\n",
      "/mnt/HD2T/Testes/coversbr/MTT_musicnn/04-Mario¦é.h5\n",
      "/mnt/HD2T/Testes/coversbr/MTT_musicnn/03 - MV BIll - Só Deus pode me julgar.h5\n",
      "/mnt/HD2T/Testes/coversbr/MTT_musicnn/02-Subirusdoistiozin.h5\n",
      "/mnt/HD2T/Testes/coversbr/MTT_musicnn/02 - MV Bill - Emiví.h5\n",
      "/mnt/HD2T/Testes/coversbr/MTT_musicnn/use somebody.h5\n",
      "/mnt/HD2T/Testes/coversbr/MTT_musicnn/nirvana - territorial pissings.h5\n",
      "/mnt/HD2T/Testes/coversbr/MTT_musicnn/nirvana - in bloom.h5\n",
      "/mnt/HD2T/Testes/coversbr/MTT_musicnn/nirvana - drain you.h5\n",
      "/mnt/HD2T/Testes/coversbr/MTT_musicnn/nirvana - 15 - aneurysm.h5\n",
      "/mnt/HD2T/Testes/coversbr/MTT_musicnn/02 crawl.h5\n",
      "/mnt/HD2T/Testes/coversbr/MTT_musicnn/01.Kings And Queens.h5\n",
      "/mnt/HD2T/Testes/coversbr/MTT_musicnn/[Ray Guell] You Took My Heart.h5\n",
      "/mnt/HD2T/Testes/coversbr/MTT_musicnn/Stevie B.- In my Eyes (Nitster Remix).h5\n",
      "/mnt/HD2T/Testes/coversbr/MTT_musicnn/Shavonne   So tell me, tell me.h5\n",
      "/mnt/HD2T/Testes/coversbr/MTT_musicnn/Nyasia - Now And Forever Version RMX By Ratolino.h5\n",
      "/mnt/HD2T/Testes/coversbr/MTT_musicnn/I Wanna Be The One (JCDedit).h5\n",
      "/mnt/HD2T/Testes/coversbr/MTT_musicnn/Dina - When Your 'X' Want You Back.h5\n",
      "/mnt/HD2T/Testes/coversbr/MTT_musicnn/Michael Jackson-Don't Stop 'Til You Get Enough - 1060240.h5\n",
      "/mnt/HD2T/Testes/coversbr/MTT_musicnn/Backstreet Boys-As Long as You Love Me.h5\n",
      "/mnt/HD2T/Testes/coversbr/MTT_musicnn/Marcelo D2-samba de primeira - marcelo d2.h5\n",
      "/mnt/HD2T/Testes/coversbr/MTT_musicnn/17 - Marcelo D2-Só marcando meu nome.h5\n",
      "/mnt/HD2T/Testes/coversbr/MTT_musicnn/João Nogueira-Poder Da Criação.h5\n",
      "/mnt/HD2T/Testes/coversbr/MTT_musicnn/Dominguinhos do Estácio-liberdade, liberdade, abre as asas sobre nós - dominguinhos do estácio.h5\n",
      "/mnt/HD2T/Testes/coversbr/MTT_musicnn/Chico Buarque de Holanda-Vai Passar.h5\n",
      "/mnt/HD2T/Testes/coversbr/MTT_musicnn/17 aquele abraço - tim maia.h5\n",
      "/mnt/HD2T/Testes/coversbr/MTT_musicnn/12 - Apesar de Você - Chico Buarque, MPB-4, Quarteto em Cy.h5\n",
      "/mnt/HD2T/Testes/coversbr/MTT_musicnn/11 - Na cadencia do samba - Roberto Lazzarini.h5\n",
      "/mnt/HD2T/Testes/coversbr/MTT_musicnn/10 Meu Nome É Favela.h5\n",
      "/mnt/HD2T/Testes/coversbr/MTT_musicnn/05 tristeza - diogo nogueira.h5\n",
      "/mnt/HD2T/Testes/coversbr/MTT_musicnn/04 Sambas.h5\n",
      "/mnt/HD2T/Testes/coversbr/MTT_musicnn/04 favela fashion week - leandro sapucahy.h5\n",
      "/mnt/HD2T/Testes/coversbr/MTT_musicnn/03 Samba Do Approach.h5\n",
      "/mnt/HD2T/Testes/coversbr/MTT_musicnn/03 Frevos.h5\n",
      "/mnt/HD2T/Testes/coversbr/MTT_musicnn/02 marchas-rancho.h5\n",
      "/mnt/HD2T/Testes/coversbr/MTT_musicnn/02 Faixa 2.h5\n",
      "/mnt/HD2T/Testes/coversbr/MTT_musicnn/01 Marchas.h5\n",
      "/mnt/HD2T/Testes/coversbr/MTT_musicnn/Titãs-Sonífera Ilha + Ska.h5\n",
      "/mnt/HD2T/Testes/coversbr/MTT_musicnn/Pedra Flor E Espinho.h5\n",
      "/mnt/HD2T/Testes/coversbr/MTT_musicnn/Lenny Kravitz-Fly Away.h5\n",
      "/mnt/HD2T/Testes/coversbr/MTT_musicnn/Blue Sky Mine - GRA 63927268.h5\n",
      "/mnt/HD2T/Testes/coversbr/MTT_musicnn/11 Atordoado.h5\n",
      "/mnt/HD2T/Testes/coversbr/MTT_musicnn/09 Faixa 9.h5\n",
      "/mnt/HD2T/Testes/coversbr/MTT_musicnn/04 I BELIEVE IN A THING CALLED LOVE.h5\n",
      "/mnt/HD2T/Testes/coversbr/MTT_musicnn/04 - Cálice - Indireto e Pitty.h5\n",
      "/mnt/HD2T/Testes/coversbr/MTT_musicnn/01 Faixa 1.h5\n",
      "/mnt/HD2T/Testes/coversbr/MTT_musicnn/Diana King-I Say a Little Prayer.h5\n",
      "/mnt/HD2T/Testes/coversbr/MTT_musicnn/16 Da Cor Do Reggae.h5\n",
      "/mnt/HD2T/Testes/coversbr/MTT_musicnn/05 Pras Bandas de la.h5\n",
      "/mnt/HD2T/Testes/coversbr/MTT_musicnn/Sorriso Maroto-Vai e chora.h5\n",
      "/mnt/HD2T/Testes/coversbr/MTT_musicnn/Sorriso Maroto-Se eu te pego, te envergo.h5\n",
      "/mnt/HD2T/Testes/coversbr/MTT_musicnn/SORRISO MAROTO-ASSIM VOCÊ MATA O PAPAI (2).h5\n",
      "/mnt/HD2T/Testes/coversbr/MTT_musicnn/Grupo Só no Sapatinho-SNS (Só no Sapatinho).h5\n",
      "/mnt/HD2T/Testes/coversbr/MTT_musicnn/BRANCA DI NEVE-NÊGO DITO.h5\n",
      "/mnt/HD2T/Testes/coversbr/MTT_musicnn/Belo-Tua boca.h5\n",
      "/mnt/HD2T/Testes/coversbr/MTT_musicnn/Belo-Reinventar.h5\n",
      "/mnt/HD2T/Testes/coversbr/MTT_musicnn/BELO-PURA ADRENALINA.h5\n",
      "/mnt/HD2T/Testes/coversbr/MTT_musicnn/Belo - Sonho bom.h5\n",
      "/mnt/HD2T/Testes/coversbr/MTT_musicnn/Belo - Nuvem_Derê.h5\n",
      "/mnt/HD2T/Testes/coversbr/MTT_musicnn/Alexandre Pires-Maluca Pirada.h5\n",
      "/mnt/HD2T/Testes/coversbr/MTT_musicnn/15 é nóis fazer parapapá - michel teló e sorriso maroto.h5\n",
      "/mnt/HD2T/Testes/coversbr/MTT_musicnn/12 - Raça Negra-POT-POURRI- JEITO DE SER - GOSTAVA TANTO DE VOCE.h5\n",
      "/mnt/HD2T/Testes/coversbr/MTT_musicnn/10 - Raça Negra-JEITO FELINO.h5\n",
      "/mnt/HD2T/Testes/coversbr/MTT_musicnn/09 Mamão Com Mel.h5\n",
      "/mnt/HD2T/Testes/coversbr/MTT_musicnn/07 - Raça Negra-CHEIA DE MANIAS.h5\n",
      "/mnt/HD2T/Testes/coversbr/MTT_musicnn/04 - Raça Negra-POT-POURRI- CIGANA - ESTOU MAL.h5\n",
      "/mnt/HD2T/Testes/coversbr/MTT_musicnn/02 - Raça Negra-MARAVILHA.h5\n",
      "/mnt/HD2T/Testes/coversbr/MTT_musicnn/Zizi Possi-A Paz.h5\n",
      "/mnt/HD2T/Testes/coversbr/MTT_musicnn/Jorge Ben-Que Maravilha.h5\n",
      "/mnt/HD2T/Testes/coversbr/MTT_musicnn/Cazuza-Faz Parte do Meu Show.h5\n",
      "/mnt/HD2T/Testes/coversbr/MTT_musicnn/carrossel-fico assim sem você.h5\n",
      "/mnt/HD2T/Testes/coversbr/MTT_musicnn/10 tiranizar - caetano veloso.h5\n",
      "/mnt/HD2T/Testes/coversbr/MTT_musicnn/07 - Este Seu Olhar - Nara Leão.h5\n",
      "/mnt/HD2T/Testes/coversbr/MTT_musicnn/04-Samba Do Avião-Milton Nascimento.h5\n",
      "/mnt/HD2T/Testes/coversbr/MTT_musicnn/03 me deixas louca - maria rita.h5\n",
      "/mnt/HD2T/Testes/coversbr/MTT_musicnn/01 - Roda Viva - MPB-4.h5\n",
      "/mnt/HD2T/Testes/coversbr/MTT_musicnn/Show das Poderosas - Anitta.h5\n",
      "/mnt/HD2T/Testes/coversbr/MTT_musicnn/Se Joga - Naldo.h5\n",
      "/mnt/HD2T/Testes/coversbr/MTT_musicnn/Pra Me Provocar - MC Koringa.h5\n",
      "/mnt/HD2T/Testes/coversbr/MTT_musicnn/Passinho do Volante - MC Federado e os Lelek's.h5\n",
      "/mnt/HD2T/Testes/coversbr/MTT_musicnn/Menina Má - Anitta.h5\n",
      "/mnt/HD2T/Testes/coversbr/MTT_musicnn/Fica Só Olhando - Anitta.h5\n",
      "/mnt/HD2T/Testes/coversbr/MTT_musicnn/Ela é Top - MC Bola.h5\n",
      "/mnt/HD2T/Testes/coversbr/MTT_musicnn/Dança Sensual - MC Koringa.h5\n",
      "/mnt/HD2T/Testes/coversbr/MTT_musicnn/981122.h5\n",
      "/mnt/HD2T/Testes/coversbr/MTT_musicnn/3715206.h5\n",
      "/mnt/HD2T/Testes/coversbr/MTT_musicnn/2741153.h5\n",
      "/mnt/HD2T/Testes/coversbr/MTT_musicnn/2045712.h5\n",
      "/mnt/HD2T/Testes/coversbr/MTT_musicnn/1759229.h5\n",
      "/mnt/HD2T/Testes/coversbr/MTT_musicnn/1703635.h5\n",
      "/mnt/HD2T/Testes/coversbr/MTT_musicnn/1610686.h5\n"
     ]
    },
    {
     "name": "stdout",
     "output_type": "stream",
     "text": [
      "/mnt/HD2T/Testes/coversbr/MTT_musicnn/1540133.h5\n",
      "/mnt/HD2T/Testes/coversbr/MTT_musicnn/1519658.h5\n",
      "/mnt/HD2T/Testes/coversbr/MTT_musicnn/1491843.h5\n",
      "/mnt/HD2T/Testes/coversbr/MTT_musicnn/1450545.h5\n",
      "/mnt/HD2T/Testes/coversbr/MTT_musicnn/1423800.h5\n",
      "/mnt/HD2T/Testes/coversbr/MTT_musicnn/1337020.h5\n",
      "/mnt/HD2T/Testes/coversbr/MTT_musicnn/1286529.h5\n",
      "/mnt/HD2T/Testes/coversbr/MTT_musicnn/1052455.h5\n",
      "/mnt/HD2T/Testes/coversbr/MTT_musicnn/1002765.h5\n",
      "/mnt/HD2T/Testes/coversbr/MTT_musicnn/5758597.h5\n",
      "/mnt/HD2T/Testes/coversbr/MTT_musicnn/5590409.h5\n",
      "/mnt/HD2T/Testes/coversbr/MTT_musicnn/5590402.h5\n",
      "/mnt/HD2T/Testes/coversbr/MTT_musicnn/531104.h5\n",
      "/mnt/HD2T/Testes/coversbr/MTT_musicnn/3097289.h5\n",
      "/mnt/HD2T/Testes/coversbr/MTT_musicnn/2726357.h5\n",
      "/mnt/HD2T/Testes/coversbr/MTT_musicnn/2726286.h5\n",
      "/mnt/HD2T/Testes/coversbr/MTT_musicnn/2415718.h5\n",
      "/mnt/HD2T/Testes/coversbr/MTT_musicnn/2158296.h5\n",
      "/mnt/HD2T/Testes/coversbr/MTT_musicnn/1741208.h5\n",
      "/mnt/HD2T/Testes/coversbr/MTT_musicnn/1663710.h5\n",
      "/mnt/HD2T/Testes/coversbr/MTT_musicnn/1616330.h5\n",
      "/mnt/HD2T/Testes/coversbr/MTT_musicnn/1432394.h5\n",
      "/mnt/HD2T/Testes/coversbr/MTT_musicnn/1425300.h5\n",
      "/mnt/HD2T/Testes/coversbr/MTT_musicnn/1424700.h5\n",
      "/mnt/HD2T/Testes/coversbr/MTT_musicnn/1387246.h5\n",
      "/mnt/HD2T/Testes/coversbr/MTT_musicnn/1348292.h5\n",
      "/mnt/HD2T/Testes/coversbr/MTT_musicnn/1333965.h5\n",
      "/mnt/HD2T/Testes/coversbr/MTT_musicnn/1304712.h5\n",
      "/mnt/HD2T/Testes/coversbr/MTT_musicnn/1304708.h5\n",
      "/mnt/HD2T/Testes/coversbr/MTT_musicnn/955564.h5\n",
      "/mnt/HD2T/Testes/coversbr/MTT_musicnn/6266311.h5\n",
      "/mnt/HD2T/Testes/coversbr/MTT_musicnn/1761299.h5\n",
      "/mnt/HD2T/Testes/coversbr/MTT_musicnn/1661967.h5\n",
      "/mnt/HD2T/Testes/coversbr/MTT_musicnn/1654533.h5\n",
      "/mnt/HD2T/Testes/coversbr/MTT_musicnn/1610602.h5\n",
      "/mnt/HD2T/Testes/coversbr/MTT_musicnn/1522954.h5\n",
      "/mnt/HD2T/Testes/coversbr/MTT_musicnn/1368694.h5\n",
      "/mnt/HD2T/Testes/coversbr/MTT_musicnn/1368691.h5\n",
      "/mnt/HD2T/Testes/coversbr/MTT_musicnn/1368687.h5\n",
      "/mnt/HD2T/Testes/coversbr/MTT_musicnn/1368673.h5\n",
      "/mnt/HD2T/Testes/coversbr/MTT_musicnn/1240743.h5\n",
      "/mnt/HD2T/Testes/coversbr/MTT_musicnn/1206523.h5\n",
      "/mnt/HD2T/Testes/coversbr/MTT_musicnn/1206501.h5\n",
      "/mnt/HD2T/Testes/coversbr/MTT_musicnn/1206498.h5\n",
      "/mnt/HD2T/Testes/coversbr/MTT_musicnn/1110613.h5\n",
      "/mnt/HD2T/Testes/coversbr/MTT_musicnn/950018.h5\n",
      "/mnt/HD2T/Testes/coversbr/MTT_musicnn/950016.h5\n",
      "/mnt/HD2T/Testes/coversbr/MTT_musicnn/950003.h5\n",
      "/mnt/HD2T/Testes/coversbr/MTT_musicnn/797686.h5\n",
      "/mnt/HD2T/Testes/coversbr/MTT_musicnn/3209855.h5\n",
      "/mnt/HD2T/Testes/coversbr/MTT_musicnn/3097555.h5\n",
      "/mnt/HD2T/Testes/coversbr/MTT_musicnn/2938659.h5\n",
      "/mnt/HD2T/Testes/coversbr/MTT_musicnn/2508386.h5\n",
      "/mnt/HD2T/Testes/coversbr/MTT_musicnn/2451583.h5\n",
      "/mnt/HD2T/Testes/coversbr/MTT_musicnn/2438407.h5\n",
      "/mnt/HD2T/Testes/coversbr/MTT_musicnn/2157225.h5\n",
      "/mnt/HD2T/Testes/coversbr/MTT_musicnn/2138740.h5\n",
      "/mnt/HD2T/Testes/coversbr/MTT_musicnn/1823572.h5\n",
      "/mnt/HD2T/Testes/coversbr/MTT_musicnn/1810919.h5\n",
      "/mnt/HD2T/Testes/coversbr/MTT_musicnn/1801313.h5\n",
      "/mnt/HD2T/Testes/coversbr/MTT_musicnn/1759518.h5\n",
      "/mnt/HD2T/Testes/coversbr/MTT_musicnn/1739263.h5\n",
      "/mnt/HD2T/Testes/coversbr/MTT_musicnn/1595788.h5\n",
      "/mnt/HD2T/Testes/coversbr/MTT_musicnn/1452878.h5\n",
      "/mnt/HD2T/Testes/coversbr/MTT_musicnn/1177663.h5\n",
      "/mnt/HD2T/Testes/coversbr/MTT_musicnn/952611.h5\n",
      "/mnt/HD2T/Testes/coversbr/MTT_musicnn/9522614.h5\n",
      "/mnt/HD2T/Testes/coversbr/MTT_musicnn/9492177.h5\n",
      "/mnt/HD2T/Testes/coversbr/MTT_musicnn/35165.h5\n",
      "/mnt/HD2T/Testes/coversbr/MTT_musicnn/3397227.h5\n",
      "/mnt/HD2T/Testes/coversbr/MTT_musicnn/3397224.h5\n",
      "/mnt/HD2T/Testes/coversbr/MTT_musicnn/2580758.h5\n",
      "/mnt/HD2T/Testes/coversbr/MTT_musicnn/2105912.h5\n",
      "/mnt/HD2T/Testes/coversbr/MTT_musicnn/1727378.h5\n",
      "/mnt/HD2T/Testes/coversbr/MTT_musicnn/1700321.h5\n",
      "/mnt/HD2T/Testes/coversbr/MTT_musicnn/1509554.h5\n",
      "/mnt/HD2T/Testes/coversbr/MTT_musicnn/1488550.h5\n",
      "/mnt/HD2T/Testes/coversbr/MTT_musicnn/1451467.h5\n",
      "/mnt/HD2T/Testes/coversbr/MTT_musicnn/1393124.h5\n",
      "/mnt/HD2T/Testes/coversbr/MTT_musicnn/1181102.h5\n",
      "/mnt/HD2T/Testes/coversbr/MTT_musicnn/1065717.h5\n",
      "/mnt/HD2T/Testes/coversbr/MTT_musicnn/1054880.h5\n",
      "/mnt/HD2T/Testes/coversbr/MTT_musicnn/10486538.h5\n",
      "/mnt/HD2T/Testes/coversbr/MTT_musicnn/1043780.h5\n",
      "/mnt/HD2T/Testes/coversbr/MTT_musicnn/1002085.h5\n",
      "/mnt/HD2T/Testes/coversbr/MTT_musicnn/9955356.h5\n",
      "/mnt/HD2T/Testes/coversbr/MTT_musicnn/54467.h5\n",
      "/mnt/HD2T/Testes/coversbr/MTT_musicnn/537531.h5\n",
      "/mnt/HD2T/Testes/coversbr/MTT_musicnn/4142702.h5\n",
      "/mnt/HD2T/Testes/coversbr/MTT_musicnn/4142697.h5\n",
      "/mnt/HD2T/Testes/coversbr/MTT_musicnn/2933891.h5\n",
      "/mnt/HD2T/Testes/coversbr/MTT_musicnn/2933862.h5\n",
      "/mnt/HD2T/Testes/coversbr/MTT_musicnn/2042646.h5\n",
      "/mnt/HD2T/Testes/coversbr/MTT_musicnn/1717654.h5\n",
      "/mnt/HD2T/Testes/coversbr/MTT_musicnn/1708457.h5\n",
      "/mnt/HD2T/Testes/coversbr/MTT_musicnn/1510806.h5\n",
      "/mnt/HD2T/Testes/coversbr/MTT_musicnn/1325854.h5\n",
      "/mnt/HD2T/Testes/coversbr/MTT_musicnn/1310786.h5\n",
      "/mnt/HD2T/Testes/coversbr/MTT_musicnn/1193224.h5\n",
      "/mnt/HD2T/Testes/coversbr/MTT_musicnn/10401424.h5\n",
      "/mnt/HD2T/Testes/coversbr/MTT_musicnn/1022826.h5\n",
      "/mnt/HD2T/Testes/coversbr/MTT_musicnn/1022824.h5\n",
      "/mnt/HD2T/Testes/coversbr/MTT_musicnn/1022739.h5\n",
      "/mnt/HD2T/Testes/coversbr/MTT_musicnn/1020677.h5\n",
      "/mnt/HD2T/Testes/coversbr/MTT_musicnn/1020586.h5\n",
      "/mnt/HD2T/Testes/coversbr/MTT_musicnn/5732701.h5\n",
      "/mnt/HD2T/Testes/coversbr/MTT_musicnn/5732323.h5\n",
      "/mnt/HD2T/Testes/coversbr/MTT_musicnn/2267532.h5\n",
      "/mnt/HD2T/Testes/coversbr/MTT_musicnn/1717813.h5\n",
      "/mnt/HD2T/Testes/coversbr/MTT_musicnn/1589881.h5\n",
      "/mnt/HD2T/Testes/coversbr/MTT_musicnn/1578226.h5\n",
      "/mnt/HD2T/Testes/coversbr/MTT_musicnn/1555613.h5\n",
      "/mnt/HD2T/Testes/coversbr/MTT_musicnn/1530399.h5\n",
      "/mnt/HD2T/Testes/coversbr/MTT_musicnn/1342823.h5\n",
      "/mnt/HD2T/Testes/coversbr/MTT_musicnn/1342201.h5\n",
      "/mnt/HD2T/Testes/coversbr/MTT_musicnn/1342196.h5\n",
      "/mnt/HD2T/Testes/coversbr/MTT_musicnn/1342193.h5\n",
      "/mnt/HD2T/Testes/coversbr/MTT_musicnn/1342191.h5\n",
      "/mnt/HD2T/Testes/coversbr/MTT_musicnn/1335380.h5\n",
      "/mnt/HD2T/Testes/coversbr/MTT_musicnn/1289199.h5\n",
      "/mnt/HD2T/Testes/coversbr/MTT_musicnn/1289191.h5\n",
      "/mnt/HD2T/Testes/coversbr/MTT_musicnn/1289168.h5\n",
      "/mnt/HD2T/Testes/coversbr/MTT_musicnn/1289165.h5\n",
      "/mnt/HD2T/Testes/coversbr/MTT_musicnn/1052363.h5\n",
      "/mnt/HD2T/Testes/coversbr/MTT_musicnn/1052354.h5\n",
      "/mnt/HD2T/Testes/coversbr/MTT_musicnn/6240786.h5\n",
      "/mnt/HD2T/Testes/coversbr/MTT_musicnn/2941968.h5\n",
      "/mnt/HD2T/Testes/coversbr/MTT_musicnn/2938977.h5\n",
      "/mnt/HD2T/Testes/coversbr/MTT_musicnn/2334332.h5\n",
      "/mnt/HD2T/Testes/coversbr/MTT_musicnn/1829906.h5\n",
      "/mnt/HD2T/Testes/coversbr/MTT_musicnn/1827845.h5\n",
      "/mnt/HD2T/Testes/coversbr/MTT_musicnn/1796951.h5\n",
      "/mnt/HD2T/Testes/coversbr/MTT_musicnn/1762290.h5\n",
      "/mnt/HD2T/Testes/coversbr/MTT_musicnn/1725256.h5\n",
      "/mnt/HD2T/Testes/coversbr/MTT_musicnn/1680477.h5\n",
      "/mnt/HD2T/Testes/coversbr/MTT_musicnn/1624001.h5\n",
      "/mnt/HD2T/Testes/coversbr/MTT_musicnn/1616372.h5\n",
      "/mnt/HD2T/Testes/coversbr/MTT_musicnn/1529638.h5\n",
      "/mnt/HD2T/Testes/coversbr/MTT_musicnn/1529632.h5\n",
      "/mnt/HD2T/Testes/coversbr/MTT_musicnn/1516768.h5\n",
      "/mnt/HD2T/Testes/coversbr/MTT_musicnn/1494880.h5\n",
      "/mnt/HD2T/Testes/coversbr/MTT_musicnn/1386418.h5\n",
      "/mnt/HD2T/Testes/coversbr/MTT_musicnn/1372800.h5\n",
      "/mnt/HD2T/Testes/coversbr/MTT_musicnn/1329077.h5\n",
      "/mnt/HD2T/Testes/coversbr/MTT_musicnn/1252192.h5\n",
      "/mnt/HD2T/Testes/coversbr/MTT_musicnn/11460560.h5\n",
      "/mnt/HD2T/Testes/coversbr/MTT_musicnn/11460522.h5\n",
      "/mnt/HD2T/Testes/coversbr/MTT_musicnn/10871721.h5\n",
      "/mnt/HD2T/Testes/coversbr/MTT_musicnn/10484538.h5\n",
      "/mnt/HD2T/Testes/coversbr/MTT_musicnn/10027666.h5\n",
      "/mnt/HD2T/Testes/coversbr/MTT_musicnn/981676.h5\n",
      "/mnt/HD2T/Testes/coversbr/MTT_musicnn/877358.h5\n",
      "/mnt/HD2T/Testes/coversbr/MTT_musicnn/854584.h5\n",
      "/mnt/HD2T/Testes/coversbr/MTT_musicnn/636490.h5\n",
      "/mnt/HD2T/Testes/coversbr/MTT_musicnn/2938998.h5\n",
      "/mnt/HD2T/Testes/coversbr/MTT_musicnn/2488266.h5\n",
      "/mnt/HD2T/Testes/coversbr/MTT_musicnn/2158680.h5\n",
      "/mnt/HD2T/Testes/coversbr/MTT_musicnn/2057249.h5\n",
      "/mnt/HD2T/Testes/coversbr/MTT_musicnn/1759553.h5\n",
      "/mnt/HD2T/Testes/coversbr/MTT_musicnn/1614685.h5\n",
      "/mnt/HD2T/Testes/coversbr/MTT_musicnn/1581297.h5\n",
      "/mnt/HD2T/Testes/coversbr/MTT_musicnn/1569063.h5\n",
      "/mnt/HD2T/Testes/coversbr/MTT_musicnn/1540531.h5\n",
      "/mnt/HD2T/Testes/coversbr/MTT_musicnn/1382022.h5\n",
      "/mnt/HD2T/Testes/coversbr/MTT_musicnn/1308282.h5\n",
      "/mnt/HD2T/Testes/coversbr/MTT_musicnn/1294653.h5\n",
      "/mnt/HD2T/Testes/coversbr/MTT_musicnn/1204969.h5\n",
      "/mnt/HD2T/Testes/coversbr/MTT_musicnn/1086426.h5\n"
     ]
    },
    {
     "name": "stdout",
     "output_type": "stream",
     "text": [
      "/mnt/HD2T/Testes/coversbr/MTT_musicnn/10748282.h5\n",
      "/mnt/HD2T/Testes/coversbr/MTT_musicnn/1041803.h5\n",
      "/mnt/HD2T/Testes/coversbr/MTT_musicnn/852280.h5\n",
      "/mnt/HD2T/Testes/coversbr/MTT_musicnn/6281901.h5\n",
      "/mnt/HD2T/Testes/coversbr/MTT_musicnn/5762999.h5\n",
      "/mnt/HD2T/Testes/coversbr/MTT_musicnn/3253728.h5\n",
      "/mnt/HD2T/Testes/coversbr/MTT_musicnn/2942483.h5\n",
      "/mnt/HD2T/Testes/coversbr/MTT_musicnn/2942480.h5\n",
      "/mnt/HD2T/Testes/coversbr/MTT_musicnn/1831004.h5\n",
      "/mnt/HD2T/Testes/coversbr/MTT_musicnn/1831003.h5\n",
      "/mnt/HD2T/Testes/coversbr/MTT_musicnn/1830999.h5\n",
      "/mnt/HD2T/Testes/coversbr/MTT_musicnn/1830998.h5\n",
      "/mnt/HD2T/Testes/coversbr/MTT_musicnn/1754968.h5\n",
      "/mnt/HD2T/Testes/coversbr/MTT_musicnn/1754963.h5\n",
      "/mnt/HD2T/Testes/coversbr/MTT_musicnn/1578249.h5\n",
      "/mnt/HD2T/Testes/coversbr/MTT_musicnn/1566141.h5\n",
      "/mnt/HD2T/Testes/coversbr/MTT_musicnn/1536205.h5\n",
      "/mnt/HD2T/Testes/coversbr/MTT_musicnn/1464061.h5\n",
      "/mnt/HD2T/Testes/coversbr/MTT_musicnn/1399240.h5\n",
      "/mnt/HD2T/Testes/coversbr/MTT_musicnn/1366954.h5\n",
      "/mnt/HD2T/Testes/coversbr/MTT_musicnn/1184169.h5\n",
      "/mnt/HD2T/Testes/coversbr/MTT_musicnn/1075756.h5\n",
      "/mnt/HD2T/Testes/coversbr/MTT_musicnn/935130.h5\n",
      "/mnt/HD2T/Testes/coversbr/MTT_musicnn/920703.h5\n",
      "/mnt/HD2T/Testes/coversbr/MTT_musicnn/912591.h5\n",
      "/mnt/HD2T/Testes/coversbr/MTT_musicnn/873281.h5\n",
      "/mnt/HD2T/Testes/coversbr/MTT_musicnn/637959.h5\n",
      "/mnt/HD2T/Testes/coversbr/MTT_musicnn/5826754.h5\n",
      "/mnt/HD2T/Testes/coversbr/MTT_musicnn/3281642.h5\n",
      "/mnt/HD2T/Testes/coversbr/MTT_musicnn/3281091.h5\n",
      "/mnt/HD2T/Testes/coversbr/MTT_musicnn/3281089.h5\n",
      "/mnt/HD2T/Testes/coversbr/MTT_musicnn/3281077.h5\n",
      "/mnt/HD2T/Testes/coversbr/MTT_musicnn/1503681.h5\n",
      "/mnt/HD2T/Testes/coversbr/MTT_musicnn/1464071.h5\n",
      "/mnt/HD2T/Testes/coversbr/MTT_musicnn/1390108.h5\n",
      "/mnt/HD2T/Testes/coversbr/MTT_musicnn/1390030.h5\n",
      "/mnt/HD2T/Testes/coversbr/MTT_musicnn/1258375.h5\n",
      "/mnt/HD2T/Testes/coversbr/MTT_musicnn/1198533.h5\n",
      "/mnt/HD2T/Testes/coversbr/MTT_musicnn/1129698.h5\n",
      "/mnt/HD2T/Testes/coversbr/MTT_musicnn/1090186.h5\n",
      "/mnt/HD2T/Testes/coversbr/MTT_musicnn/1087099.h5\n",
      "/mnt/HD2T/Testes/coversbr/MTT_musicnn/1057383.h5\n",
      "/mnt/HD2T/Testes/coversbr/MTT_musicnn/984836.h5\n",
      "/mnt/HD2T/Testes/coversbr/MTT_musicnn/817614.h5\n",
      "/mnt/HD2T/Testes/coversbr/MTT_musicnn/3253994.h5\n",
      "/mnt/HD2T/Testes/coversbr/MTT_musicnn/3253992.h5\n",
      "/mnt/HD2T/Testes/coversbr/MTT_musicnn/1876032.h5\n",
      "/mnt/HD2T/Testes/coversbr/MTT_musicnn/1874839.h5\n",
      "/mnt/HD2T/Testes/coversbr/MTT_musicnn/1559534.h5\n",
      "/mnt/HD2T/Testes/coversbr/MTT_musicnn/1504158.h5\n",
      "/mnt/HD2T/Testes/coversbr/MTT_musicnn/1395198.h5\n",
      "/mnt/HD2T/Testes/coversbr/MTT_musicnn/1382110.h5\n",
      "/mnt/HD2T/Testes/coversbr/MTT_musicnn/1319121.h5\n",
      "/mnt/HD2T/Testes/coversbr/MTT_musicnn/1250294.h5\n",
      "/mnt/HD2T/Testes/coversbr/MTT_musicnn/1216065.h5\n",
      "/mnt/HD2T/Testes/coversbr/MTT_musicnn/1202591.h5\n",
      "/mnt/HD2T/Testes/coversbr/MTT_musicnn/1184623.h5\n",
      "/mnt/HD2T/Testes/coversbr/MTT_musicnn/1118862.h5\n",
      "/mnt/HD2T/Testes/coversbr/MTT_musicnn/1102099.h5\n",
      "/mnt/HD2T/Testes/coversbr/MTT_musicnn/1101178.h5\n",
      "/mnt/HD2T/Testes/coversbr/MTT_musicnn/1072365.h5\n",
      "/mnt/HD2T/Testes/coversbr/MTT_musicnn/1018606.h5\n",
      "/mnt/HD2T/Testes/coversbr/MTT_musicnn/6077415.h5\n",
      "/mnt/HD2T/Testes/coversbr/MTT_musicnn/5159209.h5\n",
      "/mnt/HD2T/Testes/coversbr/MTT_musicnn/3285787.h5\n",
      "/mnt/HD2T/Testes/coversbr/MTT_musicnn/3157696.h5\n",
      "/mnt/HD2T/Testes/coversbr/MTT_musicnn/2952425.h5\n",
      "/mnt/HD2T/Testes/coversbr/MTT_musicnn/2505751.h5\n",
      "/mnt/HD2T/Testes/coversbr/MTT_musicnn/2265980.h5\n",
      "/mnt/HD2T/Testes/coversbr/MTT_musicnn/1753467.h5\n",
      "/mnt/HD2T/Testes/coversbr/MTT_musicnn/1748831.h5\n",
      "/mnt/HD2T/Testes/coversbr/MTT_musicnn/1748828.h5\n",
      "/mnt/HD2T/Testes/coversbr/MTT_musicnn/1680476.h5\n",
      "/mnt/HD2T/Testes/coversbr/MTT_musicnn/1559306.h5\n",
      "/mnt/HD2T/Testes/coversbr/MTT_musicnn/1518283.h5\n",
      "/mnt/HD2T/Testes/coversbr/MTT_musicnn/1475099.h5\n",
      "/mnt/HD2T/Testes/coversbr/MTT_musicnn/1427942.h5\n",
      "/mnt/HD2T/Testes/coversbr/MTT_musicnn/1387234.h5\n",
      "/mnt/HD2T/Testes/coversbr/MTT_musicnn/1275826.h5\n",
      "/mnt/HD2T/Testes/coversbr/MTT_musicnn/1177668.h5\n",
      "/mnt/HD2T/Testes/coversbr/MTT_musicnn/1105466.h5\n",
      "/mnt/HD2T/Testes/coversbr/MTT_musicnn/1088694.h5\n",
      "/mnt/HD2T/Testes/coversbr/MTT_musicnn/9678173.h5\n",
      "/mnt/HD2T/Testes/coversbr/MTT_musicnn/9678169.h5\n",
      "/mnt/HD2T/Testes/coversbr/MTT_musicnn/9678168.h5\n",
      "/mnt/HD2T/Testes/coversbr/MTT_musicnn/9678167.h5\n",
      "/mnt/HD2T/Testes/coversbr/MTT_musicnn/5765015.h5\n",
      "/mnt/HD2T/Testes/coversbr/MTT_musicnn/3284500.h5\n",
      "/mnt/HD2T/Testes/coversbr/MTT_musicnn/3144783.h5\n",
      "/mnt/HD2T/Testes/coversbr/MTT_musicnn/2636798.h5\n",
      "/mnt/HD2T/Testes/coversbr/MTT_musicnn/2459940.h5\n",
      "/mnt/HD2T/Testes/coversbr/MTT_musicnn/2261341.h5\n",
      "/mnt/HD2T/Testes/coversbr/MTT_musicnn/2136251.h5\n",
      "/mnt/HD2T/Testes/coversbr/MTT_musicnn/2135907.h5\n",
      "/mnt/HD2T/Testes/coversbr/MTT_musicnn/1650888.h5\n",
      "/mnt/HD2T/Testes/coversbr/MTT_musicnn/1559524.h5\n",
      "/mnt/HD2T/Testes/coversbr/MTT_musicnn/1559506.h5\n",
      "/mnt/HD2T/Testes/coversbr/MTT_musicnn/1548034.h5\n",
      "/mnt/HD2T/Testes/coversbr/MTT_musicnn/11735015.h5\n",
      "/mnt/HD2T/Testes/coversbr/MTT_musicnn/1144623.h5\n",
      "/mnt/HD2T/Testes/coversbr/MTT_musicnn/1064714.h5\n",
      "/mnt/HD2T/Testes/coversbr/MTT_musicnn/1043742.h5\n",
      "/mnt/HD2T/Testes/coversbr/MTT_musicnn/958519.h5\n",
      "/mnt/HD2T/Testes/coversbr/MTT_musicnn/1599497.h5\n",
      "/mnt/HD2T/Testes/coversbr/MTT_musicnn/1550789.h5\n",
      "/mnt/HD2T/Testes/coversbr/MTT_musicnn/1526326.h5\n",
      "/mnt/HD2T/Testes/coversbr/MTT_musicnn/1493643.h5\n",
      "/mnt/HD2T/Testes/coversbr/MTT_musicnn/1489961.h5\n",
      "/mnt/HD2T/Testes/coversbr/MTT_musicnn/1459748.h5\n",
      "/mnt/HD2T/Testes/coversbr/MTT_musicnn/1435510.h5\n",
      "/mnt/HD2T/Testes/coversbr/MTT_musicnn/1395186.h5\n",
      "/mnt/HD2T/Testes/coversbr/MTT_musicnn/1361813.h5\n",
      "/mnt/HD2T/Testes/coversbr/MTT_musicnn/1344140.h5\n",
      "/mnt/HD2T/Testes/coversbr/MTT_musicnn/1342236.h5\n",
      "/mnt/HD2T/Testes/coversbr/MTT_musicnn/1236038.h5\n",
      "/mnt/HD2T/Testes/coversbr/MTT_musicnn/1232002.h5\n",
      "/mnt/HD2T/Testes/coversbr/MTT_musicnn/1228319.h5\n",
      "/mnt/HD2T/Testes/coversbr/MTT_musicnn/1201756.h5\n",
      "/mnt/HD2T/Testes/coversbr/MTT_musicnn/1175470.h5\n",
      "/mnt/HD2T/Testes/coversbr/MTT_musicnn/1013370.h5\n",
      "/mnt/HD2T/Testes/coversbr/MTT_musicnn/1013368.h5\n",
      "/mnt/HD2T/Testes/coversbr/MTT_musicnn/1013361.h5\n",
      "/mnt/HD2T/Testes/coversbr/MTT_musicnn/968904.h5\n",
      "/mnt/HD2T/Testes/coversbr/MTT_musicnn/942269.h5\n",
      "/mnt/HD2T/Testes/coversbr/MTT_musicnn/882618.h5\n",
      "/mnt/HD2T/Testes/coversbr/MTT_musicnn/5828168.h5\n",
      "/mnt/HD2T/Testes/coversbr/MTT_musicnn/2745430.h5\n",
      "/mnt/HD2T/Testes/coversbr/MTT_musicnn/2597703.h5\n",
      "/mnt/HD2T/Testes/coversbr/MTT_musicnn/2459245.h5\n",
      "/mnt/HD2T/Testes/coversbr/MTT_musicnn/2459241.h5\n",
      "/mnt/HD2T/Testes/coversbr/MTT_musicnn/1771416.h5\n",
      "/mnt/HD2T/Testes/coversbr/MTT_musicnn/1609703.h5\n",
      "/mnt/HD2T/Testes/coversbr/MTT_musicnn/1609695.h5\n",
      "/mnt/HD2T/Testes/coversbr/MTT_musicnn/1512472.h5\n",
      "/mnt/HD2T/Testes/coversbr/MTT_musicnn/1505163.h5\n",
      "/mnt/HD2T/Testes/coversbr/MTT_musicnn/1246650.h5\n",
      "/mnt/HD2T/Testes/coversbr/MTT_musicnn/1227743.h5\n",
      "/mnt/HD2T/Testes/coversbr/MTT_musicnn/1178265.h5\n",
      "/mnt/HD2T/Testes/coversbr/MTT_musicnn/1175270.h5\n",
      "/mnt/HD2T/Testes/coversbr/MTT_musicnn/11511429.h5\n",
      "/mnt/HD2T/Testes/coversbr/MTT_musicnn/1111425.h5\n",
      "/mnt/HD2T/Testes/coversbr/MTT_musicnn/1101462.h5\n",
      "/mnt/HD2T/Testes/coversbr/MTT_musicnn/813274.h5\n",
      "/mnt/HD2T/Testes/coversbr/MTT_musicnn/666947.h5\n",
      "/mnt/HD2T/Testes/coversbr/MTT_musicnn/504260.h5\n",
      "/mnt/HD2T/Testes/coversbr/MTT_musicnn/3809307.h5\n",
      "/mnt/HD2T/Testes/coversbr/MTT_musicnn/3097292.h5\n",
      "/mnt/HD2T/Testes/coversbr/MTT_musicnn/2594463.h5\n",
      "/mnt/HD2T/Testes/coversbr/MTT_musicnn/1633061.h5\n",
      "/mnt/HD2T/Testes/coversbr/MTT_musicnn/1509566.h5\n",
      "/mnt/HD2T/Testes/coversbr/MTT_musicnn/1509559.h5\n",
      "/mnt/HD2T/Testes/coversbr/MTT_musicnn/1481970.h5\n",
      "/mnt/HD2T/Testes/coversbr/MTT_musicnn/1481967.h5\n",
      "/mnt/HD2T/Testes/coversbr/MTT_musicnn/1114650.h5\n",
      "/mnt/HD2T/Testes/coversbr/MTT_musicnn/1104588.h5\n",
      "/mnt/HD2T/Testes/coversbr/MTT_musicnn/1088782.h5\n",
      "/mnt/HD2T/Testes/coversbr/MTT_musicnn/1088780.h5\n",
      "/mnt/HD2T/Testes/coversbr/MTT_musicnn/1076081.h5\n",
      "/mnt/HD2T/Testes/coversbr/MTT_musicnn/1043781.h5\n",
      "/mnt/HD2T/Testes/coversbr/MTT_musicnn/1043724.h5\n",
      "/mnt/HD2T/Testes/coversbr/MTT_musicnn/1022127.h5\n",
      "/mnt/HD2T/Testes/coversbr/MTT_musicnn/1019864.h5\n",
      "/mnt/HD2T/Testes/coversbr/MTT_musicnn/1619362.h5\n",
      "/mnt/HD2T/Testes/coversbr/MTT_musicnn/1546485.h5\n",
      "/mnt/HD2T/Testes/coversbr/MTT_musicnn/1254927.h5\n",
      "/mnt/HD2T/Testes/coversbr/MTT_musicnn/1218435.h5\n",
      "/mnt/HD2T/Testes/coversbr/MTT_musicnn/1218433.h5\n",
      "/mnt/HD2T/Testes/coversbr/MTT_musicnn/1218090.h5\n"
     ]
    },
    {
     "name": "stdout",
     "output_type": "stream",
     "text": [
      "/mnt/HD2T/Testes/coversbr/MTT_musicnn/1218088.h5\n",
      "/mnt/HD2T/Testes/coversbr/MTT_musicnn/1214403.h5\n",
      "/mnt/HD2T/Testes/coversbr/MTT_musicnn/1185879.h5\n",
      "/mnt/HD2T/Testes/coversbr/MTT_musicnn/1171671.h5\n",
      "/mnt/HD2T/Testes/coversbr/MTT_musicnn/1171664.h5\n",
      "/mnt/HD2T/Testes/coversbr/MTT_musicnn/11428676.h5\n",
      "/mnt/HD2T/Testes/coversbr/MTT_musicnn/11335845.h5\n",
      "/mnt/HD2T/Testes/coversbr/MTT_musicnn/1107259.h5\n",
      "/mnt/HD2T/Testes/coversbr/MTT_musicnn/1083516.h5\n",
      "/mnt/HD2T/Testes/coversbr/MTT_musicnn/1076249.h5\n",
      "/mnt/HD2T/Testes/coversbr/MTT_musicnn/10387292.h5\n",
      "/mnt/HD2T/Testes/coversbr/MTT_musicnn/1020823.h5\n",
      "/mnt/HD2T/Testes/coversbr/MTT_musicnn/1020818.h5\n",
      "/mnt/HD2T/Testes/coversbr/MTT_musicnn/1020812.h5\n",
      "/mnt/HD2T/Testes/coversbr/MTT_musicnn/957163.h5\n",
      "/mnt/HD2T/Testes/coversbr/MTT_musicnn/956340.h5\n",
      "/mnt/HD2T/Testes/coversbr/MTT_musicnn/50605.h5\n",
      "/mnt/HD2T/Testes/coversbr/MTT_musicnn/4134474.h5\n",
      "/mnt/HD2T/Testes/coversbr/MTT_musicnn/3344790.h5\n",
      "/mnt/HD2T/Testes/coversbr/MTT_musicnn/3344786.h5\n",
      "/mnt/HD2T/Testes/coversbr/MTT_musicnn/2591757.h5\n",
      "/mnt/HD2T/Testes/coversbr/MTT_musicnn/1894989.h5\n",
      "/mnt/HD2T/Testes/coversbr/MTT_musicnn/1576184.h5\n",
      "/mnt/HD2T/Testes/coversbr/MTT_musicnn/1540521.h5\n",
      "/mnt/HD2T/Testes/coversbr/MTT_musicnn/1496121.h5\n",
      "/mnt/HD2T/Testes/coversbr/MTT_musicnn/1387285.h5\n",
      "/mnt/HD2T/Testes/coversbr/MTT_musicnn/1356722.h5\n",
      "/mnt/HD2T/Testes/coversbr/MTT_musicnn/1216499.h5\n",
      "/mnt/HD2T/Testes/coversbr/MTT_musicnn/1196472.h5\n",
      "/mnt/HD2T/Testes/coversbr/MTT_musicnn/1130126.h5\n",
      "/mnt/HD2T/Testes/coversbr/MTT_musicnn/1130115.h5\n",
      "/mnt/HD2T/Testes/coversbr/MTT_musicnn/1127980.h5\n",
      "/mnt/HD2T/Testes/coversbr/MTT_musicnn/1077974.h5\n",
      "/mnt/HD2T/Testes/coversbr/MTT_musicnn/1060940.h5\n",
      "/mnt/HD2T/Testes/coversbr/MTT_musicnn/906576.h5\n",
      "/mnt/HD2T/Testes/coversbr/MTT_musicnn/901535.h5\n",
      "/mnt/HD2T/Testes/coversbr/MTT_musicnn/901491.h5\n",
      "/mnt/HD2T/Testes/coversbr/MTT_musicnn/833756.h5\n",
      "/mnt/HD2T/Testes/coversbr/MTT_musicnn/662951.h5\n",
      "/mnt/HD2T/Testes/coversbr/MTT_musicnn/548396.h5\n",
      "/mnt/HD2T/Testes/coversbr/MTT_musicnn/2936820.h5\n",
      "/mnt/HD2T/Testes/coversbr/MTT_musicnn/2359685.h5\n",
      "/mnt/HD2T/Testes/coversbr/MTT_musicnn/1833305.h5\n",
      "/mnt/HD2T/Testes/coversbr/MTT_musicnn/1745058.h5\n",
      "/mnt/HD2T/Testes/coversbr/MTT_musicnn/1678944.h5\n",
      "/mnt/HD2T/Testes/coversbr/MTT_musicnn/1660331.h5\n",
      "/mnt/HD2T/Testes/coversbr/MTT_musicnn/1617797.h5\n",
      "/mnt/HD2T/Testes/coversbr/MTT_musicnn/1566295.h5\n",
      "/mnt/HD2T/Testes/coversbr/MTT_musicnn/1559452.h5\n",
      "/mnt/HD2T/Testes/coversbr/MTT_musicnn/1524659.h5\n",
      "/mnt/HD2T/Testes/coversbr/MTT_musicnn/1458666.h5\n",
      "/mnt/HD2T/Testes/coversbr/MTT_musicnn/1291962.h5\n",
      "/mnt/HD2T/Testes/coversbr/MTT_musicnn/1206124.h5\n",
      "/mnt/HD2T/Testes/coversbr/MTT_musicnn/11542053.h5\n",
      "/mnt/HD2T/Testes/coversbr/MTT_musicnn/901645.h5\n",
      "/mnt/HD2T/Testes/coversbr/MTT_musicnn/895400.h5\n",
      "/mnt/HD2T/Testes/coversbr/MTT_musicnn/823890.h5\n",
      "/mnt/HD2T/Testes/coversbr/MTT_musicnn/4069128.h5\n",
      "/mnt/HD2T/Testes/coversbr/MTT_musicnn/3620006.h5\n",
      "/mnt/HD2T/Testes/coversbr/MTT_musicnn/3432515.h5\n",
      "/mnt/HD2T/Testes/coversbr/MTT_musicnn/2615563.h5\n",
      "/mnt/HD2T/Testes/coversbr/MTT_musicnn/2545564.h5\n",
      "/mnt/HD2T/Testes/coversbr/MTT_musicnn/1809154.h5\n",
      "/mnt/HD2T/Testes/coversbr/MTT_musicnn/1759222.h5\n",
      "/mnt/HD2T/Testes/coversbr/MTT_musicnn/1715588.h5\n",
      "/mnt/HD2T/Testes/coversbr/MTT_musicnn/1606477.h5\n",
      "/mnt/HD2T/Testes/coversbr/MTT_musicnn/1346412.h5\n",
      "/mnt/HD2T/Testes/coversbr/MTT_musicnn/11562777.h5\n",
      "/mnt/HD2T/Testes/coversbr/MTT_musicnn/11562769.h5\n",
      "/mnt/HD2T/Testes/coversbr/MTT_musicnn/11562760.h5\n",
      "/mnt/HD2T/Testes/coversbr/MTT_musicnn/1127989.h5\n",
      "/mnt/HD2T/Testes/coversbr/MTT_musicnn/1085175.h5\n",
      "/mnt/HD2T/Testes/coversbr/MTT_musicnn/1065469.h5\n",
      "/mnt/HD2T/Testes/coversbr/MTT_musicnn/1056669.h5\n",
      "/mnt/HD2T/Testes/coversbr/MTT_musicnn/2632989.h5\n",
      "/mnt/HD2T/Testes/coversbr/MTT_musicnn/2429512.h5\n",
      "/mnt/HD2T/Testes/coversbr/MTT_musicnn/1677957.h5\n",
      "/mnt/HD2T/Testes/coversbr/MTT_musicnn/1581026.h5\n",
      "/mnt/HD2T/Testes/coversbr/MTT_musicnn/1327485.h5\n",
      "/mnt/HD2T/Testes/coversbr/MTT_musicnn/1319836.h5\n",
      "/mnt/HD2T/Testes/coversbr/MTT_musicnn/1319833.h5\n",
      "/mnt/HD2T/Testes/coversbr/MTT_musicnn/1319825.h5\n",
      "/mnt/HD2T/Testes/coversbr/MTT_musicnn/1319823.h5\n",
      "/mnt/HD2T/Testes/coversbr/MTT_musicnn/1319159.h5\n",
      "/mnt/HD2T/Testes/coversbr/MTT_musicnn/1319157.h5\n",
      "/mnt/HD2T/Testes/coversbr/MTT_musicnn/1319153.h5\n",
      "/mnt/HD2T/Testes/coversbr/MTT_musicnn/1319152.h5\n",
      "/mnt/HD2T/Testes/coversbr/MTT_musicnn/1319151.h5\n",
      "/mnt/HD2T/Testes/coversbr/MTT_musicnn/1313007.h5\n",
      "/mnt/HD2T/Testes/coversbr/MTT_musicnn/1310134.h5\n",
      "/mnt/HD2T/Testes/coversbr/MTT_musicnn/1288712.h5\n",
      "/mnt/HD2T/Testes/coversbr/MTT_musicnn/998560.h5\n",
      "/mnt/HD2T/Testes/coversbr/MTT_musicnn/952614.h5\n",
      "/mnt/HD2T/Testes/coversbr/MTT_musicnn/952605.h5\n",
      "/mnt/HD2T/Testes/coversbr/MTT_musicnn/952601.h5\n",
      "/mnt/HD2T/Testes/coversbr/MTT_musicnn/952597.h5\n",
      "/mnt/HD2T/Testes/coversbr/MTT_musicnn/5832739.h5\n",
      "/mnt/HD2T/Testes/coversbr/MTT_musicnn/2266305.h5\n",
      "/mnt/HD2T/Testes/coversbr/MTT_musicnn/1826081.h5\n",
      "/mnt/HD2T/Testes/coversbr/MTT_musicnn/1775587.h5\n",
      "/mnt/HD2T/Testes/coversbr/MTT_musicnn/1766903.h5\n",
      "/mnt/HD2T/Testes/coversbr/MTT_musicnn/1759734.h5\n",
      "/mnt/HD2T/Testes/coversbr/MTT_musicnn/1713835.h5\n",
      "/mnt/HD2T/Testes/coversbr/MTT_musicnn/1605466.h5\n",
      "/mnt/HD2T/Testes/coversbr/MTT_musicnn/1316506.h5\n",
      "/mnt/HD2T/Testes/coversbr/MTT_musicnn/1185733.h5\n",
      "/mnt/HD2T/Testes/coversbr/MTT_musicnn/1185729.h5\n",
      "/mnt/HD2T/Testes/coversbr/MTT_musicnn/1171391.h5\n",
      "/mnt/HD2T/Testes/coversbr/MTT_musicnn/1158782.h5\n",
      "/mnt/HD2T/Testes/coversbr/MTT_musicnn/1095734.h5\n",
      "/mnt/HD2T/Testes/coversbr/MTT_musicnn/10392622.h5\n",
      "/mnt/HD2T/Testes/coversbr/MTT_musicnn/640824.h5\n",
      "/mnt/HD2T/Testes/coversbr/MTT_musicnn/4136408.h5\n",
      "/mnt/HD2T/Testes/coversbr/MTT_musicnn/29430.h5\n",
      "/mnt/HD2T/Testes/coversbr/MTT_musicnn/2724334.h5\n",
      "/mnt/HD2T/Testes/coversbr/MTT_musicnn/255152.h5\n",
      "/mnt/HD2T/Testes/coversbr/MTT_musicnn/2514561.h5\n",
      "/mnt/HD2T/Testes/coversbr/MTT_musicnn/2117565.h5\n",
      "/mnt/HD2T/Testes/coversbr/MTT_musicnn/1709220.h5\n",
      "/mnt/HD2T/Testes/coversbr/MTT_musicnn/1620710.h5\n",
      "/mnt/HD2T/Testes/coversbr/MTT_musicnn/1327367.h5\n",
      "/mnt/HD2T/Testes/coversbr/MTT_musicnn/1327288.h5\n",
      "/mnt/HD2T/Testes/coversbr/MTT_musicnn/1311850.h5\n",
      "/mnt/HD2T/Testes/coversbr/MTT_musicnn/1211327.h5\n",
      "/mnt/HD2T/Testes/coversbr/MTT_musicnn/1183309.h5\n",
      "/mnt/HD2T/Testes/coversbr/MTT_musicnn/1143785.h5\n",
      "/mnt/HD2T/Testes/coversbr/MTT_musicnn/1143276.h5\n",
      "/mnt/HD2T/Testes/coversbr/MTT_musicnn/1138138.h5\n",
      "/mnt/HD2T/Testes/coversbr/MTT_musicnn/1133379.h5\n",
      "/mnt/HD2T/Testes/coversbr/MTT_musicnn/1132789.h5\n",
      "/mnt/HD2T/Testes/coversbr/MTT_musicnn/1102697.h5\n",
      "/mnt/HD2T/Testes/coversbr/MTT_musicnn/6238400.h5\n",
      "/mnt/HD2T/Testes/coversbr/MTT_musicnn/5831189.h5\n",
      "/mnt/HD2T/Testes/coversbr/MTT_musicnn/5831178.h5\n",
      "/mnt/HD2T/Testes/coversbr/MTT_musicnn/5828541.h5\n",
      "/mnt/HD2T/Testes/coversbr/MTT_musicnn/5761864.h5\n",
      "/mnt/HD2T/Testes/coversbr/MTT_musicnn/2744363.h5\n",
      "/mnt/HD2T/Testes/coversbr/MTT_musicnn/2586783.h5\n",
      "/mnt/HD2T/Testes/coversbr/MTT_musicnn/2467795.h5\n",
      "/mnt/HD2T/Testes/coversbr/MTT_musicnn/2363313.h5\n",
      "/mnt/HD2T/Testes/coversbr/MTT_musicnn/2106226.h5\n",
      "/mnt/HD2T/Testes/coversbr/MTT_musicnn/2105665.h5\n",
      "/mnt/HD2T/Testes/coversbr/MTT_musicnn/1598079.h5\n",
      "/mnt/HD2T/Testes/coversbr/MTT_musicnn/1592304.h5\n",
      "/mnt/HD2T/Testes/coversbr/MTT_musicnn/1553807.h5\n",
      "/mnt/HD2T/Testes/coversbr/MTT_musicnn/1417120.h5\n",
      "/mnt/HD2T/Testes/coversbr/MTT_musicnn/1380549.h5\n",
      "/mnt/HD2T/Testes/coversbr/MTT_musicnn/1372671.h5\n",
      "/mnt/HD2T/Testes/coversbr/MTT_musicnn/1345112.h5\n",
      "/mnt/HD2T/Testes/coversbr/MTT_musicnn/1329149.h5\n",
      "/mnt/HD2T/Testes/coversbr/MTT_musicnn/10613734.h5\n",
      "/mnt/HD2T/Testes/coversbr/MTT_musicnn/2156612.h5\n",
      "/mnt/HD2T/Testes/coversbr/MTT_musicnn/2098923.h5\n",
      "/mnt/HD2T/Testes/coversbr/MTT_musicnn/1724525.h5\n",
      "/mnt/HD2T/Testes/coversbr/MTT_musicnn/1724487.h5\n",
      "/mnt/HD2T/Testes/coversbr/MTT_musicnn/1724351.h5\n",
      "/mnt/HD2T/Testes/coversbr/MTT_musicnn/1649994.h5\n",
      "/mnt/HD2T/Testes/coversbr/MTT_musicnn/1567921.h5\n",
      "/mnt/HD2T/Testes/coversbr/MTT_musicnn/1537961.h5\n",
      "/mnt/HD2T/Testes/coversbr/MTT_musicnn/1448317.h5\n",
      "/mnt/HD2T/Testes/coversbr/MTT_musicnn/1448231.h5\n",
      "/mnt/HD2T/Testes/coversbr/MTT_musicnn/1448171.h5\n",
      "/mnt/HD2T/Testes/coversbr/MTT_musicnn/1443515.h5\n",
      "/mnt/HD2T/Testes/coversbr/MTT_musicnn/1441873.h5\n",
      "/mnt/HD2T/Testes/coversbr/MTT_musicnn/1440241.h5\n",
      "/mnt/HD2T/Testes/coversbr/MTT_musicnn/1335477.h5\n",
      "/mnt/HD2T/Testes/coversbr/MTT_musicnn/1267383.h5\n",
      "/mnt/HD2T/Testes/coversbr/MTT_musicnn/1150206.h5\n"
     ]
    },
    {
     "name": "stdout",
     "output_type": "stream",
     "text": [
      "/mnt/HD2T/Testes/coversbr/MTT_musicnn/1087937.h5\n",
      "/mnt/HD2T/Testes/coversbr/MTT_musicnn/1087935.h5\n",
      "/mnt/HD2T/Testes/coversbr/MTT_musicnn/1034899.h5\n",
      "/mnt/HD2T/Testes/coversbr/MTT_musicnn/968634.h5\n",
      "/mnt/HD2T/Testes/coversbr/MTT_musicnn/968633.h5\n",
      "/mnt/HD2T/Testes/coversbr/MTT_musicnn/593911.h5\n",
      "/mnt/HD2T/Testes/coversbr/MTT_musicnn/1808071.h5\n",
      "/mnt/HD2T/Testes/coversbr/MTT_musicnn/1749488.h5\n",
      "/mnt/HD2T/Testes/coversbr/MTT_musicnn/1601004.h5\n",
      "/mnt/HD2T/Testes/coversbr/MTT_musicnn/1556208.h5\n",
      "/mnt/HD2T/Testes/coversbr/MTT_musicnn/1555578.h5\n",
      "/mnt/HD2T/Testes/coversbr/MTT_musicnn/1539253.h5\n",
      "/mnt/HD2T/Testes/coversbr/MTT_musicnn/1453927.h5\n",
      "/mnt/HD2T/Testes/coversbr/MTT_musicnn/1406492.h5\n",
      "/mnt/HD2T/Testes/coversbr/MTT_musicnn/1386831.h5\n",
      "/mnt/HD2T/Testes/coversbr/MTT_musicnn/1382556.h5\n",
      "/mnt/HD2T/Testes/coversbr/MTT_musicnn/1348227.h5\n",
      "/mnt/HD2T/Testes/coversbr/MTT_musicnn/1333641.h5\n",
      "/mnt/HD2T/Testes/coversbr/MTT_musicnn/1225079.h5\n",
      "/mnt/HD2T/Testes/coversbr/MTT_musicnn/1214430.h5\n",
      "/mnt/HD2T/Testes/coversbr/MTT_musicnn/1154293.h5\n",
      "/mnt/HD2T/Testes/coversbr/MTT_musicnn/1150231.h5\n",
      "/mnt/HD2T/Testes/coversbr/MTT_musicnn/1088692.h5\n",
      "/mnt/HD2T/Testes/coversbr/MTT_musicnn/6289253.h5\n",
      "/mnt/HD2T/Testes/coversbr/MTT_musicnn/1608396.h5\n",
      "/mnt/HD2T/Testes/coversbr/MTT_musicnn/1537692.h5\n",
      "/mnt/HD2T/Testes/coversbr/MTT_musicnn/1406477.h5\n",
      "/mnt/HD2T/Testes/coversbr/MTT_musicnn/1406073.h5\n",
      "/mnt/HD2T/Testes/coversbr/MTT_musicnn/1406071.h5\n",
      "/mnt/HD2T/Testes/coversbr/MTT_musicnn/1254953.h5\n",
      "/mnt/HD2T/Testes/coversbr/MTT_musicnn/1225075.h5\n",
      "/mnt/HD2T/Testes/coversbr/MTT_musicnn/11560494.h5\n",
      "/mnt/HD2T/Testes/coversbr/MTT_musicnn/11560489.h5\n",
      "/mnt/HD2T/Testes/coversbr/MTT_musicnn/11560486.h5\n",
      "/mnt/HD2T/Testes/coversbr/MTT_musicnn/1104375.h5\n",
      "/mnt/HD2T/Testes/coversbr/MTT_musicnn/1101578.h5\n",
      "/mnt/HD2T/Testes/coversbr/MTT_musicnn/1085643.h5\n",
      "/mnt/HD2T/Testes/coversbr/MTT_musicnn/1082878.h5\n",
      "/mnt/HD2T/Testes/coversbr/MTT_musicnn/1082877.h5\n",
      "/mnt/HD2T/Testes/coversbr/MTT_musicnn/1082876.h5\n",
      "/mnt/HD2T/Testes/coversbr/MTT_musicnn/1082201.h5\n",
      "/mnt/HD2T/Testes/coversbr/MTT_musicnn/1082200.h5\n",
      "/mnt/HD2T/Testes/coversbr/MTT_musicnn/1082198.h5\n",
      "/mnt/HD2T/Testes/coversbr/MTT_musicnn/958095.h5\n",
      "/mnt/HD2T/Testes/coversbr/MTT_musicnn/814630.h5\n",
      "/mnt/HD2T/Testes/coversbr/MTT_musicnn/2451570.h5\n",
      "/mnt/HD2T/Testes/coversbr/MTT_musicnn/2399956.h5\n",
      "/mnt/HD2T/Testes/coversbr/MTT_musicnn/2045721.h5\n",
      "/mnt/HD2T/Testes/coversbr/MTT_musicnn/1643852.h5\n",
      "/mnt/HD2T/Testes/coversbr/MTT_musicnn/1575778.h5\n",
      "/mnt/HD2T/Testes/coversbr/MTT_musicnn/1575627.h5\n",
      "/mnt/HD2T/Testes/coversbr/MTT_musicnn/1566485.h5\n",
      "/mnt/HD2T/Testes/coversbr/MTT_musicnn/1566378.h5\n",
      "/mnt/HD2T/Testes/coversbr/MTT_musicnn/1562226.h5\n",
      "/mnt/HD2T/Testes/coversbr/MTT_musicnn/1561849.h5\n",
      "/mnt/HD2T/Testes/coversbr/MTT_musicnn/1447275.h5\n",
      "/mnt/HD2T/Testes/coversbr/MTT_musicnn/1325857.h5\n",
      "/mnt/HD2T/Testes/coversbr/MTT_musicnn/1287792.h5\n",
      "/mnt/HD2T/Testes/coversbr/MTT_musicnn/1240752.h5\n",
      "/mnt/HD2T/Testes/coversbr/MTT_musicnn/1127974.h5\n",
      "/mnt/HD2T/Testes/coversbr/MTT_musicnn/1094235.h5\n",
      "/mnt/HD2T/Testes/coversbr/MTT_musicnn/1080673.h5\n",
      "/mnt/HD2T/Testes/coversbr/MTT_musicnn/1080640.h5\n",
      "/mnt/HD2T/Testes/coversbr/MTT_musicnn/6292693.h5\n",
      "/mnt/HD2T/Testes/coversbr/MTT_musicnn/6292685.h5\n",
      "/mnt/HD2T/Testes/coversbr/MTT_musicnn/6245294.h5\n",
      "/mnt/HD2T/Testes/coversbr/MTT_musicnn/6245271.h5\n",
      "/mnt/HD2T/Testes/coversbr/MTT_musicnn/6018614.h5\n",
      "/mnt/HD2T/Testes/coversbr/MTT_musicnn/6018612.h5\n",
      "/mnt/HD2T/Testes/coversbr/MTT_musicnn/3635595.h5\n",
      "/mnt/HD2T/Testes/coversbr/MTT_musicnn/3635565.h5\n",
      "/mnt/HD2T/Testes/coversbr/MTT_musicnn/3590779.h5\n",
      "/mnt/HD2T/Testes/coversbr/MTT_musicnn/1859732.h5\n",
      "/mnt/HD2T/Testes/coversbr/MTT_musicnn/1859320.h5\n",
      "/mnt/HD2T/Testes/coversbr/MTT_musicnn/1576463.h5\n",
      "/mnt/HD2T/Testes/coversbr/MTT_musicnn/1543310.h5\n",
      "/mnt/HD2T/Testes/coversbr/MTT_musicnn/1543309.h5\n",
      "/mnt/HD2T/Testes/coversbr/MTT_musicnn/1459354.h5\n",
      "/mnt/HD2T/Testes/coversbr/MTT_musicnn/1266422.h5\n",
      "/mnt/HD2T/Testes/coversbr/MTT_musicnn/1225185.h5\n",
      "/mnt/HD2T/Testes/coversbr/MTT_musicnn/1177957.h5\n",
      "/mnt/HD2T/Testes/coversbr/MTT_musicnn/1177913.h5\n",
      "/mnt/HD2T/Testes/coversbr/MTT_musicnn/1177022.h5\n",
      "/mnt/HD2T/Testes/coversbr/MTT_musicnn/939853.h5\n",
      "/mnt/HD2T/Testes/coversbr/MTT_musicnn/3682554.h5\n",
      "/mnt/HD2T/Testes/coversbr/MTT_musicnn/2753412.h5\n",
      "/mnt/HD2T/Testes/coversbr/MTT_musicnn/2753391.h5\n",
      "/mnt/HD2T/Testes/coversbr/MTT_musicnn/2483204.h5\n",
      "/mnt/HD2T/Testes/coversbr/MTT_musicnn/1913454.h5\n",
      "/mnt/HD2T/Testes/coversbr/MTT_musicnn/1913329.h5\n",
      "/mnt/HD2T/Testes/coversbr/MTT_musicnn/1720642.h5\n",
      "/mnt/HD2T/Testes/coversbr/MTT_musicnn/1720635.h5\n",
      "/mnt/HD2T/Testes/coversbr/MTT_musicnn/1678020.h5\n",
      "/mnt/HD2T/Testes/coversbr/MTT_musicnn/1500789.h5\n",
      "/mnt/HD2T/Testes/coversbr/MTT_musicnn/1500672.h5\n",
      "/mnt/HD2T/Testes/coversbr/MTT_musicnn/1191718.h5\n",
      "/mnt/HD2T/Testes/coversbr/MTT_musicnn/1191717.h5\n",
      "/mnt/HD2T/Testes/coversbr/MTT_musicnn/1188145.h5\n",
      "/mnt/HD2T/Testes/coversbr/MTT_musicnn/1188141.h5\n",
      "/mnt/HD2T/Testes/coversbr/MTT_musicnn/1185346.h5\n",
      "/mnt/HD2T/Testes/coversbr/MTT_musicnn/1066373.h5\n",
      "/mnt/HD2T/Testes/coversbr/MTT_musicnn/969222.h5\n",
      "/mnt/HD2T/Testes/coversbr/MTT_musicnn/891500.h5\n",
      "/mnt/HD2T/Testes/coversbr/MTT_musicnn/2873459.h5\n",
      "/mnt/HD2T/Testes/coversbr/MTT_musicnn/264025.h5\n",
      "/mnt/HD2T/Testes/coversbr/MTT_musicnn/1546489.h5\n",
      "/mnt/HD2T/Testes/coversbr/MTT_musicnn/1511590.h5\n",
      "/mnt/HD2T/Testes/coversbr/MTT_musicnn/1511565.h5\n",
      "/mnt/HD2T/Testes/coversbr/MTT_musicnn/1511554.h5\n",
      "/mnt/HD2T/Testes/coversbr/MTT_musicnn/1450336.h5\n",
      "/mnt/HD2T/Testes/coversbr/MTT_musicnn/1450328.h5\n",
      "/mnt/HD2T/Testes/coversbr/MTT_musicnn/1334050.h5\n",
      "/mnt/HD2T/Testes/coversbr/MTT_musicnn/1228263.h5\n",
      "/mnt/HD2T/Testes/coversbr/MTT_musicnn/1210044.h5\n",
      "/mnt/HD2T/Testes/coversbr/MTT_musicnn/1206617.h5\n",
      "/mnt/HD2T/Testes/coversbr/MTT_musicnn/1206518.h5\n",
      "/mnt/HD2T/Testes/coversbr/MTT_musicnn/1161254.h5\n",
      "/mnt/HD2T/Testes/coversbr/MTT_musicnn/1088860.h5\n",
      "/mnt/HD2T/Testes/coversbr/MTT_musicnn/1087703.h5\n",
      "/mnt/HD2T/Testes/coversbr/MTT_musicnn/1077970.h5\n",
      "/mnt/HD2T/Testes/coversbr/MTT_musicnn/1072425.h5\n",
      "/mnt/HD2T/Testes/coversbr/MTT_musicnn/980503.h5\n",
      "/mnt/HD2T/Testes/coversbr/MTT_musicnn/958096.h5\n",
      "/mnt/HD2T/Testes/coversbr/MTT_musicnn/3097287.h5\n",
      "/mnt/HD2T/Testes/coversbr/MTT_musicnn/2873457.h5\n",
      "/mnt/HD2T/Testes/coversbr/MTT_musicnn/2753499.h5\n",
      "/mnt/HD2T/Testes/coversbr/MTT_musicnn/2597429.h5\n",
      "/mnt/HD2T/Testes/coversbr/MTT_musicnn/2451584.h5\n",
      "/mnt/HD2T/Testes/coversbr/MTT_musicnn/1644163.h5\n",
      "/mnt/HD2T/Testes/coversbr/MTT_musicnn/1619349.h5\n",
      "/mnt/HD2T/Testes/coversbr/MTT_musicnn/1537706.h5\n",
      "/mnt/HD2T/Testes/coversbr/MTT_musicnn/1506817.h5\n",
      "/mnt/HD2T/Testes/coversbr/MTT_musicnn/1500749.h5\n",
      "/mnt/HD2T/Testes/coversbr/MTT_musicnn/1382567.h5\n",
      "/mnt/HD2T/Testes/coversbr/MTT_musicnn/1333971.h5\n",
      "/mnt/HD2T/Testes/coversbr/MTT_musicnn/1329160.h5\n",
      "/mnt/HD2T/Testes/coversbr/MTT_musicnn/1205244.h5\n",
      "/mnt/HD2T/Testes/coversbr/MTT_musicnn/1098478.h5\n",
      "/mnt/HD2T/Testes/coversbr/MTT_musicnn/1084299.h5\n",
      "/mnt/HD2T/Testes/coversbr/MTT_musicnn/10431711.h5\n",
      "/mnt/HD2T/Testes/coversbr/MTT_musicnn/1001548.h5\n",
      "/mnt/HD2T/Testes/coversbr/MTT_musicnn/9968978.h5\n",
      "/mnt/HD2T/Testes/coversbr/MTT_musicnn/797667.h5\n",
      "/mnt/HD2T/Testes/coversbr/MTT_musicnn/2138745.h5\n",
      "/mnt/HD2T/Testes/coversbr/MTT_musicnn/1703597.h5\n",
      "/mnt/HD2T/Testes/coversbr/MTT_musicnn/1619360.h5\n",
      "/mnt/HD2T/Testes/coversbr/MTT_musicnn/1592879.h5\n",
      "/mnt/HD2T/Testes/coversbr/MTT_musicnn/1576633.h5\n",
      "/mnt/HD2T/Testes/coversbr/MTT_musicnn/1576626.h5\n",
      "/mnt/HD2T/Testes/coversbr/MTT_musicnn/1576625.h5\n",
      "/mnt/HD2T/Testes/coversbr/MTT_musicnn/1576527.h5\n",
      "/mnt/HD2T/Testes/coversbr/MTT_musicnn/1522911.h5\n",
      "/mnt/HD2T/Testes/coversbr/MTT_musicnn/1431541.h5\n",
      "/mnt/HD2T/Testes/coversbr/MTT_musicnn/1422543.h5\n",
      "/mnt/HD2T/Testes/coversbr/MTT_musicnn/1384818.h5\n",
      "/mnt/HD2T/Testes/coversbr/MTT_musicnn/1380506.h5\n",
      "/mnt/HD2T/Testes/coversbr/MTT_musicnn/1257952.h5\n",
      "/mnt/HD2T/Testes/coversbr/MTT_musicnn/11428821.h5\n",
      "/mnt/HD2T/Testes/coversbr/MTT_musicnn/1107225.h5\n",
      "/mnt/HD2T/Testes/coversbr/MTT_musicnn/1072363.h5\n",
      "/mnt/HD2T/Testes/coversbr/MTT_musicnn/9287029.h5\n",
      "/mnt/HD2T/Testes/coversbr/MTT_musicnn/500151.h5\n",
      "/mnt/HD2T/Testes/coversbr/MTT_musicnn/3620015.h5\n",
      "/mnt/HD2T/Testes/coversbr/MTT_musicnn/3097295.h5\n",
      "/mnt/HD2T/Testes/coversbr/MTT_musicnn/2451582.h5\n",
      "/mnt/HD2T/Testes/coversbr/MTT_musicnn/1720468.h5\n",
      "/mnt/HD2T/Testes/coversbr/MTT_musicnn/1680480.h5\n",
      "/mnt/HD2T/Testes/coversbr/MTT_musicnn/1663075.h5\n"
     ]
    },
    {
     "name": "stdout",
     "output_type": "stream",
     "text": [
      "/mnt/HD2T/Testes/coversbr/MTT_musicnn/1662002.h5\n",
      "/mnt/HD2T/Testes/coversbr/MTT_musicnn/1581285.h5\n",
      "/mnt/HD2T/Testes/coversbr/MTT_musicnn/1576634.h5\n",
      "/mnt/HD2T/Testes/coversbr/MTT_musicnn/1576628.h5\n",
      "/mnt/HD2T/Testes/coversbr/MTT_musicnn/1576529.h5\n",
      "/mnt/HD2T/Testes/coversbr/MTT_musicnn/1519662.h5\n",
      "/mnt/HD2T/Testes/coversbr/MTT_musicnn/1484693.h5\n",
      "/mnt/HD2T/Testes/coversbr/MTT_musicnn/1341460.h5\n",
      "/mnt/HD2T/Testes/coversbr/MTT_musicnn/1154302.h5\n",
      "/mnt/HD2T/Testes/coversbr/MTT_musicnn/1154294.h5\n",
      "/mnt/HD2T/Testes/coversbr/MTT_musicnn/1068997.h5\n",
      "/mnt/HD2T/Testes/coversbr/MTT_musicnn/1045540.h5\n",
      "/mnt/HD2T/Testes/coversbr/MTT_musicnn/48656.h5\n",
      "/mnt/HD2T/Testes/coversbr/MTT_musicnn/3715218.h5\n",
      "/mnt/HD2T/Testes/coversbr/MTT_musicnn/3715212.h5\n",
      "/mnt/HD2T/Testes/coversbr/MTT_musicnn/3715211.h5\n",
      "/mnt/HD2T/Testes/coversbr/MTT_musicnn/3715207.h5\n",
      "/mnt/HD2T/Testes/coversbr/MTT_musicnn/3715205.h5\n",
      "/mnt/HD2T/Testes/coversbr/MTT_musicnn/3097288.h5\n",
      "/mnt/HD2T/Testes/coversbr/MTT_musicnn/2632999.h5\n",
      "/mnt/HD2T/Testes/coversbr/MTT_musicnn/2451568.h5\n",
      "/mnt/HD2T/Testes/coversbr/MTT_musicnn/2045724.h5\n",
      "/mnt/HD2T/Testes/coversbr/MTT_musicnn/1536355.h5\n",
      "/mnt/HD2T/Testes/coversbr/MTT_musicnn/1519654.h5\n",
      "/mnt/HD2T/Testes/coversbr/MTT_musicnn/1450546.h5\n",
      "/mnt/HD2T/Testes/coversbr/MTT_musicnn/1096129.h5\n",
      "/mnt/HD2T/Testes/coversbr/MTT_musicnn/962181.h5\n",
      "/mnt/HD2T/Testes/coversbr/MTT_musicnn/961689.h5\n",
      "/mnt/HD2T/Testes/coversbr/MTT_musicnn/821822.h5\n",
      "/mnt/HD2T/Testes/coversbr/MTT_musicnn/3620168.h5\n",
      "/mnt/HD2T/Testes/coversbr/MTT_musicnn/3620160.h5\n",
      "/mnt/HD2T/Testes/coversbr/MTT_musicnn/2932489.h5\n",
      "/mnt/HD2T/Testes/coversbr/MTT_musicnn/1759211.h5\n",
      "/mnt/HD2T/Testes/coversbr/MTT_musicnn/1753890.h5\n",
      "/mnt/HD2T/Testes/coversbr/MTT_musicnn/1739252.h5\n",
      "/mnt/HD2T/Testes/coversbr/MTT_musicnn/1728553.h5\n",
      "/mnt/HD2T/Testes/coversbr/MTT_musicnn/1697888.h5\n",
      "/mnt/HD2T/Testes/coversbr/MTT_musicnn/1600029.h5\n",
      "/mnt/HD2T/Testes/coversbr/MTT_musicnn/1513669.h5\n",
      "/mnt/HD2T/Testes/coversbr/MTT_musicnn/1459256.h5\n",
      "/mnt/HD2T/Testes/coversbr/MTT_musicnn/1380141.h5\n",
      "/mnt/HD2T/Testes/coversbr/MTT_musicnn/1216661.h5\n",
      "/mnt/HD2T/Testes/coversbr/MTT_musicnn/1176235.h5\n",
      "/mnt/HD2T/Testes/coversbr/MTT_musicnn/1162174.h5\n",
      "/mnt/HD2T/Testes/coversbr/MTT_musicnn/1126029.h5\n",
      "/mnt/HD2T/Testes/coversbr/MTT_musicnn/1082109.h5\n",
      "['Piano Tenso', 'POP', 'HipHop', 'ROCK', 'FUNK', 'SAMBA', 'REGGAE', 'PAGODE', 'MPB', 'XOTE', 'WORLD MUSIC', 'TANGO', 'SOUL', 'SERTANEJO', 'SAMBA ENREDO', 'ROCK POP', 'REGIONAL', 'RAP', 'POP ROCK', 'POP MUSIC', 'PARTIDO ALTO', 'JAZZ', 'INSTRUMENTAL', 'GOSPEL', 'FREVO', 'FORRO', 'EVANGELICA', 'ELECTRONIC', 'DANCE MUSIC', 'COUNTRY', 'CLASSICA', 'CHORO', 'CATOLICO', 'CALYPSO', 'BOSSA NOVA', 'BOLERO', 'BLUES', 'BALADA', 'BAIAO', 'AXE MUSIC']\n"
     ]
    }
   ],
   "source": [
    "\n",
    "fon_by_genres = {}\n",
    "\n",
    "files_path = os.path.join(dir_out_results,'**/*.h5')\n",
    "\n",
    "for filepath in glob.iglob(files_path, recursive = True):\n",
    "    \n",
    "    print(filepath)\n",
    "    \n",
    "    fonogram = dd.io.load(filepath)\n",
    "    filename = fonogram['filename']\n",
    "    \n",
    "    path = filename.split(os.path.sep)\n",
    "    genre = path[-2]\n",
    "    #file = os.path.splitext(os.path.basename(filename))[0]\n",
    "\n",
    "    if not genre in list(fon_by_genres.keys()):\n",
    "        fon_by_genres[genre] = []\n",
    "        \n",
    "    fon_by_genres[genre].append(filepath)\n",
    "    \n",
    "    \n",
    "print(list(fon_by_genres.keys()))"
   ]
  },
  {
   "cell_type": "markdown",
   "metadata": {},
   "source": [
    "## Cria vetor de likelihoods"
   ]
  },
  {
   "cell_type": "code",
   "execution_count": 61,
   "metadata": {},
   "outputs": [],
   "source": [
    "genres = list(fon_by_genres.keys())\n",
    "\n",
    "seq_fon = [] \n",
    "seq_genres = []\n",
    "likelihood = []\n",
    "penultimate = []\n",
    "\n",
    "for g in genres:\n",
    "    for f in fon_by_genres[g]:\n",
    "        \n",
    "        fonogram = dd.io.load(f)\n",
    "        LLK = fonogram['likelihood']\n",
    "        embedded = fonogram['features']['penultimate']\n",
    "        \n",
    "        seq_fon.append(os.path.basename(fonogram['filename']))\n",
    "        seq_genres.append(g)\n",
    "        \n",
    "        likelihood.append(LLK) #[tags_idx['genre']])\n",
    "        penultimate.append(embedded)\n",
    "        \n",
    "        \n",
    "likelihood = np.asarray(likelihood)\n",
    "penultimate = np.asarray(penultimate)\n"
   ]
  },
  {
   "cell_type": "code",
   "execution_count": 74,
   "metadata": {
    "scrolled": true
   },
   "outputs": [
    {
     "name": "stderr",
     "output_type": "stream",
     "text": [
      "/home/dirceusilva/.pyenv/versions/3.7.8/envs/article/lib/python3.7/site-packages/deepdish/io/hdf5io.py:251: FutureWarning: The Panel class is removed from pandas. Accessing it from the top-level namespace will also be removed in the next version\n",
      "  elif _pandas and isinstance(level, (pd.DataFrame, pd.Series, pd.Panel)):\n"
     ]
    }
   ],
   "source": [
    "dd.io.save('vectors_' + model_type + '.npy',(likelihood,penultimate, seq_fon, seq_genres))\n",
    "\n"
   ]
  },
  {
   "cell_type": "markdown",
   "metadata": {},
   "source": [
    "## Leitura Arquivos"
   ]
  },
  {
   "cell_type": "code",
   "execution_count": 77,
   "metadata": {
    "scrolled": true
   },
   "outputs": [
    {
     "name": "stdout",
     "output_type": "stream",
     "text": [
      "(39, 200)\n",
      "840\n",
      "['Piano Tenso', 'Piano Tenso', 'Piano Tenso', 'Piano Tenso', 'Piano Tenso', 'Piano Tenso', 'Piano Tenso', 'Piano Tenso', 'Piano Tenso', 'Piano Tenso']\n"
     ]
    }
   ],
   "source": [
    "likelihood,penultimate, seq_fon, seq_genres = dd.io.load('vectors_' + model_type + '.npy')\n",
    "    \n",
    "print(penultimate[0].shape)\n",
    "print(len(seq_fon))"
   ]
  },
  {
   "cell_type": "markdown",
   "metadata": {},
   "source": [
    "## Normalização"
   ]
  },
  {
   "cell_type": "code",
   "execution_count": null,
   "metadata": {},
   "outputs": [],
   "source": [
    "likelihood = minmax_scale(likelihood, axis=1)"
   ]
  },
  {
   "cell_type": "markdown",
   "metadata": {},
   "source": [
    "## Cálculo conforme artigo DA-Tacos"
   ]
  },
  {
   "cell_type": "code",
   "execution_count": 73,
   "metadata": {},
   "outputs": [],
   "source": [
    "def f_measure(u,v, pct=1.0, topN=10):\n",
    "    \n",
    "    u_idx = u.argsort()[-topN:][::-1]\n",
    "    v_idx = v.argsort()[-topN:][::-1]\n",
    "    \n",
    "    #u_pct = np.percentile(u, 90)\n",
    "    #v_pct = np.percentile(v, 90)\n",
    "        \n",
    "    #u_idx = list(np.where(u >= pct)[0])   \n",
    "    #v_idx = list(np.where(v >= pct)[0])\n",
    "\n",
    "    common = set(u_idx).intersection(v_idx)\n",
    "    \n",
    "    if len(common) > 0:\n",
    "        if len(u) > 0 and len(v) > 0:\n",
    "            p = len(common)/len(u_idx)\n",
    "            r = len(common)/len(v_idx)\n",
    "        else:\n",
    "            return 0.0\n",
    "    \n",
    "        return 2*p*r/(p+r) \n",
    "    else:\n",
    "        return 0.0\n",
    "\n",
    "\n",
    "def fmetric(p,top):\n",
    "    return lambda u, v: f_measure(u,v,p,top)\n"
   ]
  },
  {
   "cell_type": "markdown",
   "metadata": {},
   "source": [
    "## Cálculo de Distância e cria vetor de true_scores e false_scores"
   ]
  },
  {
   "cell_type": "code",
   "execution_count": 55,
   "metadata": {
    "scrolled": false
   },
   "outputs": [],
   "source": [
    "pct = np.percentile(likelihood.flatten(), 90)\n",
    "topN = 10\n",
    "\n",
    "D = squareform(pdist(likelihood, metric='euclidean'))\n",
    "\n",
    "same = []\n",
    "impostor = []\n",
    "\n",
    "for i in range(D.shape[0]):\n",
    "    for j in range(i+1,D.shape[1]):\n",
    "        if seq_genres[i] == seq_genres[j]:\n",
    "            same.append(D[i,j])\n",
    "        else:\n",
    "            impostor.append(D[i,j])\n",
    "\n",
    "            \n",
    "true_scores = np.array(same)\n",
    "false_scores = np.array(impostor)"
   ]
  },
  {
   "cell_type": "markdown",
   "metadata": {},
   "source": [
    "## Funções para plotagem do DET"
   ]
  },
  {
   "cell_type": "code",
   "execution_count": 56,
   "metadata": {},
   "outputs": [],
   "source": [
    "def __DETsort__(x, col=''):\n",
    "    \"\"\"DETsort Sort rows, the first in ascending, the remaining in descending\n",
    "    thereby postponing the false alarms on like scores.\n",
    "    based on SORTROWS\n",
    "    \n",
    "    :param x: the array to sort\n",
    "    :param col: not used here\n",
    "\n",
    "    :return: a sorted vector of scores\n",
    "    \"\"\"\n",
    "    assert x.ndim > 1, 'x must be a 2D matrix'\n",
    "    if col == '':\n",
    "        list(range(1, x.shape[1]))\n",
    "\n",
    "    ndx = np.arange(x.shape[0])\n",
    "\n",
    "    # sort 2nd column ascending\n",
    "    ind = np.argsort(x[:, 1], kind='mergesort')\n",
    "    ndx = ndx[ind]\n",
    "\n",
    "    # reverse to descending order\n",
    "    ndx = ndx[::-1]\n",
    "\n",
    "    # now sort first column ascending\n",
    "    ind = np.argsort(x[ndx, 0], kind='mergesort')\n",
    "\n",
    "    ndx = ndx[ind]\n",
    "    sort_scores = x[ndx, :]\n",
    "    return sort_scores\n",
    "\n",
    "def __compute_roc__(true_scores, false_scores):\n",
    "    \"\"\"Computes the (observed) miss/false_alarm probabilities\n",
    "    for a set of detection output scores.\n",
    "    \n",
    "    true_scores (false_scores) are detection output scores for a set of\n",
    "    detection trials, given that the target hypothesis is true (false).\n",
    "    (By convention, the more positive the score,\n",
    "    the more likely is the target hypothesis.)\n",
    "    \n",
    "    :param true_scores: a 1D array of target scores\n",
    "    :param false_scores: a 1D array of non-target scores\n",
    "\n",
    "    :return: a tuple of two vectors, Pmiss,Pfa\n",
    "    \"\"\"\n",
    "    num_true = true_scores.shape[0]\n",
    "    num_false = false_scores.shape[0]\n",
    "    assert num_true > 0, \"Vector of target scores is empty\"\n",
    "    assert num_false > 0, \"Vector of nontarget scores is empty\"\n",
    "\n",
    "    total = num_true + num_false\n",
    "\n",
    "    Pmiss = np.zeros((total + 1))\n",
    "    Pfa = np.zeros((total + 1))\n",
    "\n",
    "    scores = np.zeros((total, 2))\n",
    "    scores[:num_false, 0] = false_scores\n",
    "    scores[:num_false, 1] = 0\n",
    "    scores[num_false:, 0] = true_scores\n",
    "    scores[num_false:, 1] = 1\n",
    "\n",
    "    scores = __DETsort__(scores)\n",
    "\n",
    "    sumtrue = np.cumsum(scores[:, 1], axis=0)\n",
    "    sumfalse = num_false - (np.arange(1, total + 1) - sumtrue)\n",
    "\n",
    "    Pmiss[0] = 0\n",
    "    Pfa[0] = 1\n",
    "    Pmiss[1:] = sumtrue / num_true\n",
    "    Pfa[1:] = sumfalse / num_false\n",
    "    return Pmiss, Pfa\n",
    "\n",
    "def DETCurve(true_scores, false_scores):\n",
    "    \"\"\"\n",
    "    Given false positive and false negative rates, produce a DET Curve.\n",
    "    The false positive rate is assumed to be increasing while the false\n",
    "    negative rate is assumed to be decreasing.\n",
    "    \"\"\"\n",
    "\n",
    "    fns, fps = __compute_roc__(true_scores, false_scores)\n",
    "\n",
    "    axis_min = min(fps[0],fns[-1])\n",
    "\n",
    "    #plt.figure()\n",
    "    fig,ax = plt.subplots()\n",
    "    plt.plot(fps,fns)\n",
    "    plt.yscale('log')\n",
    "    plt.xscale('log')\n",
    "    ticks_to_use = [0.001,0.002,0.005,0.01,0.02,0.05,0.1,0.2,0.5,1,2,5,10,20,50]\n",
    "    ax.get_xaxis().set_major_formatter(matplotlib.ticker.ScalarFormatter())\n",
    "    ax.get_yaxis().set_major_formatter(matplotlib.ticker.ScalarFormatter())\n",
    "    ax.set_xticks(ticks_to_use)\n",
    "    ax.set_yticks(ticks_to_use)\n",
    "    plt.axis([0.001,50,0.001,50])"
   ]
  },
  {
   "cell_type": "markdown",
   "metadata": {},
   "source": [
    "## Ploagem da curva DET"
   ]
  },
  {
   "cell_type": "code",
   "execution_count": 57,
   "metadata": {
    "scrolled": true
   },
   "outputs": [
    {
     "data": {
      "image/png": "[encoded data removed]",
      "text/plain": [
       "<Figure size 720x576 with 1 Axes>"
      ]
     },
     "metadata": {
      "needs_background": "light"
     },
     "output_type": "display_data"
    }
   ],
   "source": [
    " \n",
    "    \n",
    "# same_bin = np.zeros((len(same),))\n",
    "# impostor_bin = np.ones((len(impostor),))\n",
    "\n",
    "# y_true = np.concatenate((same_bin,impostor_bin))\n",
    "# y_score = np.concatenate((np.array(same),np.array(impostor)))\n",
    "\n",
    "DETCurve(true_scores, false_scores)\n",
    "\n",
    "#plt.show()"
   ]
  },
  {
   "cell_type": "markdown",
   "metadata": {},
   "source": [
    "## Plotagem de histograma"
   ]
  },
  {
   "cell_type": "code",
   "execution_count": 59,
   "metadata": {
    "scrolled": true
   },
   "outputs": [
    {
     "data": {
      "image/png": "[encoded data removed]",
      "text/plain": [
       "<Figure size 720x576 with 1 Axes>"
      ]
     },
     "metadata": {
      "needs_background": "light"
     },
     "output_type": "display_data"
    }
   ],
   "source": [
    "\n",
    "plt.figure()\n",
    "\n",
    "plt.rcParams[\"figure.figsize\"] = (10,8) \n",
    "\n",
    "\n",
    "minbin, maxbin = 0.0,1.0\n",
    "bins = np.linspace(minbin, maxbin, 50)\n",
    "\n",
    "kwargs = dict(histtype='stepfilled', alpha=0.3, density=True, bins=bins, ec=\"k\")\n",
    "\n",
    "plt.hist(true_scores,label='true', **kwargs)\n",
    "plt.hist(false_scores,label='false', **kwargs)\n",
    "plt.legend(loc='upper left')\n",
    "plt.title('Distances')\n",
    "\n",
    "plt.show()\n"
   ]
  },
  {
   "cell_type": "code",
   "execution_count": null,
   "metadata": {},
   "outputs": [],
   "source": []
  },
  {
   "cell_type": "code",
   "execution_count": null,
   "metadata": {},
   "outputs": [],
   "source": [
    "in_length = 3 # seconds  by default, the model takes inputs of 3 seconds with no overlap\n",
    "\n",
    "plt.rcParams[\"figure.figsize\"] = (10,8) # set size of the figures\n",
    "fontsize = 12 # set figures font size"
   ]
  },
  {
   "cell_type": "code",
   "execution_count": null,
   "metadata": {
    "scrolled": true
   },
   "outputs": [],
   "source": [
    "fig, ax = plt.subplots()\n",
    "\n",
    "taggram = results[0]['taggram']\n",
    "tags = results[0]['tags']\n",
    "\n",
    "# title\n",
    "ax.title.set_text('Taggram')\n",
    "ax.title.set_fontsize(fontsize)\n",
    "\n",
    "# x-axis title\n",
    "ax.set_xlabel('(seconds)', fontsize=fontsize)\n",
    "\n",
    "# y-axis\n",
    "y_pos = np.arange(len(tags))\n",
    "ax.set_yticks(y_pos)\n",
    "ax.set_yticklabels(tags, fontsize=fontsize-1)\n",
    "\n",
    "# x-axis\n",
    "x_pos = np.arange(taggram.shape[0])\n",
    "x_label = np.arange(in_length/2, in_length*taggram.shape[0], 3)\n",
    "ax.set_xticks(x_pos)\n",
    "ax.set_xticklabels(x_label, fontsize=fontsize)\n",
    "\n",
    "# depict taggram\n",
    "ax.imshow(taggram.T, interpolation=None, aspect=\"auto\")\n",
    "plt.show()"
   ]
  },
  {
   "cell_type": "markdown",
   "metadata": {},
   "source": [
    "----------------------------------\n",
    "### How did we compute the top3 tags?\n",
    "\n",
    "Note that the Taggram can be interpreted as the temporal evolution of the tags likelihood.\n",
    "\n",
    "From the Taggram, we can compute the **song-level tags likelihood** by simply averaging through time:"
   ]
  },
  {
   "cell_type": "code",
   "execution_count": null,
   "metadata": {},
   "outputs": [],
   "source": [
    "tags_likelihood_mean = np.mean(taggram, axis=0) # averaging the Taggram through time "
   ]
  },
  {
   "cell_type": "markdown",
   "metadata": {},
   "source": [
    "This song-level tags likelihood has the following shape:"
   ]
  },
  {
   "cell_type": "code",
   "execution_count": null,
   "metadata": {},
   "outputs": [],
   "source": [
    "fig, ax = plt.subplots()\n",
    "\n",
    "# title\n",
    "ax.title.set_text('Tags likelihood (mean of the taggram)')\n",
    "ax.title.set_fontsize(fontsize)\n",
    "\n",
    "# y-axis title\n",
    "ax.set_ylabel('(likelihood)', fontsize=fontsize)\n",
    "\n",
    "# y-axis\n",
    "ax.set_ylim((0, 1))\n",
    "ax.tick_params(axis=\"y\", labelsize=fontsize)\n",
    "\n",
    "# x-axis\n",
    "ax.tick_params(axis=\"x\", labelsize=fontsize-1)\n",
    "pos = np.arange(len(tags))\n",
    "ax.set_xticks(pos)\n",
    "ax.set_xticklabels(tags, rotation=90)\n",
    "\n",
    "# depict song-level tags likelihood\n",
    "ax.bar(pos, tags_likelihood_mean)\n",
    "plt.show()"
   ]
  },
  {
   "cell_type": "markdown",
   "metadata": {},
   "source": [
    "From the above tags likelihood, the `top_tag()` function computes the **top3** tags."
   ]
  }
 ],
 "metadata": {
  "kernelspec": {
   "display_name": "Python 3",
   "language": "python",
   "name": "python3"
  },
  "language_info": {
   "codemirror_mode": {
    "name": "ipython",
    "version": 3
   },
   "file_extension": ".py",
   "mimetype": "text/x-python",
   "name": "python",
   "nbconvert_exporter": "python",
   "pygments_lexer": "ipython3",
   "version": "3.7.8"
  }
 },
 "nbformat": 4,
 "nbformat_minor": 2
}
